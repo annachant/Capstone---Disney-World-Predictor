{
 "cells": [
  {
   "cell_type": "markdown",
   "metadata": {},
   "source": [
    "# Exploratory Data Analysis"
   ]
  },
  {
   "cell_type": "markdown",
   "metadata": {},
   "source": [
    "#### Importing Necessary Libraries"
   ]
  },
  {
   "cell_type": "code",
   "execution_count": 12,
   "metadata": {},
   "outputs": [],
   "source": [
    "import seaborn as sns\n",
    "import math as math\n",
    "from random import gauss as gs\n",
    "import pandas as pd\n",
    "import numpy as np\n",
    "import matplotlib.pyplot as plt\n",
    "from sklearn.metrics import mean_squared_error\n",
    "from sklearn.linear_model import LinearRegression\n",
    "import itertools\n",
    "from pmdarima import auto_arima\n",
    "\n",
    "#statsmodels\n",
    "from statsmodels.tsa.arima.model import ARIMA\n",
    "from statsmodels.tsa.stattools import acf, pacf\n",
    "from statsmodels.graphics.tsaplots import plot_acf, plot_pacf\n",
    "from statsmodels.tsa.statespace.sarimax import SARIMAX\n",
    "from statsmodels.tsa.seasonal import seasonal_decompose\n",
    "from statsmodels.tsa.stattools import adfuller\n",
    "from keras.preprocessing.sequence import TimeseriesGenerator"
   ]
  },
  {
   "cell_type": "markdown",
   "metadata": {},
   "source": [
    "### Functions For EDA"
   ]
  },
  {
   "cell_type": "markdown",
   "metadata": {},
   "source": [
    "#### Function for cleaning up -999 when rides are closed"
   ]
  },
  {
   "cell_type": "code",
   "execution_count": 13,
   "metadata": {},
   "outputs": [],
   "source": [
    "def CleanNegatives(df,Tag,CleanName):\n",
    "    InBlock = False  # Tags that I am inside of a -999 block\n",
    "    Start = 0\n",
    "    End   = 0\n",
    "    Clean = df[Tag]\n",
    "    for Index in range(len(Clean)):\n",
    "        if InBlock:\n",
    "            if Clean[Index] > 0: # Exit condition \n",
    "                End = Index\n",
    "                InBlock = False\n",
    "                AVG = (Clean[Start-1]+Clean[End])/2\n",
    "                # Cleaning negatives, replacing by average at the endpoints of the block\n",
    "                for NewIndex in range(Start,End):\n",
    "                    Clean[NewIndex] = AVG\n",
    "        else:  # Not In the block\n",
    "            if Clean[Index] < 0: # Enter condition\n",
    "                Start = Index\n",
    "                InBlock = True\n",
    "    df[CleanName] = Clean\n",
    "                "
   ]
  },
  {
   "cell_type": "markdown",
   "metadata": {},
   "source": [
    "#### Function for merging columns"
   ]
  },
  {
   "cell_type": "code",
   "execution_count": 14,
   "metadata": {},
   "outputs": [],
   "source": [
    "def Cleanup(df,Tag1,Tag2,ResultTag):\n",
    "    Clean = []\n",
    "    for i in range(len(df)):\n",
    "        Value = ( df[Tag1][i] if not math.isnan(df[Tag1][i]) else df[Tag2][i])\n",
    "        Clean.append(Value)\n",
    "    df[ResultTag] = Clean"
   ]
  },
  {
   "cell_type": "markdown",
   "metadata": {},
   "source": [
    "#### Function to test stationairy"
   ]
  },
  {
   "cell_type": "code",
   "execution_count": 15,
   "metadata": {},
   "outputs": [],
   "source": [
    "def test_stationarity(timeseries, window):\n",
    "    \n",
    "    #Determing rolling statistics\n",
    "    rolmean = timeseries.rolling(window=window).mean()\n",
    "    rolstd = timeseries.rolling(window=window).std()\n",
    "\n",
    "    #Plot rolling statistics:\n",
    "    fig = plt.figure(figsize=(12, 8))\n",
    "    orig = plt.plot(timeseries.iloc[window:], color='blue', label='Original')\n",
    "    mean = plt.plot(rolmean, color='red', label='Rolling Mean')\n",
    "    std = plt.plot(rolstd, color='black', label='Rolling Std')\n",
    "    plt.legend(loc='best')\n",
    "    plt.title('Rolling Mean & Standard Deviation')\n",
    "    plt.show()\n",
    "    \n",
    "    #Perform Dickey-Fuller test:\n",
    "    print('Results of Dickey-Fuller Test:')\n",
    "    dftest = adfuller(timeseries, autolag='AIC')\n",
    "    dfoutput = pd.Series(dftest[0:4], index=['Test Statistic',\n",
    "                                             'p-value', '#Lags Used',\n",
    "                                             'Number of Observations Used'])\n",
    "    for key, value in dftest[4].items():\n",
    "        dfoutput['Critical Value (%s)' %key] = value\n",
    "    print (dfoutput)"
   ]
  },
  {
   "cell_type": "markdown",
   "metadata": {},
   "source": [
    "## MAGIC KINGDOM"
   ]
  },
  {
   "cell_type": "markdown",
   "metadata": {},
   "source": [
    "### 7 Dwarfs Mine Train"
   ]
  },
  {
   "cell_type": "code",
   "execution_count": 16,
   "metadata": {
    "scrolled": true
   },
   "outputs": [
    {
     "data": {
      "text/html": [
       "<div>\n",
       "<style scoped>\n",
       "    .dataframe tbody tr th:only-of-type {\n",
       "        vertical-align: middle;\n",
       "    }\n",
       "\n",
       "    .dataframe tbody tr th {\n",
       "        vertical-align: top;\n",
       "    }\n",
       "\n",
       "    .dataframe thead th {\n",
       "        text-align: right;\n",
       "    }\n",
       "</style>\n",
       "<table border=\"1\" class=\"dataframe\">\n",
       "  <thead>\n",
       "    <tr style=\"text-align: right;\">\n",
       "      <th></th>\n",
       "      <th>date</th>\n",
       "      <th>datetime</th>\n",
       "      <th>SACTMIN</th>\n",
       "      <th>SPOSTMIN</th>\n",
       "    </tr>\n",
       "  </thead>\n",
       "  <tbody>\n",
       "    <tr>\n",
       "      <th>0</th>\n",
       "      <td>01/01/2015</td>\n",
       "      <td>2015-01-01 07:51:12</td>\n",
       "      <td>NaN</td>\n",
       "      <td>45.0</td>\n",
       "    </tr>\n",
       "    <tr>\n",
       "      <th>1</th>\n",
       "      <td>01/01/2015</td>\n",
       "      <td>2015-01-01 08:02:13</td>\n",
       "      <td>NaN</td>\n",
       "      <td>60.0</td>\n",
       "    </tr>\n",
       "    <tr>\n",
       "      <th>2</th>\n",
       "      <td>01/01/2015</td>\n",
       "      <td>2015-01-01 08:05:30</td>\n",
       "      <td>54.0</td>\n",
       "      <td>NaN</td>\n",
       "    </tr>\n",
       "    <tr>\n",
       "      <th>3</th>\n",
       "      <td>01/01/2015</td>\n",
       "      <td>2015-01-01 08:09:12</td>\n",
       "      <td>NaN</td>\n",
       "      <td>60.0</td>\n",
       "    </tr>\n",
       "    <tr>\n",
       "      <th>4</th>\n",
       "      <td>01/01/2015</td>\n",
       "      <td>2015-01-01 08:16:12</td>\n",
       "      <td>NaN</td>\n",
       "      <td>60.0</td>\n",
       "    </tr>\n",
       "    <tr>\n",
       "      <th>...</th>\n",
       "      <td>...</td>\n",
       "      <td>...</td>\n",
       "      <td>...</td>\n",
       "      <td>...</td>\n",
       "    </tr>\n",
       "    <tr>\n",
       "      <th>321626</th>\n",
       "      <td>12/28/2021</td>\n",
       "      <td>2021-12-28 22:42:15</td>\n",
       "      <td>NaN</td>\n",
       "      <td>45.0</td>\n",
       "    </tr>\n",
       "    <tr>\n",
       "      <th>321627</th>\n",
       "      <td>12/28/2021</td>\n",
       "      <td>2021-12-28 22:48:12</td>\n",
       "      <td>NaN</td>\n",
       "      <td>45.0</td>\n",
       "    </tr>\n",
       "    <tr>\n",
       "      <th>321628</th>\n",
       "      <td>12/28/2021</td>\n",
       "      <td>2021-12-28 22:54:10</td>\n",
       "      <td>NaN</td>\n",
       "      <td>45.0</td>\n",
       "    </tr>\n",
       "    <tr>\n",
       "      <th>321629</th>\n",
       "      <td>12/28/2021</td>\n",
       "      <td>2021-12-28 22:54:28</td>\n",
       "      <td>10.0</td>\n",
       "      <td>NaN</td>\n",
       "    </tr>\n",
       "    <tr>\n",
       "      <th>321630</th>\n",
       "      <td>12/28/2021</td>\n",
       "      <td>2021-12-28 22:57:34</td>\n",
       "      <td>NaN</td>\n",
       "      <td>35.0</td>\n",
       "    </tr>\n",
       "  </tbody>\n",
       "</table>\n",
       "<p>321631 rows × 4 columns</p>\n",
       "</div>"
      ],
      "text/plain": [
       "              date             datetime  SACTMIN  SPOSTMIN\n",
       "0       01/01/2015  2015-01-01 07:51:12      NaN      45.0\n",
       "1       01/01/2015  2015-01-01 08:02:13      NaN      60.0\n",
       "2       01/01/2015  2015-01-01 08:05:30     54.0       NaN\n",
       "3       01/01/2015  2015-01-01 08:09:12      NaN      60.0\n",
       "4       01/01/2015  2015-01-01 08:16:12      NaN      60.0\n",
       "...            ...                  ...      ...       ...\n",
       "321626  12/28/2021  2021-12-28 22:42:15      NaN      45.0\n",
       "321627  12/28/2021  2021-12-28 22:48:12      NaN      45.0\n",
       "321628  12/28/2021  2021-12-28 22:54:10      NaN      45.0\n",
       "321629  12/28/2021  2021-12-28 22:54:28     10.0       NaN\n",
       "321630  12/28/2021  2021-12-28 22:57:34      NaN      35.0\n",
       "\n",
       "[321631 rows x 4 columns]"
      ]
     },
     "execution_count": 16,
     "metadata": {},
     "output_type": "execute_result"
    }
   ],
   "source": [
    "df_mk_7dwarfs = pd.read_csv(\"data/7_dwarfs_train.csv\")\n",
    "df_mk_7dwarfs"
   ]
  },
  {
   "cell_type": "markdown",
   "metadata": {},
   "source": [
    "#### Cleaning up data: Removing -999. Taking average of day before and after"
   ]
  },
  {
   "cell_type": "code",
   "execution_count": 17,
   "metadata": {},
   "outputs": [
    {
     "name": "stderr",
     "output_type": "stream",
     "text": [
      "<ipython-input-13-778444a50a5f>:14: SettingWithCopyWarning: \n",
      "A value is trying to be set on a copy of a slice from a DataFrame\n",
      "\n",
      "See the caveats in the documentation: https://pandas.pydata.org/pandas-docs/stable/user_guide/indexing.html#returning-a-view-versus-a-copy\n",
      "  Clean[NewIndex] = AVG\n"
     ]
    },
    {
     "name": "stdout",
     "output_type": "stream",
     "text": [
      "              date             datetime  SACTMIN  SPOSTMIN  SPOSTMINClean\n",
      "0       01/01/2015  2015-01-01 07:51:12      NaN      45.0           45.0\n",
      "1       01/01/2015  2015-01-01 08:02:13      NaN      60.0           60.0\n",
      "2       01/01/2015  2015-01-01 08:05:30     54.0       NaN            NaN\n",
      "3       01/01/2015  2015-01-01 08:09:12      NaN      60.0           60.0\n",
      "4       01/01/2015  2015-01-01 08:16:12      NaN      60.0           60.0\n",
      "...            ...                  ...      ...       ...            ...\n",
      "321626  12/28/2021  2021-12-28 22:42:15      NaN      45.0           45.0\n",
      "321627  12/28/2021  2021-12-28 22:48:12      NaN      45.0           45.0\n",
      "321628  12/28/2021  2021-12-28 22:54:10      NaN      45.0           45.0\n",
      "321629  12/28/2021  2021-12-28 22:54:28     10.0       NaN            NaN\n",
      "321630  12/28/2021  2021-12-28 22:57:34      NaN      35.0           35.0\n",
      "\n",
      "[321631 rows x 5 columns]\n"
     ]
    }
   ],
   "source": [
    "CleanNegatives(df_mk_7dwarfs,'SPOSTMIN','SPOSTMINClean')\n",
    "print(df_mk_7dwarfs)"
   ]
  },
  {
   "cell_type": "markdown",
   "metadata": {},
   "source": [
    "#### Merging columns"
   ]
  },
  {
   "cell_type": "code",
   "execution_count": 18,
   "metadata": {},
   "outputs": [
    {
     "name": "stdout",
     "output_type": "stream",
     "text": [
      "              date             datetime  SACTMIN  SPOSTMIN  SPOSTMINClean  \\\n",
      "0       01/01/2015  2015-01-01 07:51:12      NaN      45.0           45.0   \n",
      "1       01/01/2015  2015-01-01 08:02:13      NaN      60.0           60.0   \n",
      "2       01/01/2015  2015-01-01 08:05:30     54.0       NaN            NaN   \n",
      "3       01/01/2015  2015-01-01 08:09:12      NaN      60.0           60.0   \n",
      "4       01/01/2015  2015-01-01 08:16:12      NaN      60.0           60.0   \n",
      "...            ...                  ...      ...       ...            ...   \n",
      "321626  12/28/2021  2021-12-28 22:42:15      NaN      45.0           45.0   \n",
      "321627  12/28/2021  2021-12-28 22:48:12      NaN      45.0           45.0   \n",
      "321628  12/28/2021  2021-12-28 22:54:10      NaN      45.0           45.0   \n",
      "321629  12/28/2021  2021-12-28 22:54:28     10.0       NaN            NaN   \n",
      "321630  12/28/2021  2021-12-28 22:57:34      NaN      35.0           35.0   \n",
      "\n",
      "        CleanTime  \n",
      "0            45.0  \n",
      "1            60.0  \n",
      "2            54.0  \n",
      "3            60.0  \n",
      "4            60.0  \n",
      "...           ...  \n",
      "321626       45.0  \n",
      "321627       45.0  \n",
      "321628       45.0  \n",
      "321629       10.0  \n",
      "321630       35.0  \n",
      "\n",
      "[321631 rows x 6 columns]\n"
     ]
    }
   ],
   "source": [
    "Cleanup(df_mk_7dwarfs,'SACTMIN','SPOSTMINClean','CleanTime')\n",
    "print(df_mk_7dwarfs)"
   ]
  },
  {
   "cell_type": "code",
   "execution_count": 19,
   "metadata": {},
   "outputs": [
    {
     "data": {
      "text/html": [
       "<div>\n",
       "<style scoped>\n",
       "    .dataframe tbody tr th:only-of-type {\n",
       "        vertical-align: middle;\n",
       "    }\n",
       "\n",
       "    .dataframe tbody tr th {\n",
       "        vertical-align: top;\n",
       "    }\n",
       "\n",
       "    .dataframe thead th {\n",
       "        text-align: right;\n",
       "    }\n",
       "</style>\n",
       "<table border=\"1\" class=\"dataframe\">\n",
       "  <thead>\n",
       "    <tr style=\"text-align: right;\">\n",
       "      <th></th>\n",
       "      <th>date</th>\n",
       "      <th>datetime</th>\n",
       "      <th>SACTMIN</th>\n",
       "      <th>SPOSTMIN</th>\n",
       "      <th>SPOSTMINClean</th>\n",
       "      <th>CleanTime</th>\n",
       "    </tr>\n",
       "  </thead>\n",
       "  <tbody>\n",
       "    <tr>\n",
       "      <th>105109</th>\n",
       "      <td>02/20/2017</td>\n",
       "      <td>2017-02-20 09:04:37</td>\n",
       "      <td>-92918.0</td>\n",
       "      <td>NaN</td>\n",
       "      <td>NaN</td>\n",
       "      <td>-92918.0</td>\n",
       "    </tr>\n",
       "  </tbody>\n",
       "</table>\n",
       "</div>"
      ],
      "text/plain": [
       "              date             datetime  SACTMIN  SPOSTMIN  SPOSTMINClean  \\\n",
       "105109  02/20/2017  2017-02-20 09:04:37 -92918.0       NaN            NaN   \n",
       "\n",
       "        CleanTime  \n",
       "105109   -92918.0  "
      ]
     },
     "execution_count": 19,
     "metadata": {},
     "output_type": "execute_result"
    }
   ],
   "source": [
    "df_mk_7dwarfs[df_mk_7dwarfs.CleanTime < 0]"
   ]
  },
  {
   "cell_type": "code",
   "execution_count": 20,
   "metadata": {},
   "outputs": [],
   "source": [
    "df_mk_7dwarfs = df_mk_7dwarfs[df_mk_7dwarfs['CleanTime'] >= 0]"
   ]
  },
  {
   "cell_type": "code",
   "execution_count": 21,
   "metadata": {},
   "outputs": [
    {
     "data": {
      "text/html": [
       "<div>\n",
       "<style scoped>\n",
       "    .dataframe tbody tr th:only-of-type {\n",
       "        vertical-align: middle;\n",
       "    }\n",
       "\n",
       "    .dataframe tbody tr th {\n",
       "        vertical-align: top;\n",
       "    }\n",
       "\n",
       "    .dataframe thead th {\n",
       "        text-align: right;\n",
       "    }\n",
       "</style>\n",
       "<table border=\"1\" class=\"dataframe\">\n",
       "  <thead>\n",
       "    <tr style=\"text-align: right;\">\n",
       "      <th></th>\n",
       "      <th>date</th>\n",
       "      <th>datetime</th>\n",
       "      <th>SACTMIN</th>\n",
       "      <th>SPOSTMIN</th>\n",
       "      <th>SPOSTMINClean</th>\n",
       "      <th>CleanTime</th>\n",
       "    </tr>\n",
       "  </thead>\n",
       "  <tbody>\n",
       "  </tbody>\n",
       "</table>\n",
       "</div>"
      ],
      "text/plain": [
       "Empty DataFrame\n",
       "Columns: [date, datetime, SACTMIN, SPOSTMIN, SPOSTMINClean, CleanTime]\n",
       "Index: []"
      ]
     },
     "execution_count": 21,
     "metadata": {},
     "output_type": "execute_result"
    }
   ],
   "source": [
    "df_mk_7dwarfs[df_mk_7dwarfs.CleanTime < 0]"
   ]
  },
  {
   "cell_type": "code",
   "execution_count": 22,
   "metadata": {
    "scrolled": true
   },
   "outputs": [
    {
     "data": {
      "text/html": [
       "<div>\n",
       "<style scoped>\n",
       "    .dataframe tbody tr th:only-of-type {\n",
       "        vertical-align: middle;\n",
       "    }\n",
       "\n",
       "    .dataframe tbody tr th {\n",
       "        vertical-align: top;\n",
       "    }\n",
       "\n",
       "    .dataframe thead th {\n",
       "        text-align: right;\n",
       "    }\n",
       "</style>\n",
       "<table border=\"1\" class=\"dataframe\">\n",
       "  <thead>\n",
       "    <tr style=\"text-align: right;\">\n",
       "      <th></th>\n",
       "      <th>date</th>\n",
       "      <th>datetime</th>\n",
       "      <th>SACTMIN</th>\n",
       "      <th>SPOSTMIN</th>\n",
       "      <th>SPOSTMINClean</th>\n",
       "      <th>CleanTime</th>\n",
       "    </tr>\n",
       "  </thead>\n",
       "  <tbody>\n",
       "    <tr>\n",
       "      <th>0</th>\n",
       "      <td>01/01/2015</td>\n",
       "      <td>2015-01-01 07:51:12</td>\n",
       "      <td>NaN</td>\n",
       "      <td>45.0</td>\n",
       "      <td>45.0</td>\n",
       "      <td>45.0</td>\n",
       "    </tr>\n",
       "    <tr>\n",
       "      <th>1</th>\n",
       "      <td>01/01/2015</td>\n",
       "      <td>2015-01-01 08:02:13</td>\n",
       "      <td>NaN</td>\n",
       "      <td>60.0</td>\n",
       "      <td>60.0</td>\n",
       "      <td>60.0</td>\n",
       "    </tr>\n",
       "    <tr>\n",
       "      <th>2</th>\n",
       "      <td>01/01/2015</td>\n",
       "      <td>2015-01-01 08:05:30</td>\n",
       "      <td>54.0</td>\n",
       "      <td>NaN</td>\n",
       "      <td>NaN</td>\n",
       "      <td>54.0</td>\n",
       "    </tr>\n",
       "    <tr>\n",
       "      <th>3</th>\n",
       "      <td>01/01/2015</td>\n",
       "      <td>2015-01-01 08:09:12</td>\n",
       "      <td>NaN</td>\n",
       "      <td>60.0</td>\n",
       "      <td>60.0</td>\n",
       "      <td>60.0</td>\n",
       "    </tr>\n",
       "    <tr>\n",
       "      <th>4</th>\n",
       "      <td>01/01/2015</td>\n",
       "      <td>2015-01-01 08:16:12</td>\n",
       "      <td>NaN</td>\n",
       "      <td>60.0</td>\n",
       "      <td>60.0</td>\n",
       "      <td>60.0</td>\n",
       "    </tr>\n",
       "    <tr>\n",
       "      <th>...</th>\n",
       "      <td>...</td>\n",
       "      <td>...</td>\n",
       "      <td>...</td>\n",
       "      <td>...</td>\n",
       "      <td>...</td>\n",
       "      <td>...</td>\n",
       "    </tr>\n",
       "    <tr>\n",
       "      <th>321626</th>\n",
       "      <td>12/28/2021</td>\n",
       "      <td>2021-12-28 22:42:15</td>\n",
       "      <td>NaN</td>\n",
       "      <td>45.0</td>\n",
       "      <td>45.0</td>\n",
       "      <td>45.0</td>\n",
       "    </tr>\n",
       "    <tr>\n",
       "      <th>321627</th>\n",
       "      <td>12/28/2021</td>\n",
       "      <td>2021-12-28 22:48:12</td>\n",
       "      <td>NaN</td>\n",
       "      <td>45.0</td>\n",
       "      <td>45.0</td>\n",
       "      <td>45.0</td>\n",
       "    </tr>\n",
       "    <tr>\n",
       "      <th>321628</th>\n",
       "      <td>12/28/2021</td>\n",
       "      <td>2021-12-28 22:54:10</td>\n",
       "      <td>NaN</td>\n",
       "      <td>45.0</td>\n",
       "      <td>45.0</td>\n",
       "      <td>45.0</td>\n",
       "    </tr>\n",
       "    <tr>\n",
       "      <th>321629</th>\n",
       "      <td>12/28/2021</td>\n",
       "      <td>2021-12-28 22:54:28</td>\n",
       "      <td>10.0</td>\n",
       "      <td>NaN</td>\n",
       "      <td>NaN</td>\n",
       "      <td>10.0</td>\n",
       "    </tr>\n",
       "    <tr>\n",
       "      <th>321630</th>\n",
       "      <td>12/28/2021</td>\n",
       "      <td>2021-12-28 22:57:34</td>\n",
       "      <td>NaN</td>\n",
       "      <td>35.0</td>\n",
       "      <td>35.0</td>\n",
       "      <td>35.0</td>\n",
       "    </tr>\n",
       "  </tbody>\n",
       "</table>\n",
       "<p>321524 rows × 6 columns</p>\n",
       "</div>"
      ],
      "text/plain": [
       "              date             datetime  SACTMIN  SPOSTMIN  SPOSTMINClean  \\\n",
       "0       01/01/2015  2015-01-01 07:51:12      NaN      45.0           45.0   \n",
       "1       01/01/2015  2015-01-01 08:02:13      NaN      60.0           60.0   \n",
       "2       01/01/2015  2015-01-01 08:05:30     54.0       NaN            NaN   \n",
       "3       01/01/2015  2015-01-01 08:09:12      NaN      60.0           60.0   \n",
       "4       01/01/2015  2015-01-01 08:16:12      NaN      60.0           60.0   \n",
       "...            ...                  ...      ...       ...            ...   \n",
       "321626  12/28/2021  2021-12-28 22:42:15      NaN      45.0           45.0   \n",
       "321627  12/28/2021  2021-12-28 22:48:12      NaN      45.0           45.0   \n",
       "321628  12/28/2021  2021-12-28 22:54:10      NaN      45.0           45.0   \n",
       "321629  12/28/2021  2021-12-28 22:54:28     10.0       NaN            NaN   \n",
       "321630  12/28/2021  2021-12-28 22:57:34      NaN      35.0           35.0   \n",
       "\n",
       "        CleanTime  \n",
       "0            45.0  \n",
       "1            60.0  \n",
       "2            54.0  \n",
       "3            60.0  \n",
       "4            60.0  \n",
       "...           ...  \n",
       "321626       45.0  \n",
       "321627       45.0  \n",
       "321628       45.0  \n",
       "321629       10.0  \n",
       "321630       35.0  \n",
       "\n",
       "[321524 rows x 6 columns]"
      ]
     },
     "execution_count": 22,
     "metadata": {},
     "output_type": "execute_result"
    }
   ],
   "source": [
    "df_mk_7dwarfs"
   ]
  },
  {
   "cell_type": "code",
   "execution_count": 23,
   "metadata": {},
   "outputs": [],
   "source": [
    "# df_mk_7dwarfs[df_mk_7dwarfs.SPOSTMIN == -999] = np.nan\n"
   ]
  },
  {
   "cell_type": "code",
   "execution_count": 24,
   "metadata": {},
   "outputs": [
    {
     "name": "stderr",
     "output_type": "stream",
     "text": [
      "<ipython-input-24-6e5af379a8a1>:1: SettingWithCopyWarning: \n",
      "A value is trying to be set on a copy of a slice from a DataFrame.\n",
      "Try using .loc[row_indexer,col_indexer] = value instead\n",
      "\n",
      "See the caveats in the documentation: https://pandas.pydata.org/pandas-docs/stable/user_guide/indexing.html#returning-a-view-versus-a-copy\n",
      "  df_mk_7dwarfs['datetime'] = pd.to_datetime(df_mk_7dwarfs.datetime)\n"
     ]
    }
   ],
   "source": [
    "df_mk_7dwarfs['datetime'] = pd.to_datetime(df_mk_7dwarfs.datetime)\n",
    "df_mk_7dwarfs.set_index('datetime', inplace=True)\n"
   ]
  },
  {
   "cell_type": "code",
   "execution_count": 25,
   "metadata": {},
   "outputs": [],
   "source": [
    "df_mk_7dwarfs = df_mk_7dwarfs['CleanTime']"
   ]
  },
  {
   "cell_type": "code",
   "execution_count": 26,
   "metadata": {},
   "outputs": [
    {
     "data": {
      "text/plain": [
       "datetime\n",
       "2015-01-01 07:51:12    45.0\n",
       "2015-01-01 08:02:13    60.0\n",
       "2015-01-01 08:05:30    54.0\n",
       "2015-01-01 08:09:12    60.0\n",
       "2015-01-01 08:16:12    60.0\n",
       "                       ... \n",
       "2021-12-28 22:42:15    45.0\n",
       "2021-12-28 22:48:12    45.0\n",
       "2021-12-28 22:54:10    45.0\n",
       "2021-12-28 22:54:28    10.0\n",
       "2021-12-28 22:57:34    35.0\n",
       "Name: CleanTime, Length: 321524, dtype: float64"
      ]
     },
     "execution_count": 26,
     "metadata": {},
     "output_type": "execute_result"
    }
   ],
   "source": [
    "df_mk_7dwarfs"
   ]
  },
  {
   "cell_type": "code",
   "execution_count": 27,
   "metadata": {},
   "outputs": [
    {
     "data": {
      "text/plain": [
       "0"
      ]
     },
     "execution_count": 27,
     "metadata": {},
     "output_type": "execute_result"
    }
   ],
   "source": [
    "df_mk_7dwarfs.isna().sum()"
   ]
  },
  {
   "cell_type": "code",
   "execution_count": 28,
   "metadata": {},
   "outputs": [],
   "source": [
    "df_mk_7dwarfs_daily = df_mk_7dwarfs.resample('D').mean()"
   ]
  },
  {
   "cell_type": "code",
   "execution_count": 29,
   "metadata": {},
   "outputs": [
    {
     "data": {
      "text/plain": [
       "<AxesSubplot:xlabel='datetime'>"
      ]
     },
     "execution_count": 29,
     "metadata": {},
     "output_type": "execute_result"
    },
    {
     "data": {
      "image/png": "[encoded data removed]",
      "text/plain": [
       "<Figure size 432x288 with 1 Axes>"
      ]
     },
     "metadata": {
      "needs_background": "light"
     },
     "output_type": "display_data"
    }
   ],
   "source": [
    "df_mk_7dwarfs_daily.plot()"
   ]
  },
  {
   "cell_type": "code",
   "execution_count": 30,
   "metadata": {},
   "outputs": [],
   "source": [
    "df_mk_7dwarfs_daily = df_mk_7dwarfs_daily.loc['2015-01-01 07:51:12':'2019-12-31 23:55:02']"
   ]
  },
  {
   "cell_type": "code",
   "execution_count": 31,
   "metadata": {},
   "outputs": [
    {
     "data": {
      "text/plain": [
       "datetime\n",
       "2015-01-02    112.993421\n",
       "2015-01-03    100.469697\n",
       "2015-01-04     79.685039\n",
       "2015-01-05     87.370690\n",
       "2015-01-06     79.066667\n",
       "                 ...    \n",
       "2019-12-27     91.559441\n",
       "2019-12-28     88.639286\n",
       "2019-12-29     93.121429\n",
       "2019-12-30    116.776978\n",
       "2019-12-31    133.416149\n",
       "Freq: D, Name: CleanTime, Length: 1825, dtype: float64"
      ]
     },
     "execution_count": 31,
     "metadata": {},
     "output_type": "execute_result"
    }
   ],
   "source": [
    "df_mk_7dwarfs_daily "
   ]
  },
  {
   "cell_type": "code",
   "execution_count": 32,
   "metadata": {
    "scrolled": true
   },
   "outputs": [
    {
     "data": {
      "text/plain": [
       "datetime\n",
       "2017-09-10   NaN\n",
       "2017-09-11   NaN\n",
       "Freq: D, Name: CleanTime, dtype: float64"
      ]
     },
     "execution_count": 32,
     "metadata": {},
     "output_type": "execute_result"
    }
   ],
   "source": [
    "df_mk_7dwarfs_daily[df_mk_7dwarfs_daily.isna()]"
   ]
  },
  {
   "cell_type": "code",
   "execution_count": 33,
   "metadata": {},
   "outputs": [],
   "source": [
    "# df_mk_7dwarfs_daily = df_mk_7dwarfs_daily.ffill()[(df_mk_7dwarfs_daily.index > '2017-09-10') & (df_mk_7dwarfs_daily.index < '2017-09-11')\n"
   ]
  },
  {
   "cell_type": "code",
   "execution_count": 34,
   "metadata": {},
   "outputs": [],
   "source": [
    "df_mk_7dwarfs_daily = df_mk_7dwarfs_daily.ffill()"
   ]
  },
  {
   "cell_type": "code",
   "execution_count": 35,
   "metadata": {},
   "outputs": [
    {
     "data": {
      "text/plain": [
       "datetime\n",
       "2015-01-02    112.993421\n",
       "2015-01-03    100.469697\n",
       "2015-01-04     79.685039\n",
       "2015-01-05     87.370690\n",
       "2015-01-06     79.066667\n",
       "                 ...    \n",
       "2019-12-27     91.559441\n",
       "2019-12-28     88.639286\n",
       "2019-12-29     93.121429\n",
       "2019-12-30    116.776978\n",
       "2019-12-31    133.416149\n",
       "Freq: D, Name: CleanTime, Length: 1825, dtype: float64"
      ]
     },
     "execution_count": 35,
     "metadata": {},
     "output_type": "execute_result"
    }
   ],
   "source": [
    "df_mk_7dwarfs_daily"
   ]
  },
  {
   "cell_type": "code",
   "execution_count": 36,
   "metadata": {},
   "outputs": [
    {
     "data": {
      "text/plain": [
       "Series([], Freq: D, Name: CleanTime, dtype: float64)"
      ]
     },
     "execution_count": 36,
     "metadata": {},
     "output_type": "execute_result"
    }
   ],
   "source": [
    "df_mk_7dwarfs_daily[df_mk_7dwarfs_daily.isna()]"
   ]
  },
  {
   "cell_type": "code",
   "execution_count": 37,
   "metadata": {
    "scrolled": true
   },
   "outputs": [],
   "source": [
    "# df_mk_7dwarfs = df_mk_7dwarfs[df_mk_7dwarfs.SPOSTMIN != -999]\n",
    "# df_mk_7dwarfs"
   ]
  },
  {
   "cell_type": "code",
   "execution_count": 38,
   "metadata": {
    "scrolled": false
   },
   "outputs": [
    {
     "data": {
      "text/plain": [
       "<AxesSubplot:xlabel='datetime'>"
      ]
     },
     "execution_count": 38,
     "metadata": {},
     "output_type": "execute_result"
    },
    {
     "data": {
      "image/png": "[encoded data removed]",
      "text/plain": [
       "<Figure size 1080x576 with 1 Axes>"
      ]
     },
     "metadata": {
      "needs_background": "light"
     },
     "output_type": "display_data"
    }
   ],
   "source": [
    "df_mk_7dwarfs_daily.plot(figsize=(15,8))"
   ]
  },
  {
   "cell_type": "code",
   "execution_count": 39,
   "metadata": {},
   "outputs": [],
   "source": [
    "# df_mk_7dwarfs[df_mk_7dwarfs.SPOSTMIN == -999] = \"NaN\""
   ]
  },
  {
   "cell_type": "code",
   "execution_count": 40,
   "metadata": {},
   "outputs": [
    {
     "data": {
      "text/plain": [
       "True"
      ]
     },
     "execution_count": 40,
     "metadata": {},
     "output_type": "execute_result"
    }
   ],
   "source": [
    "pvalue = adfuller(df_mk_7dwarfs_daily)[1]\n",
    "is_stationary = pvalue<= .05\n",
    "\n",
    "is_stationary"
   ]
  },
  {
   "cell_type": "code",
   "execution_count": 41,
   "metadata": {},
   "outputs": [
    {
     "data": {
      "image/png": "[encoded data removed]",
      "text/plain": [
       "<Figure size 864x576 with 1 Axes>"
      ]
     },
     "metadata": {
      "needs_background": "light"
     },
     "output_type": "display_data"
    },
    {
     "name": "stdout",
     "output_type": "stream",
     "text": [
      "Results of Dickey-Fuller Test:\n",
      "Test Statistic                   -5.171053\n",
      "p-value                           0.000010\n",
      "#Lags Used                       21.000000\n",
      "Number of Observations Used    1803.000000\n",
      "Critical Value (1%)              -3.433982\n",
      "Critical Value (5%)              -2.863144\n",
      "Critical Value (10%)             -2.567624\n",
      "dtype: float64\n"
     ]
    }
   ],
   "source": [
    "test_stationarity(df_mk_7dwarfs_daily, 4)"
   ]
  },
  {
   "cell_type": "code",
   "execution_count": 42,
   "metadata": {},
   "outputs": [
    {
     "data": {
      "text/plain": [
       "(1825,)"
      ]
     },
     "execution_count": 42,
     "metadata": {},
     "output_type": "execute_result"
    }
   ],
   "source": [
    "df_mk_7dwarfs_daily.shape"
   ]
  },
  {
   "cell_type": "markdown",
   "metadata": {},
   "source": [
    "#### Finding the index which allows us to split off 20% of the data"
   ]
  },
  {
   "cell_type": "code",
   "execution_count": 43,
   "metadata": {},
   "outputs": [
    {
     "data": {
      "text/plain": [
       "1460"
      ]
     },
     "execution_count": 43,
     "metadata": {},
     "output_type": "execute_result"
    }
   ],
   "source": [
    "cutoff = round(df_mk_7dwarfs_daily.shape[0]*0.8)\n",
    "cutoff"
   ]
  },
  {
   "cell_type": "markdown",
   "metadata": {},
   "source": [
    "#### Define train and test sets according to the index found above"
   ]
  },
  {
   "cell_type": "code",
   "execution_count": 44,
   "metadata": {},
   "outputs": [
    {
     "data": {
      "image/png": "[encoded data removed]",
      "text/plain": [
       "<Figure size 432x288 with 1 Axes>"
      ]
     },
     "metadata": {
      "needs_background": "light"
     },
     "output_type": "display_data"
    }
   ],
   "source": [
    "train = df_mk_7dwarfs_daily[:cutoff]\n",
    "test = df_mk_7dwarfs_daily[cutoff:]\n",
    "\n",
    "fig, ax = plt.subplots()\n",
    "ax.plot(train)\n",
    "ax.plot(test)\n",
    "ax.set_title('Train test Split');"
   ]
  },
  {
   "cell_type": "markdown",
   "metadata": {},
   "source": [
    "### Random Walk Model"
   ]
  },
  {
   "cell_type": "code",
   "execution_count": 45,
   "metadata": {},
   "outputs": [
    {
     "data": {
      "text/plain": [
       "datetime\n",
       "2015-01-02           NaN\n",
       "2015-01-03    112.993421\n",
       "2015-01-04    100.469697\n",
       "2015-01-05     79.685039\n",
       "2015-01-06     87.370690\n",
       "                 ...    \n",
       "2018-12-27    108.372159\n",
       "2018-12-28    127.233533\n",
       "2018-12-29    125.554913\n",
       "2018-12-30    107.985876\n",
       "2018-12-31    116.238764\n",
       "Freq: D, Name: CleanTime, Length: 1460, dtype: float64"
      ]
     },
     "execution_count": 45,
     "metadata": {},
     "output_type": "execute_result"
    }
   ],
   "source": [
    "df_mk_7dwarfs_daily_random_walk = train.shift(1)\n",
    "df_mk_7dwarfs_daily_random_walk"
   ]
  },
  {
   "cell_type": "code",
   "execution_count": 46,
   "metadata": {},
   "outputs": [
    {
     "data": {
      "image/png": "[encoded data removed]",
      "text/plain": [
       "<Figure size 432x288 with 1 Axes>"
      ]
     },
     "metadata": {
      "needs_background": "light"
     },
     "output_type": "display_data"
    }
   ],
   "source": [
    "fig, ax = plt.subplots()\n",
    "\n",
    "train[0:30].plot(ax=ax, c='r', label='original')\n",
    "df_mk_7dwarfs_daily_random_walk[0:30].plot(ax=ax, c='b', label='shifted')\n",
    "ax.set_title('Random Walk')\n",
    "ax.legend();"
   ]
  },
  {
   "cell_type": "code",
   "execution_count": 47,
   "metadata": {},
   "outputs": [
    {
     "data": {
      "text/plain": [
       "18.683201111595267"
      ]
     },
     "execution_count": 47,
     "metadata": {},
     "output_type": "execute_result"
    }
   ],
   "source": [
    "np.sqrt(mean_squared_error(train[1:], df_mk_7dwarfs_daily_random_walk.dropna()))"
   ]
  },
  {
   "cell_type": "code",
   "execution_count": 48,
   "metadata": {},
   "outputs": [
    {
     "data": {
      "text/plain": [
       "18.683201111595267"
      ]
     },
     "execution_count": 48,
     "metadata": {},
     "output_type": "execute_result"
    }
   ],
   "source": [
    "residuals = df_mk_7dwarfs_daily_random_walk[1:] - train[1:]\n",
    "mse = (residuals**2).sum()/len(residuals-1)\n",
    "np.sqrt(mse)"
   ]
  },
  {
   "cell_type": "code",
   "execution_count": 49,
   "metadata": {},
   "outputs": [
    {
     "data": {
      "image/png": "[encoded data removed]",
      "text/plain": [
       "<Figure size 432x288 with 1 Axes>"
      ]
     },
     "metadata": {
      "needs_background": "light"
     },
     "output_type": "display_data"
    }
   ],
   "source": [
    "fig, ax = plt.subplots()\n",
    "\n",
    "ax.plot(residuals.index, residuals)\n",
    "ax.plot(residuals.index, residuals.rolling(52).std());"
   ]
  },
  {
   "cell_type": "code",
   "execution_count": 50,
   "metadata": {},
   "outputs": [
    {
     "data": {
      "image/png": "[encoded data removed]",
      "text/plain": [
       "<Figure size 432x288 with 1 Axes>"
      ]
     },
     "metadata": {
      "needs_background": "light"
     },
     "output_type": "display_data"
    }
   ],
   "source": [
    "fig, ax = plt.subplots()\n",
    "\n",
    "ax.plot(residuals.index, residuals.rolling(30).var());"
   ]
  },
  {
   "cell_type": "markdown",
   "metadata": {},
   "source": [
    "### ARIMA Model"
   ]
  },
  {
   "cell_type": "code",
   "execution_count": 51,
   "metadata": {},
   "outputs": [],
   "source": [
    "df_mk_7dwarfs_daily_arima = ARIMA(train, order=(3,1,3)).fit()\n"
   ]
  },
  {
   "cell_type": "code",
   "execution_count": 52,
   "metadata": {},
   "outputs": [
    {
     "data": {
      "text/html": [
       "<table class=\"simpletable\">\n",
       "<caption>SARIMAX Results</caption>\n",
       "<tr>\n",
       "  <th>Dep. Variable:</th>       <td>CleanTime</td>    <th>  No. Observations:  </th>   <td>1460</td>   \n",
       "</tr>\n",
       "<tr>\n",
       "  <th>Model:</th>            <td>ARIMA(3, 1, 3)</td>  <th>  Log Likelihood     </th> <td>-5885.895</td>\n",
       "</tr>\n",
       "<tr>\n",
       "  <th>Date:</th>            <td>Mon, 28 Feb 2022</td> <th>  AIC                </th> <td>11785.790</td>\n",
       "</tr>\n",
       "<tr>\n",
       "  <th>Time:</th>                <td>13:47:57</td>     <th>  BIC                </th> <td>11822.788</td>\n",
       "</tr>\n",
       "<tr>\n",
       "  <th>Sample:</th>             <td>01-02-2015</td>    <th>  HQIC               </th> <td>11799.592</td>\n",
       "</tr>\n",
       "<tr>\n",
       "  <th></th>                   <td>- 12-31-2018</td>   <th>                     </th>     <td> </td>    \n",
       "</tr>\n",
       "<tr>\n",
       "  <th>Covariance Type:</th>        <td>opg</td>       <th>                     </th>     <td> </td>    \n",
       "</tr>\n",
       "</table>\n",
       "<table class=\"simpletable\">\n",
       "<tr>\n",
       "     <td></td>       <th>coef</th>     <th>std err</th>      <th>z</th>      <th>P>|z|</th>  <th>[0.025</th>    <th>0.975]</th>  \n",
       "</tr>\n",
       "<tr>\n",
       "  <th>ar.L1</th>  <td>   -1.5631</td> <td>    0.036</td> <td>  -43.097</td> <td> 0.000</td> <td>   -1.634</td> <td>   -1.492</td>\n",
       "</tr>\n",
       "<tr>\n",
       "  <th>ar.L2</th>  <td>   -0.5812</td> <td>    0.063</td> <td>   -9.203</td> <td> 0.000</td> <td>   -0.705</td> <td>   -0.457</td>\n",
       "</tr>\n",
       "<tr>\n",
       "  <th>ar.L3</th>  <td>    0.2242</td> <td>    0.034</td> <td>    6.599</td> <td> 0.000</td> <td>    0.158</td> <td>    0.291</td>\n",
       "</tr>\n",
       "<tr>\n",
       "  <th>ma.L1</th>  <td>    0.9349</td> <td>    0.028</td> <td>   32.914</td> <td> 0.000</td> <td>    0.879</td> <td>    0.991</td>\n",
       "</tr>\n",
       "<tr>\n",
       "  <th>ma.L2</th>  <td>   -0.4241</td> <td>    0.038</td> <td>  -11.206</td> <td> 0.000</td> <td>   -0.498</td> <td>   -0.350</td>\n",
       "</tr>\n",
       "<tr>\n",
       "  <th>ma.L3</th>  <td>   -0.7087</td> <td>    0.021</td> <td>  -33.159</td> <td> 0.000</td> <td>   -0.751</td> <td>   -0.667</td>\n",
       "</tr>\n",
       "<tr>\n",
       "  <th>sigma2</th> <td>  186.5846</td> <td>    5.379</td> <td>   34.690</td> <td> 0.000</td> <td>  176.043</td> <td>  197.126</td>\n",
       "</tr>\n",
       "</table>\n",
       "<table class=\"simpletable\">\n",
       "<tr>\n",
       "  <th>Ljung-Box (L1) (Q):</th>     <td>0.02</td> <th>  Jarque-Bera (JB):  </th> <td>203.00</td>\n",
       "</tr>\n",
       "<tr>\n",
       "  <th>Prob(Q):</th>                <td>0.88</td> <th>  Prob(JB):          </th>  <td>0.00</td> \n",
       "</tr>\n",
       "<tr>\n",
       "  <th>Heteroskedasticity (H):</th> <td>2.23</td> <th>  Skew:              </th>  <td>0.14</td> \n",
       "</tr>\n",
       "<tr>\n",
       "  <th>Prob(H) (two-sided):</th>    <td>0.00</td> <th>  Kurtosis:          </th>  <td>4.81</td> \n",
       "</tr>\n",
       "</table><br/><br/>Warnings:<br/>[1] Covariance matrix calculated using the outer product of gradients (complex-step)."
      ],
      "text/plain": [
       "<class 'statsmodels.iolib.summary.Summary'>\n",
       "\"\"\"\n",
       "                               SARIMAX Results                                \n",
       "==============================================================================\n",
       "Dep. Variable:              CleanTime   No. Observations:                 1460\n",
       "Model:                 ARIMA(3, 1, 3)   Log Likelihood               -5885.895\n",
       "Date:                Mon, 28 Feb 2022   AIC                          11785.790\n",
       "Time:                        13:47:57   BIC                          11822.788\n",
       "Sample:                    01-02-2015   HQIC                         11799.592\n",
       "                         - 12-31-2018                                         \n",
       "Covariance Type:                  opg                                         \n",
       "==============================================================================\n",
       "                 coef    std err          z      P>|z|      [0.025      0.975]\n",
       "------------------------------------------------------------------------------\n",
       "ar.L1         -1.5631      0.036    -43.097      0.000      -1.634      -1.492\n",
       "ar.L2         -0.5812      0.063     -9.203      0.000      -0.705      -0.457\n",
       "ar.L3          0.2242      0.034      6.599      0.000       0.158       0.291\n",
       "ma.L1          0.9349      0.028     32.914      0.000       0.879       0.991\n",
       "ma.L2         -0.4241      0.038    -11.206      0.000      -0.498      -0.350\n",
       "ma.L3         -0.7087      0.021    -33.159      0.000      -0.751      -0.667\n",
       "sigma2       186.5846      5.379     34.690      0.000     176.043     197.126\n",
       "===================================================================================\n",
       "Ljung-Box (L1) (Q):                   0.02   Jarque-Bera (JB):               203.00\n",
       "Prob(Q):                              0.88   Prob(JB):                         0.00\n",
       "Heteroskedasticity (H):               2.23   Skew:                             0.14\n",
       "Prob(H) (two-sided):                  0.00   Kurtosis:                         4.81\n",
       "===================================================================================\n",
       "\n",
       "Warnings:\n",
       "[1] Covariance matrix calculated using the outer product of gradients (complex-step).\n",
       "\"\"\""
      ]
     },
     "execution_count": 52,
     "metadata": {},
     "output_type": "execute_result"
    }
   ],
   "source": [
    "df_mk_7dwarfs_daily_arima.summary()"
   ]
  },
  {
   "cell_type": "code",
   "execution_count": 53,
   "metadata": {},
   "outputs": [
    {
     "name": "stdout",
     "output_type": "stream",
     "text": [
      "AIC - ARIMA Model: 11785.789605808015\n"
     ]
    }
   ],
   "source": [
    "print(\"AIC - ARIMA Model:\", df_mk_7dwarfs_daily_arima.aic)\n"
   ]
  },
  {
   "cell_type": "markdown",
   "metadata": {},
   "source": [
    "#### PACF"
   ]
  },
  {
   "cell_type": "code",
   "execution_count": 54,
   "metadata": {},
   "outputs": [
    {
     "name": "stderr",
     "output_type": "stream",
     "text": [
      "/opt/anaconda3/envs/learn-env/lib/python3.8/site-packages/statsmodels/graphics/tsaplots.py:348: FutureWarning: The default method 'yw' can produce PACF values outside of the [-1,1] interval. After 0.13, the default will change tounadjusted Yule-Walker ('ywm'). You can use this method now by setting method='ywm'.\n",
      "  warnings.warn(\n"
     ]
    },
    {
     "data": {
      "image/png": "[encoded data removed]",
      "text/plain": [
       "<Figure size 432x288 with 1 Axes>"
      ]
     },
     "metadata": {
      "needs_background": "light"
     },
     "output_type": "display_data"
    }
   ],
   "source": [
    "plot_pacf(train);"
   ]
  },
  {
   "cell_type": "markdown",
   "metadata": {},
   "source": [
    "#### ACF"
   ]
  },
  {
   "cell_type": "code",
   "execution_count": 55,
   "metadata": {},
   "outputs": [
    {
     "data": {
      "text/html": [
       "<div>\n",
       "<style scoped>\n",
       "    .dataframe tbody tr th:only-of-type {\n",
       "        vertical-align: middle;\n",
       "    }\n",
       "\n",
       "    .dataframe tbody tr th {\n",
       "        vertical-align: top;\n",
       "    }\n",
       "\n",
       "    .dataframe thead th {\n",
       "        text-align: right;\n",
       "    }\n",
       "</style>\n",
       "<table border=\"1\" class=\"dataframe\">\n",
       "  <thead>\n",
       "    <tr style=\"text-align: right;\">\n",
       "      <th></th>\n",
       "      <th>lag_0</th>\n",
       "      <th>lag_1</th>\n",
       "    </tr>\n",
       "    <tr>\n",
       "      <th>datetime</th>\n",
       "      <th></th>\n",
       "      <th></th>\n",
       "    </tr>\n",
       "  </thead>\n",
       "  <tbody>\n",
       "    <tr>\n",
       "      <th>2015-01-02</th>\n",
       "      <td>112.993421</td>\n",
       "      <td>NaN</td>\n",
       "    </tr>\n",
       "    <tr>\n",
       "      <th>2015-01-03</th>\n",
       "      <td>100.469697</td>\n",
       "      <td>112.993421</td>\n",
       "    </tr>\n",
       "    <tr>\n",
       "      <th>2015-01-04</th>\n",
       "      <td>79.685039</td>\n",
       "      <td>100.469697</td>\n",
       "    </tr>\n",
       "    <tr>\n",
       "      <th>2015-01-05</th>\n",
       "      <td>87.370690</td>\n",
       "      <td>79.685039</td>\n",
       "    </tr>\n",
       "    <tr>\n",
       "      <th>2015-01-06</th>\n",
       "      <td>79.066667</td>\n",
       "      <td>87.370690</td>\n",
       "    </tr>\n",
       "  </tbody>\n",
       "</table>\n",
       "</div>"
      ],
      "text/plain": [
       "                 lag_0       lag_1\n",
       "datetime                          \n",
       "2015-01-02  112.993421         NaN\n",
       "2015-01-03  100.469697  112.993421\n",
       "2015-01-04   79.685039  100.469697\n",
       "2015-01-05   87.370690   79.685039\n",
       "2015-01-06   79.066667   87.370690"
      ]
     },
     "execution_count": 55,
     "metadata": {},
     "output_type": "execute_result"
    }
   ],
   "source": [
    "df = pd.DataFrame(train)\n",
    "df.columns = ['lag_0']\n",
    "df['lag_1'] = train.shift()\n",
    "df.head()"
   ]
  },
  {
   "cell_type": "code",
   "execution_count": 56,
   "metadata": {},
   "outputs": [
    {
     "data": {
      "text/plain": [
       "194.99013413810863"
      ]
     },
     "execution_count": 56,
     "metadata": {},
     "output_type": "execute_result"
    }
   ],
   "source": [
    "gamma_1 = sum(((df['lag_0'][1:]-df['lag_0'][1:].mean()) *\\\n",
    "               (df['lag_1'].dropna()-df['lag_1'].dropna().mean())))/(len(df['lag_1'])-1)\n",
    "gamma_1"
   ]
  },
  {
   "cell_type": "code",
   "execution_count": 57,
   "metadata": {},
   "outputs": [
    {
     "data": {
      "text/plain": [
       "0.5276849513620424"
      ]
     },
     "execution_count": 57,
     "metadata": {},
     "output_type": "execute_result"
    }
   ],
   "source": [
    "#Pearson Correlation\n",
    "rho = gamma_1/(df.lag_0[1:].std(ddof=0)*df.lag_1.std(ddof=0))\n",
    "rho"
   ]
  },
  {
   "cell_type": "code",
   "execution_count": 58,
   "metadata": {},
   "outputs": [
    {
     "data": {
      "text/html": [
       "<div>\n",
       "<style scoped>\n",
       "    .dataframe tbody tr th:only-of-type {\n",
       "        vertical-align: middle;\n",
       "    }\n",
       "\n",
       "    .dataframe tbody tr th {\n",
       "        vertical-align: top;\n",
       "    }\n",
       "\n",
       "    .dataframe thead th {\n",
       "        text-align: right;\n",
       "    }\n",
       "</style>\n",
       "<table border=\"1\" class=\"dataframe\">\n",
       "  <thead>\n",
       "    <tr style=\"text-align: right;\">\n",
       "      <th></th>\n",
       "      <th>lag_0</th>\n",
       "      <th>lag_1</th>\n",
       "      <th>lag_2</th>\n",
       "      <th>lag_3</th>\n",
       "      <th>lag_4</th>\n",
       "      <th>lag_5</th>\n",
       "    </tr>\n",
       "  </thead>\n",
       "  <tbody>\n",
       "    <tr>\n",
       "      <th>lag_0</th>\n",
       "      <td>1.000000</td>\n",
       "      <td>0.527685</td>\n",
       "      <td>0.584016</td>\n",
       "      <td>0.485603</td>\n",
       "      <td>0.444830</td>\n",
       "      <td>0.466850</td>\n",
       "    </tr>\n",
       "    <tr>\n",
       "      <th>lag_1</th>\n",
       "      <td>0.527685</td>\n",
       "      <td>1.000000</td>\n",
       "      <td>0.525831</td>\n",
       "      <td>0.583067</td>\n",
       "      <td>0.482827</td>\n",
       "      <td>0.441686</td>\n",
       "    </tr>\n",
       "    <tr>\n",
       "      <th>lag_2</th>\n",
       "      <td>0.584016</td>\n",
       "      <td>0.525831</td>\n",
       "      <td>1.000000</td>\n",
       "      <td>0.524808</td>\n",
       "      <td>0.581649</td>\n",
       "      <td>0.480995</td>\n",
       "    </tr>\n",
       "    <tr>\n",
       "      <th>lag_3</th>\n",
       "      <td>0.485603</td>\n",
       "      <td>0.583067</td>\n",
       "      <td>0.524808</td>\n",
       "      <td>1.000000</td>\n",
       "      <td>0.523642</td>\n",
       "      <td>0.580648</td>\n",
       "    </tr>\n",
       "    <tr>\n",
       "      <th>lag_4</th>\n",
       "      <td>0.444830</td>\n",
       "      <td>0.482827</td>\n",
       "      <td>0.581649</td>\n",
       "      <td>0.523642</td>\n",
       "      <td>1.000000</td>\n",
       "      <td>0.521481</td>\n",
       "    </tr>\n",
       "    <tr>\n",
       "      <th>lag_5</th>\n",
       "      <td>0.466850</td>\n",
       "      <td>0.441686</td>\n",
       "      <td>0.480995</td>\n",
       "      <td>0.580648</td>\n",
       "      <td>0.521481</td>\n",
       "      <td>1.000000</td>\n",
       "    </tr>\n",
       "  </tbody>\n",
       "</table>\n",
       "</div>"
      ],
      "text/plain": [
       "          lag_0     lag_1     lag_2     lag_3     lag_4     lag_5\n",
       "lag_0  1.000000  0.527685  0.584016  0.485603  0.444830  0.466850\n",
       "lag_1  0.527685  1.000000  0.525831  0.583067  0.482827  0.441686\n",
       "lag_2  0.584016  0.525831  1.000000  0.524808  0.581649  0.480995\n",
       "lag_3  0.485603  0.583067  0.524808  1.000000  0.523642  0.580648\n",
       "lag_4  0.444830  0.482827  0.581649  0.523642  1.000000  0.521481\n",
       "lag_5  0.466850  0.441686  0.480995  0.580648  0.521481  1.000000"
      ]
     },
     "execution_count": 58,
     "metadata": {},
     "output_type": "execute_result"
    }
   ],
   "source": [
    "df = pd.DataFrame(train)\n",
    "df.columns = ['lag_0']\n",
    "df['lag_1'] = train.shift()\n",
    "df['lag_2'] = train.shift(2)\n",
    "df['lag_3'] = train.shift(3)\n",
    "df['lag_4'] = train.shift(4)\n",
    "df['lag_5'] = train.shift(5)\n",
    "df.corr()"
   ]
  },
  {
   "cell_type": "code",
   "execution_count": 59,
   "metadata": {},
   "outputs": [
    {
     "data": {
      "image/png": "[encoded data removed]",
      "text/plain": [
       "<Figure size 432x288 with 1 Axes>"
      ]
     },
     "metadata": {
      "needs_background": "light"
     },
     "output_type": "display_data"
    }
   ],
   "source": [
    "list(df.corr()['lag_0'].index)\n",
    "plt.bar(list(df.corr()['lag_0'].index), list(df.corr()['lag_0']));"
   ]
  },
  {
   "cell_type": "code",
   "execution_count": 60,
   "metadata": {},
   "outputs": [
    {
     "data": {
      "image/png": "[encoded data removed]",
      "text/plain": [
       "<Figure size 432x288 with 1 Axes>"
      ]
     },
     "metadata": {
      "needs_background": "light"
     },
     "output_type": "display_data"
    }
   ],
   "source": [
    "plot_acf(train);"
   ]
  },
  {
   "cell_type": "code",
   "execution_count": 61,
   "metadata": {},
   "outputs": [
    {
     "name": "stderr",
     "output_type": "stream",
     "text": [
      "/opt/anaconda3/envs/learn-env/lib/python3.8/site-packages/statsmodels/tsa/statespace/sarimax.py:966: UserWarning: Non-stationary starting autoregressive parameters found. Using zeros as starting parameters.\n",
      "  warn('Non-stationary starting autoregressive parameters'\n",
      "/opt/anaconda3/envs/learn-env/lib/python3.8/site-packages/statsmodels/tsa/statespace/sarimax.py:978: UserWarning: Non-invertible starting MA parameters found. Using zeros as starting parameters.\n",
      "  warn('Non-invertible starting MA parameters found.'\n"
     ]
    },
    {
     "data": {
      "image/png": "[encoded data removed]",
      "text/plain": [
       "<Figure size 432x288 with 1 Axes>"
      ]
     },
     "metadata": {
      "needs_background": "light"
     },
     "output_type": "display_data"
    }
   ],
   "source": [
    "df_mk_7dwarfs_daily_arima2 = ARIMA(train, order=(1, 1, 2)).fit()\n",
    "y_hat_train = df_mk_7dwarfs_daily_arima2.predict(typ='levels')\n",
    "\n",
    "fig, ax = plt.subplots()\n",
    "ax.plot(y_hat_train)\n",
    "ax.plot(train);"
   ]
  },
  {
   "cell_type": "code",
   "execution_count": 62,
   "metadata": {},
   "outputs": [
    {
     "data": {
      "image/png": "[encoded data removed]",
      "text/plain": [
       "<Figure size 432x288 with 1 Axes>"
      ]
     },
     "metadata": {
      "needs_background": "light"
     },
     "output_type": "display_data"
    }
   ],
   "source": [
    "fig, ax = plt.subplots()\n",
    "ax.plot(y_hat_train[50:70])\n",
    "ax.plot(train[50:70]);"
   ]
  },
  {
   "cell_type": "code",
   "execution_count": 63,
   "metadata": {},
   "outputs": [
    {
     "data": {
      "text/html": [
       "<table class=\"simpletable\">\n",
       "<caption>SARIMAX Results</caption>\n",
       "<tr>\n",
       "  <th>Dep. Variable:</th>       <td>CleanTime</td>    <th>  No. Observations:  </th>   <td>1460</td>   \n",
       "</tr>\n",
       "<tr>\n",
       "  <th>Model:</th>            <td>ARIMA(1, 1, 2)</td>  <th>  Log Likelihood     </th> <td>-5997.738</td>\n",
       "</tr>\n",
       "<tr>\n",
       "  <th>Date:</th>            <td>Mon, 28 Feb 2022</td> <th>  AIC                </th> <td>12003.477</td>\n",
       "</tr>\n",
       "<tr>\n",
       "  <th>Time:</th>                <td>13:48:02</td>     <th>  BIC                </th> <td>12024.619</td>\n",
       "</tr>\n",
       "<tr>\n",
       "  <th>Sample:</th>             <td>01-02-2015</td>    <th>  HQIC               </th> <td>12011.364</td>\n",
       "</tr>\n",
       "<tr>\n",
       "  <th></th>                   <td>- 12-31-2018</td>   <th>                     </th>     <td> </td>    \n",
       "</tr>\n",
       "<tr>\n",
       "  <th>Covariance Type:</th>        <td>opg</td>       <th>                     </th>     <td> </td>    \n",
       "</tr>\n",
       "</table>\n",
       "<table class=\"simpletable\">\n",
       "<tr>\n",
       "     <td></td>       <th>coef</th>     <th>std err</th>      <th>z</th>      <th>P>|z|</th>  <th>[0.025</th>    <th>0.975]</th>  \n",
       "</tr>\n",
       "<tr>\n",
       "  <th>ar.L1</th>  <td>   -0.4633</td> <td>    0.156</td> <td>   -2.972</td> <td> 0.003</td> <td>   -0.769</td> <td>   -0.158</td>\n",
       "</tr>\n",
       "<tr>\n",
       "  <th>ma.L1</th>  <td>   -0.3108</td> <td>    0.159</td> <td>   -1.949</td> <td> 0.051</td> <td>   -0.623</td> <td>    0.002</td>\n",
       "</tr>\n",
       "<tr>\n",
       "  <th>ma.L2</th>  <td>   -0.2253</td> <td>    0.121</td> <td>   -1.857</td> <td> 0.063</td> <td>   -0.463</td> <td>    0.012</td>\n",
       "</tr>\n",
       "<tr>\n",
       "  <th>sigma2</th> <td>  217.7599</td> <td>    6.594</td> <td>   33.025</td> <td> 0.000</td> <td>  204.836</td> <td>  230.684</td>\n",
       "</tr>\n",
       "</table>\n",
       "<table class=\"simpletable\">\n",
       "<tr>\n",
       "  <th>Ljung-Box (L1) (Q):</th>     <td>0.52</td> <th>  Jarque-Bera (JB):  </th> <td>80.94</td>\n",
       "</tr>\n",
       "<tr>\n",
       "  <th>Prob(Q):</th>                <td>0.47</td> <th>  Prob(JB):          </th> <td>0.00</td> \n",
       "</tr>\n",
       "<tr>\n",
       "  <th>Heteroskedasticity (H):</th> <td>2.51</td> <th>  Skew:              </th> <td>0.28</td> \n",
       "</tr>\n",
       "<tr>\n",
       "  <th>Prob(H) (two-sided):</th>    <td>0.00</td> <th>  Kurtosis:          </th> <td>4.01</td> \n",
       "</tr>\n",
       "</table><br/><br/>Warnings:<br/>[1] Covariance matrix calculated using the outer product of gradients (complex-step)."
      ],
      "text/plain": [
       "<class 'statsmodels.iolib.summary.Summary'>\n",
       "\"\"\"\n",
       "                               SARIMAX Results                                \n",
       "==============================================================================\n",
       "Dep. Variable:              CleanTime   No. Observations:                 1460\n",
       "Model:                 ARIMA(1, 1, 2)   Log Likelihood               -5997.738\n",
       "Date:                Mon, 28 Feb 2022   AIC                          12003.477\n",
       "Time:                        13:48:02   BIC                          12024.619\n",
       "Sample:                    01-02-2015   HQIC                         12011.364\n",
       "                         - 12-31-2018                                         \n",
       "Covariance Type:                  opg                                         \n",
       "==============================================================================\n",
       "                 coef    std err          z      P>|z|      [0.025      0.975]\n",
       "------------------------------------------------------------------------------\n",
       "ar.L1         -0.4633      0.156     -2.972      0.003      -0.769      -0.158\n",
       "ma.L1         -0.3108      0.159     -1.949      0.051      -0.623       0.002\n",
       "ma.L2         -0.2253      0.121     -1.857      0.063      -0.463       0.012\n",
       "sigma2       217.7599      6.594     33.025      0.000     204.836     230.684\n",
       "===================================================================================\n",
       "Ljung-Box (L1) (Q):                   0.52   Jarque-Bera (JB):                80.94\n",
       "Prob(Q):                              0.47   Prob(JB):                         0.00\n",
       "Heteroskedasticity (H):               2.51   Skew:                             0.28\n",
       "Prob(H) (two-sided):                  0.00   Kurtosis:                         4.01\n",
       "===================================================================================\n",
       "\n",
       "Warnings:\n",
       "[1] Covariance matrix calculated using the outer product of gradients (complex-step).\n",
       "\"\"\""
      ]
     },
     "execution_count": 63,
     "metadata": {},
     "output_type": "execute_result"
    }
   ],
   "source": [
    "df_mk_7dwarfs_daily_arima2.summary()"
   ]
  },
  {
   "cell_type": "code",
   "execution_count": 64,
   "metadata": {},
   "outputs": [
    {
     "data": {
      "image/png": "[encoded data removed]",
      "text/plain": [
       "<Figure size 432x288 with 1 Axes>"
      ]
     },
     "metadata": {
      "needs_background": "light"
     },
     "output_type": "display_data"
    }
   ],
   "source": [
    "y_hat_test = df_mk_7dwarfs_daily_arima.predict(start=test.index[0], end=test.index[-1])\n",
    "\n",
    "fig, ax = plt.subplots()\n",
    "ax.plot(y_hat_test);"
   ]
  },
  {
   "cell_type": "code",
   "execution_count": 65,
   "metadata": {},
   "outputs": [
    {
     "data": {
      "image/png": "[encoded data removed]",
      "text/plain": [
       "<Figure size 432x288 with 1 Axes>"
      ]
     },
     "metadata": {
      "needs_background": "light"
     },
     "output_type": "display_data"
    }
   ],
   "source": [
    "fig, ax = plt.subplots()\n",
    "ax.plot(y_hat_test)\n",
    "ax.plot(test);"
   ]
  },
  {
   "cell_type": "code",
   "execution_count": 66,
   "metadata": {},
   "outputs": [
    {
     "data": {
      "text/plain": [
       "41.73915635912372"
      ]
     },
     "execution_count": 66,
     "metadata": {},
     "output_type": "execute_result"
    }
   ],
   "source": [
    "np.sqrt(mean_squared_error(test, y_hat_test))"
   ]
  },
  {
   "cell_type": "code",
   "execution_count": 67,
   "metadata": {},
   "outputs": [
    {
     "data": {
      "image/png": "[encoded data removed]",
      "text/plain": [
       "<Figure size 432x288 with 1 Axes>"
      ]
     },
     "metadata": {
      "needs_background": "light"
     },
     "output_type": "display_data"
    }
   ],
   "source": [
    "plot_acf(df_mk_7dwarfs_daily);"
   ]
  },
  {
   "cell_type": "code",
   "execution_count": 68,
   "metadata": {},
   "outputs": [
    {
     "data": {
      "image/png": "[encoded data removed]",
      "text/plain": [
       "<Figure size 432x288 with 1 Axes>"
      ]
     },
     "metadata": {
      "needs_background": "light"
     },
     "output_type": "display_data"
    }
   ],
   "source": [
    "plot_acf(df_mk_7dwarfs_daily, lags=75);"
   ]
  },
  {
   "cell_type": "code",
   "execution_count": 69,
   "metadata": {},
   "outputs": [
    {
     "name": "stdout",
     "output_type": "stream",
     "text": [
      "Examples of parameter for SARIMA...\n",
      "SARIMAX: (0, 0, 0) x (0, 1, 0, 7)\n",
      "SARIMAX: (0, 0, 0) x (0, 1, 1, 7)\n",
      "SARIMAX: (0, 0, 0) x (0, 1, 2, 7)\n",
      "SARIMAX: (0, 0, 0) x (0, 1, 3, 7)\n",
      "SARIMAX: (0, 0, 0) x (0, 1, 4, 7)\n",
      "SARIMAX: (0, 0, 0) x (1, 1, 0, 7)\n",
      "SARIMAX: (0, 0, 0) x (1, 1, 1, 7)\n",
      "SARIMAX: (0, 0, 0) x (1, 1, 2, 7)\n",
      "SARIMAX: (0, 0, 0) x (1, 1, 3, 7)\n",
      "SARIMAX: (0, 0, 0) x (1, 1, 4, 7)\n",
      "SARIMAX: (0, 0, 0) x (2, 1, 0, 7)\n",
      "SARIMAX: (0, 0, 0) x (2, 1, 1, 7)\n",
      "SARIMAX: (0, 0, 0) x (2, 1, 2, 7)\n",
      "SARIMAX: (0, 0, 0) x (2, 1, 3, 7)\n",
      "SARIMAX: (0, 0, 0) x (2, 1, 4, 7)\n",
      "SARIMAX: (0, 0, 0) x (3, 1, 0, 7)\n",
      "SARIMAX: (0, 0, 0) x (3, 1, 1, 7)\n",
      "SARIMAX: (0, 0, 0) x (3, 1, 2, 7)\n",
      "SARIMAX: (0, 0, 0) x (3, 1, 3, 7)\n",
      "SARIMAX: (0, 0, 0) x (3, 1, 4, 7)\n",
      "SARIMAX: (0, 0, 0) x (4, 1, 0, 7)\n",
      "SARIMAX: (0, 0, 0) x (4, 1, 1, 7)\n",
      "SARIMAX: (0, 0, 0) x (4, 1, 2, 7)\n",
      "SARIMAX: (0, 0, 0) x (4, 1, 3, 7)\n",
      "SARIMAX: (0, 0, 0) x (4, 1, 4, 7)\n",
      "SARIMAX: (0, 0, 1) x (0, 1, 0, 7)\n",
      "SARIMAX: (0, 0, 1) x (0, 1, 1, 7)\n",
      "SARIMAX: (0, 0, 1) x (0, 1, 2, 7)\n",
      "SARIMAX: (0, 0, 1) x (0, 1, 3, 7)\n",
      "SARIMAX: (0, 0, 1) x (0, 1, 4, 7)\n",
      "SARIMAX: (0, 0, 1) x (1, 1, 0, 7)\n",
      "SARIMAX: (0, 0, 1) x (1, 1, 1, 7)\n",
      "SARIMAX: (0, 0, 1) x (1, 1, 2, 7)\n",
      "SARIMAX: (0, 0, 1) x (1, 1, 3, 7)\n",
      "SARIMAX: (0, 0, 1) x (1, 1, 4, 7)\n",
      "SARIMAX: (0, 0, 1) x (2, 1, 0, 7)\n",
      "SARIMAX: (0, 0, 1) x (2, 1, 1, 7)\n",
      "SARIMAX: (0, 0, 1) x (2, 1, 2, 7)\n",
      "SARIMAX: (0, 0, 1) x (2, 1, 3, 7)\n",
      "SARIMAX: (0, 0, 1) x (2, 1, 4, 7)\n",
      "SARIMAX: (0, 0, 1) x (3, 1, 0, 7)\n",
      "SARIMAX: (0, 0, 1) x (3, 1, 1, 7)\n",
      "SARIMAX: (0, 0, 1) x (3, 1, 2, 7)\n",
      "SARIMAX: (0, 0, 1) x (3, 1, 3, 7)\n",
      "SARIMAX: (0, 0, 1) x (3, 1, 4, 7)\n",
      "SARIMAX: (0, 0, 1) x (4, 1, 0, 7)\n",
      "SARIMAX: (0, 0, 1) x (4, 1, 1, 7)\n",
      "SARIMAX: (0, 0, 1) x (4, 1, 2, 7)\n",
      "SARIMAX: (0, 0, 1) x (4, 1, 3, 7)\n",
      "SARIMAX: (0, 0, 1) x (4, 1, 4, 7)\n",
      "SARIMAX: (0, 0, 2) x (0, 1, 0, 7)\n",
      "SARIMAX: (0, 0, 2) x (0, 1, 1, 7)\n",
      "SARIMAX: (0, 0, 2) x (0, 1, 2, 7)\n",
      "SARIMAX: (0, 0, 2) x (0, 1, 3, 7)\n",
      "SARIMAX: (0, 0, 2) x (0, 1, 4, 7)\n",
      "SARIMAX: (0, 0, 2) x (1, 1, 0, 7)\n",
      "SARIMAX: (0, 0, 2) x (1, 1, 1, 7)\n",
      "SARIMAX: (0, 0, 2) x (1, 1, 2, 7)\n",
      "SARIMAX: (0, 0, 2) x (1, 1, 3, 7)\n",
      "SARIMAX: (0, 0, 2) x (1, 1, 4, 7)\n",
      "SARIMAX: (0, 0, 2) x (2, 1, 0, 7)\n",
      "SARIMAX: (0, 0, 2) x (2, 1, 1, 7)\n",
      "SARIMAX: (0, 0, 2) x (2, 1, 2, 7)\n",
      "SARIMAX: (0, 0, 2) x (2, 1, 3, 7)\n",
      "SARIMAX: (0, 0, 2) x (2, 1, 4, 7)\n",
      "SARIMAX: (0, 0, 2) x (3, 1, 0, 7)\n",
      "SARIMAX: (0, 0, 2) x (3, 1, 1, 7)\n",
      "SARIMAX: (0, 0, 2) x (3, 1, 2, 7)\n",
      "SARIMAX: (0, 0, 2) x (3, 1, 3, 7)\n",
      "SARIMAX: (0, 0, 2) x (3, 1, 4, 7)\n",
      "SARIMAX: (0, 0, 2) x (4, 1, 0, 7)\n",
      "SARIMAX: (0, 0, 2) x (4, 1, 1, 7)\n",
      "SARIMAX: (0, 0, 2) x (4, 1, 2, 7)\n",
      "SARIMAX: (0, 0, 2) x (4, 1, 3, 7)\n",
      "SARIMAX: (0, 0, 2) x (4, 1, 4, 7)\n",
      "SARIMAX: (0, 0, 3) x (0, 1, 0, 7)\n",
      "SARIMAX: (0, 0, 3) x (0, 1, 1, 7)\n",
      "SARIMAX: (0, 0, 3) x (0, 1, 2, 7)\n",
      "SARIMAX: (0, 0, 3) x (0, 1, 3, 7)\n",
      "SARIMAX: (0, 0, 3) x (0, 1, 4, 7)\n",
      "SARIMAX: (0, 0, 3) x (1, 1, 0, 7)\n",
      "SARIMAX: (0, 0, 3) x (1, 1, 1, 7)\n",
      "SARIMAX: (0, 0, 3) x (1, 1, 2, 7)\n",
      "SARIMAX: (0, 0, 3) x (1, 1, 3, 7)\n",
      "SARIMAX: (0, 0, 3) x (1, 1, 4, 7)\n",
      "SARIMAX: (0, 0, 3) x (2, 1, 0, 7)\n",
      "SARIMAX: (0, 0, 3) x (2, 1, 1, 7)\n",
      "SARIMAX: (0, 0, 3) x (2, 1, 2, 7)\n",
      "SARIMAX: (0, 0, 3) x (2, 1, 3, 7)\n",
      "SARIMAX: (0, 0, 3) x (2, 1, 4, 7)\n",
      "SARIMAX: (0, 0, 3) x (3, 1, 0, 7)\n",
      "SARIMAX: (0, 0, 3) x (3, 1, 1, 7)\n",
      "SARIMAX: (0, 0, 3) x (3, 1, 2, 7)\n",
      "SARIMAX: (0, 0, 3) x (3, 1, 3, 7)\n",
      "SARIMAX: (0, 0, 3) x (3, 1, 4, 7)\n",
      "SARIMAX: (0, 0, 3) x (4, 1, 0, 7)\n",
      "SARIMAX: (0, 0, 3) x (4, 1, 1, 7)\n",
      "SARIMAX: (0, 0, 3) x (4, 1, 2, 7)\n",
      "SARIMAX: (0, 0, 3) x (4, 1, 3, 7)\n",
      "SARIMAX: (0, 0, 3) x (4, 1, 4, 7)\n",
      "SARIMAX: (0, 0, 4) x (0, 1, 0, 7)\n",
      "SARIMAX: (0, 0, 4) x (0, 1, 1, 7)\n",
      "SARIMAX: (0, 0, 4) x (0, 1, 2, 7)\n",
      "SARIMAX: (0, 0, 4) x (0, 1, 3, 7)\n",
      "SARIMAX: (0, 0, 4) x (0, 1, 4, 7)\n",
      "SARIMAX: (0, 0, 4) x (1, 1, 0, 7)\n",
      "SARIMAX: (0, 0, 4) x (1, 1, 1, 7)\n",
      "SARIMAX: (0, 0, 4) x (1, 1, 2, 7)\n",
      "SARIMAX: (0, 0, 4) x (1, 1, 3, 7)\n",
      "SARIMAX: (0, 0, 4) x (1, 1, 4, 7)\n",
      "SARIMAX: (0, 0, 4) x (2, 1, 0, 7)\n",
      "SARIMAX: (0, 0, 4) x (2, 1, 1, 7)\n",
      "SARIMAX: (0, 0, 4) x (2, 1, 2, 7)\n",
      "SARIMAX: (0, 0, 4) x (2, 1, 3, 7)\n",
      "SARIMAX: (0, 0, 4) x (2, 1, 4, 7)\n",
      "SARIMAX: (0, 0, 4) x (3, 1, 0, 7)\n",
      "SARIMAX: (0, 0, 4) x (3, 1, 1, 7)\n",
      "SARIMAX: (0, 0, 4) x (3, 1, 2, 7)\n",
      "SARIMAX: (0, 0, 4) x (3, 1, 3, 7)\n",
      "SARIMAX: (0, 0, 4) x (3, 1, 4, 7)\n",
      "SARIMAX: (0, 0, 4) x (4, 1, 0, 7)\n",
      "SARIMAX: (0, 0, 4) x (4, 1, 1, 7)\n",
      "SARIMAX: (0, 0, 4) x (4, 1, 2, 7)\n",
      "SARIMAX: (0, 0, 4) x (4, 1, 3, 7)\n",
      "SARIMAX: (0, 0, 4) x (4, 1, 4, 7)\n",
      "SARIMAX: (1, 0, 0) x (0, 1, 0, 7)\n",
      "SARIMAX: (1, 0, 0) x (0, 1, 1, 7)\n",
      "SARIMAX: (1, 0, 0) x (0, 1, 2, 7)\n",
      "SARIMAX: (1, 0, 0) x (0, 1, 3, 7)\n",
      "SARIMAX: (1, 0, 0) x (0, 1, 4, 7)\n",
      "SARIMAX: (1, 0, 0) x (1, 1, 0, 7)\n",
      "SARIMAX: (1, 0, 0) x (1, 1, 1, 7)\n",
      "SARIMAX: (1, 0, 0) x (1, 1, 2, 7)\n",
      "SARIMAX: (1, 0, 0) x (1, 1, 3, 7)\n",
      "SARIMAX: (1, 0, 0) x (1, 1, 4, 7)\n",
      "SARIMAX: (1, 0, 0) x (2, 1, 0, 7)\n",
      "SARIMAX: (1, 0, 0) x (2, 1, 1, 7)\n",
      "SARIMAX: (1, 0, 0) x (2, 1, 2, 7)\n",
      "SARIMAX: (1, 0, 0) x (2, 1, 3, 7)\n",
      "SARIMAX: (1, 0, 0) x (2, 1, 4, 7)\n",
      "SARIMAX: (1, 0, 0) x (3, 1, 0, 7)\n",
      "SARIMAX: (1, 0, 0) x (3, 1, 1, 7)\n",
      "SARIMAX: (1, 0, 0) x (3, 1, 2, 7)\n",
      "SARIMAX: (1, 0, 0) x (3, 1, 3, 7)\n",
      "SARIMAX: (1, 0, 0) x (3, 1, 4, 7)\n",
      "SARIMAX: (1, 0, 0) x (4, 1, 0, 7)\n",
      "SARIMAX: (1, 0, 0) x (4, 1, 1, 7)\n",
      "SARIMAX: (1, 0, 0) x (4, 1, 2, 7)\n",
      "SARIMAX: (1, 0, 0) x (4, 1, 3, 7)\n",
      "SARIMAX: (1, 0, 0) x (4, 1, 4, 7)\n",
      "SARIMAX: (1, 0, 1) x (0, 1, 0, 7)\n",
      "SARIMAX: (1, 0, 1) x (0, 1, 1, 7)\n",
      "SARIMAX: (1, 0, 1) x (0, 1, 2, 7)\n",
      "SARIMAX: (1, 0, 1) x (0, 1, 3, 7)\n",
      "SARIMAX: (1, 0, 1) x (0, 1, 4, 7)\n",
      "SARIMAX: (1, 0, 1) x (1, 1, 0, 7)\n",
      "SARIMAX: (1, 0, 1) x (1, 1, 1, 7)\n",
      "SARIMAX: (1, 0, 1) x (1, 1, 2, 7)\n",
      "SARIMAX: (1, 0, 1) x (1, 1, 3, 7)\n",
      "SARIMAX: (1, 0, 1) x (1, 1, 4, 7)\n",
      "SARIMAX: (1, 0, 1) x (2, 1, 0, 7)\n",
      "SARIMAX: (1, 0, 1) x (2, 1, 1, 7)\n",
      "SARIMAX: (1, 0, 1) x (2, 1, 2, 7)\n",
      "SARIMAX: (1, 0, 1) x (2, 1, 3, 7)\n",
      "SARIMAX: (1, 0, 1) x (2, 1, 4, 7)\n",
      "SARIMAX: (1, 0, 1) x (3, 1, 0, 7)\n",
      "SARIMAX: (1, 0, 1) x (3, 1, 1, 7)\n",
      "SARIMAX: (1, 0, 1) x (3, 1, 2, 7)\n",
      "SARIMAX: (1, 0, 1) x (3, 1, 3, 7)\n",
      "SARIMAX: (1, 0, 1) x (3, 1, 4, 7)\n",
      "SARIMAX: (1, 0, 1) x (4, 1, 0, 7)\n",
      "SARIMAX: (1, 0, 1) x (4, 1, 1, 7)\n",
      "SARIMAX: (1, 0, 1) x (4, 1, 2, 7)\n",
      "SARIMAX: (1, 0, 1) x (4, 1, 3, 7)\n",
      "SARIMAX: (1, 0, 1) x (4, 1, 4, 7)\n",
      "SARIMAX: (1, 0, 2) x (0, 1, 0, 7)\n",
      "SARIMAX: (1, 0, 2) x (0, 1, 1, 7)\n",
      "SARIMAX: (1, 0, 2) x (0, 1, 2, 7)\n",
      "SARIMAX: (1, 0, 2) x (0, 1, 3, 7)\n",
      "SARIMAX: (1, 0, 2) x (0, 1, 4, 7)\n",
      "SARIMAX: (1, 0, 2) x (1, 1, 0, 7)\n",
      "SARIMAX: (1, 0, 2) x (1, 1, 1, 7)\n",
      "SARIMAX: (1, 0, 2) x (1, 1, 2, 7)\n",
      "SARIMAX: (1, 0, 2) x (1, 1, 3, 7)\n",
      "SARIMAX: (1, 0, 2) x (1, 1, 4, 7)\n",
      "SARIMAX: (1, 0, 2) x (2, 1, 0, 7)\n",
      "SARIMAX: (1, 0, 2) x (2, 1, 1, 7)\n",
      "SARIMAX: (1, 0, 2) x (2, 1, 2, 7)\n",
      "SARIMAX: (1, 0, 2) x (2, 1, 3, 7)\n",
      "SARIMAX: (1, 0, 2) x (2, 1, 4, 7)\n",
      "SARIMAX: (1, 0, 2) x (3, 1, 0, 7)\n",
      "SARIMAX: (1, 0, 2) x (3, 1, 1, 7)\n",
      "SARIMAX: (1, 0, 2) x (3, 1, 2, 7)\n",
      "SARIMAX: (1, 0, 2) x (3, 1, 3, 7)\n",
      "SARIMAX: (1, 0, 2) x (3, 1, 4, 7)\n",
      "SARIMAX: (1, 0, 2) x (4, 1, 0, 7)\n",
      "SARIMAX: (1, 0, 2) x (4, 1, 1, 7)\n",
      "SARIMAX: (1, 0, 2) x (4, 1, 2, 7)\n",
      "SARIMAX: (1, 0, 2) x (4, 1, 3, 7)\n",
      "SARIMAX: (1, 0, 2) x (4, 1, 4, 7)\n",
      "SARIMAX: (1, 0, 3) x (0, 1, 0, 7)\n",
      "SARIMAX: (1, 0, 3) x (0, 1, 1, 7)\n",
      "SARIMAX: (1, 0, 3) x (0, 1, 2, 7)\n",
      "SARIMAX: (1, 0, 3) x (0, 1, 3, 7)\n",
      "SARIMAX: (1, 0, 3) x (0, 1, 4, 7)\n",
      "SARIMAX: (1, 0, 3) x (1, 1, 0, 7)\n",
      "SARIMAX: (1, 0, 3) x (1, 1, 1, 7)\n",
      "SARIMAX: (1, 0, 3) x (1, 1, 2, 7)\n",
      "SARIMAX: (1, 0, 3) x (1, 1, 3, 7)\n",
      "SARIMAX: (1, 0, 3) x (1, 1, 4, 7)\n",
      "SARIMAX: (1, 0, 3) x (2, 1, 0, 7)\n",
      "SARIMAX: (1, 0, 3) x (2, 1, 1, 7)\n",
      "SARIMAX: (1, 0, 3) x (2, 1, 2, 7)\n",
      "SARIMAX: (1, 0, 3) x (2, 1, 3, 7)\n",
      "SARIMAX: (1, 0, 3) x (2, 1, 4, 7)\n",
      "SARIMAX: (1, 0, 3) x (3, 1, 0, 7)\n",
      "SARIMAX: (1, 0, 3) x (3, 1, 1, 7)\n",
      "SARIMAX: (1, 0, 3) x (3, 1, 2, 7)\n",
      "SARIMAX: (1, 0, 3) x (3, 1, 3, 7)\n",
      "SARIMAX: (1, 0, 3) x (3, 1, 4, 7)\n",
      "SARIMAX: (1, 0, 3) x (4, 1, 0, 7)\n",
      "SARIMAX: (1, 0, 3) x (4, 1, 1, 7)\n",
      "SARIMAX: (1, 0, 3) x (4, 1, 2, 7)\n",
      "SARIMAX: (1, 0, 3) x (4, 1, 3, 7)\n",
      "SARIMAX: (1, 0, 3) x (4, 1, 4, 7)\n",
      "SARIMAX: (1, 0, 4) x (0, 1, 0, 7)\n",
      "SARIMAX: (1, 0, 4) x (0, 1, 1, 7)\n",
      "SARIMAX: (1, 0, 4) x (0, 1, 2, 7)\n",
      "SARIMAX: (1, 0, 4) x (0, 1, 3, 7)\n",
      "SARIMAX: (1, 0, 4) x (0, 1, 4, 7)\n",
      "SARIMAX: (1, 0, 4) x (1, 1, 0, 7)\n",
      "SARIMAX: (1, 0, 4) x (1, 1, 1, 7)\n",
      "SARIMAX: (1, 0, 4) x (1, 1, 2, 7)\n",
      "SARIMAX: (1, 0, 4) x (1, 1, 3, 7)\n",
      "SARIMAX: (1, 0, 4) x (1, 1, 4, 7)\n",
      "SARIMAX: (1, 0, 4) x (2, 1, 0, 7)\n",
      "SARIMAX: (1, 0, 4) x (2, 1, 1, 7)\n",
      "SARIMAX: (1, 0, 4) x (2, 1, 2, 7)\n",
      "SARIMAX: (1, 0, 4) x (2, 1, 3, 7)\n",
      "SARIMAX: (1, 0, 4) x (2, 1, 4, 7)\n",
      "SARIMAX: (1, 0, 4) x (3, 1, 0, 7)\n",
      "SARIMAX: (1, 0, 4) x (3, 1, 1, 7)\n",
      "SARIMAX: (1, 0, 4) x (3, 1, 2, 7)\n",
      "SARIMAX: (1, 0, 4) x (3, 1, 3, 7)\n",
      "SARIMAX: (1, 0, 4) x (3, 1, 4, 7)\n",
      "SARIMAX: (1, 0, 4) x (4, 1, 0, 7)\n",
      "SARIMAX: (1, 0, 4) x (4, 1, 1, 7)\n",
      "SARIMAX: (1, 0, 4) x (4, 1, 2, 7)\n",
      "SARIMAX: (1, 0, 4) x (4, 1, 3, 7)\n",
      "SARIMAX: (1, 0, 4) x (4, 1, 4, 7)\n",
      "SARIMAX: (2, 0, 0) x (0, 1, 0, 7)\n",
      "SARIMAX: (2, 0, 0) x (0, 1, 1, 7)\n",
      "SARIMAX: (2, 0, 0) x (0, 1, 2, 7)\n",
      "SARIMAX: (2, 0, 0) x (0, 1, 3, 7)\n",
      "SARIMAX: (2, 0, 0) x (0, 1, 4, 7)\n",
      "SARIMAX: (2, 0, 0) x (1, 1, 0, 7)\n",
      "SARIMAX: (2, 0, 0) x (1, 1, 1, 7)\n",
      "SARIMAX: (2, 0, 0) x (1, 1, 2, 7)\n",
      "SARIMAX: (2, 0, 0) x (1, 1, 3, 7)\n",
      "SARIMAX: (2, 0, 0) x (1, 1, 4, 7)\n",
      "SARIMAX: (2, 0, 0) x (2, 1, 0, 7)\n",
      "SARIMAX: (2, 0, 0) x (2, 1, 1, 7)\n",
      "SARIMAX: (2, 0, 0) x (2, 1, 2, 7)\n",
      "SARIMAX: (2, 0, 0) x (2, 1, 3, 7)\n",
      "SARIMAX: (2, 0, 0) x (2, 1, 4, 7)\n",
      "SARIMAX: (2, 0, 0) x (3, 1, 0, 7)\n",
      "SARIMAX: (2, 0, 0) x (3, 1, 1, 7)\n",
      "SARIMAX: (2, 0, 0) x (3, 1, 2, 7)\n",
      "SARIMAX: (2, 0, 0) x (3, 1, 3, 7)\n",
      "SARIMAX: (2, 0, 0) x (3, 1, 4, 7)\n",
      "SARIMAX: (2, 0, 0) x (4, 1, 0, 7)\n",
      "SARIMAX: (2, 0, 0) x (4, 1, 1, 7)\n",
      "SARIMAX: (2, 0, 0) x (4, 1, 2, 7)\n",
      "SARIMAX: (2, 0, 0) x (4, 1, 3, 7)\n",
      "SARIMAX: (2, 0, 0) x (4, 1, 4, 7)\n",
      "SARIMAX: (2, 0, 1) x (0, 1, 0, 7)\n",
      "SARIMAX: (2, 0, 1) x (0, 1, 1, 7)\n",
      "SARIMAX: (2, 0, 1) x (0, 1, 2, 7)\n",
      "SARIMAX: (2, 0, 1) x (0, 1, 3, 7)\n",
      "SARIMAX: (2, 0, 1) x (0, 1, 4, 7)\n",
      "SARIMAX: (2, 0, 1) x (1, 1, 0, 7)\n",
      "SARIMAX: (2, 0, 1) x (1, 1, 1, 7)\n",
      "SARIMAX: (2, 0, 1) x (1, 1, 2, 7)\n",
      "SARIMAX: (2, 0, 1) x (1, 1, 3, 7)\n",
      "SARIMAX: (2, 0, 1) x (1, 1, 4, 7)\n",
      "SARIMAX: (2, 0, 1) x (2, 1, 0, 7)\n",
      "SARIMAX: (2, 0, 1) x (2, 1, 1, 7)\n",
      "SARIMAX: (2, 0, 1) x (2, 1, 2, 7)\n",
      "SARIMAX: (2, 0, 1) x (2, 1, 3, 7)\n",
      "SARIMAX: (2, 0, 1) x (2, 1, 4, 7)\n",
      "SARIMAX: (2, 0, 1) x (3, 1, 0, 7)\n",
      "SARIMAX: (2, 0, 1) x (3, 1, 1, 7)\n",
      "SARIMAX: (2, 0, 1) x (3, 1, 2, 7)\n",
      "SARIMAX: (2, 0, 1) x (3, 1, 3, 7)\n",
      "SARIMAX: (2, 0, 1) x (3, 1, 4, 7)\n",
      "SARIMAX: (2, 0, 1) x (4, 1, 0, 7)\n",
      "SARIMAX: (2, 0, 1) x (4, 1, 1, 7)\n",
      "SARIMAX: (2, 0, 1) x (4, 1, 2, 7)\n",
      "SARIMAX: (2, 0, 1) x (4, 1, 3, 7)\n",
      "SARIMAX: (2, 0, 1) x (4, 1, 4, 7)\n",
      "SARIMAX: (2, 0, 2) x (0, 1, 0, 7)\n",
      "SARIMAX: (2, 0, 2) x (0, 1, 1, 7)\n",
      "SARIMAX: (2, 0, 2) x (0, 1, 2, 7)\n",
      "SARIMAX: (2, 0, 2) x (0, 1, 3, 7)\n",
      "SARIMAX: (2, 0, 2) x (0, 1, 4, 7)\n",
      "SARIMAX: (2, 0, 2) x (1, 1, 0, 7)\n",
      "SARIMAX: (2, 0, 2) x (1, 1, 1, 7)\n",
      "SARIMAX: (2, 0, 2) x (1, 1, 2, 7)\n",
      "SARIMAX: (2, 0, 2) x (1, 1, 3, 7)\n",
      "SARIMAX: (2, 0, 2) x (1, 1, 4, 7)\n",
      "SARIMAX: (2, 0, 2) x (2, 1, 0, 7)\n",
      "SARIMAX: (2, 0, 2) x (2, 1, 1, 7)\n",
      "SARIMAX: (2, 0, 2) x (2, 1, 2, 7)\n",
      "SARIMAX: (2, 0, 2) x (2, 1, 3, 7)\n",
      "SARIMAX: (2, 0, 2) x (2, 1, 4, 7)\n",
      "SARIMAX: (2, 0, 2) x (3, 1, 0, 7)\n",
      "SARIMAX: (2, 0, 2) x (3, 1, 1, 7)\n",
      "SARIMAX: (2, 0, 2) x (3, 1, 2, 7)\n",
      "SARIMAX: (2, 0, 2) x (3, 1, 3, 7)\n",
      "SARIMAX: (2, 0, 2) x (3, 1, 4, 7)\n",
      "SARIMAX: (2, 0, 2) x (4, 1, 0, 7)\n",
      "SARIMAX: (2, 0, 2) x (4, 1, 1, 7)\n",
      "SARIMAX: (2, 0, 2) x (4, 1, 2, 7)\n",
      "SARIMAX: (2, 0, 2) x (4, 1, 3, 7)\n",
      "SARIMAX: (2, 0, 2) x (4, 1, 4, 7)\n",
      "SARIMAX: (2, 0, 3) x (0, 1, 0, 7)\n",
      "SARIMAX: (2, 0, 3) x (0, 1, 1, 7)\n",
      "SARIMAX: (2, 0, 3) x (0, 1, 2, 7)\n",
      "SARIMAX: (2, 0, 3) x (0, 1, 3, 7)\n",
      "SARIMAX: (2, 0, 3) x (0, 1, 4, 7)\n",
      "SARIMAX: (2, 0, 3) x (1, 1, 0, 7)\n",
      "SARIMAX: (2, 0, 3) x (1, 1, 1, 7)\n",
      "SARIMAX: (2, 0, 3) x (1, 1, 2, 7)\n",
      "SARIMAX: (2, 0, 3) x (1, 1, 3, 7)\n",
      "SARIMAX: (2, 0, 3) x (1, 1, 4, 7)\n",
      "SARIMAX: (2, 0, 3) x (2, 1, 0, 7)\n",
      "SARIMAX: (2, 0, 3) x (2, 1, 1, 7)\n",
      "SARIMAX: (2, 0, 3) x (2, 1, 2, 7)\n",
      "SARIMAX: (2, 0, 3) x (2, 1, 3, 7)\n",
      "SARIMAX: (2, 0, 3) x (2, 1, 4, 7)\n",
      "SARIMAX: (2, 0, 3) x (3, 1, 0, 7)\n",
      "SARIMAX: (2, 0, 3) x (3, 1, 1, 7)\n",
      "SARIMAX: (2, 0, 3) x (3, 1, 2, 7)\n",
      "SARIMAX: (2, 0, 3) x (3, 1, 3, 7)\n",
      "SARIMAX: (2, 0, 3) x (3, 1, 4, 7)\n",
      "SARIMAX: (2, 0, 3) x (4, 1, 0, 7)\n",
      "SARIMAX: (2, 0, 3) x (4, 1, 1, 7)\n",
      "SARIMAX: (2, 0, 3) x (4, 1, 2, 7)\n",
      "SARIMAX: (2, 0, 3) x (4, 1, 3, 7)\n",
      "SARIMAX: (2, 0, 3) x (4, 1, 4, 7)\n",
      "SARIMAX: (2, 0, 4) x (0, 1, 0, 7)\n",
      "SARIMAX: (2, 0, 4) x (0, 1, 1, 7)\n",
      "SARIMAX: (2, 0, 4) x (0, 1, 2, 7)\n",
      "SARIMAX: (2, 0, 4) x (0, 1, 3, 7)\n",
      "SARIMAX: (2, 0, 4) x (0, 1, 4, 7)\n",
      "SARIMAX: (2, 0, 4) x (1, 1, 0, 7)\n",
      "SARIMAX: (2, 0, 4) x (1, 1, 1, 7)\n",
      "SARIMAX: (2, 0, 4) x (1, 1, 2, 7)\n",
      "SARIMAX: (2, 0, 4) x (1, 1, 3, 7)\n",
      "SARIMAX: (2, 0, 4) x (1, 1, 4, 7)\n",
      "SARIMAX: (2, 0, 4) x (2, 1, 0, 7)\n",
      "SARIMAX: (2, 0, 4) x (2, 1, 1, 7)\n",
      "SARIMAX: (2, 0, 4) x (2, 1, 2, 7)\n",
      "SARIMAX: (2, 0, 4) x (2, 1, 3, 7)\n",
      "SARIMAX: (2, 0, 4) x (2, 1, 4, 7)\n",
      "SARIMAX: (2, 0, 4) x (3, 1, 0, 7)\n",
      "SARIMAX: (2, 0, 4) x (3, 1, 1, 7)\n",
      "SARIMAX: (2, 0, 4) x (3, 1, 2, 7)\n",
      "SARIMAX: (2, 0, 4) x (3, 1, 3, 7)\n",
      "SARIMAX: (2, 0, 4) x (3, 1, 4, 7)\n",
      "SARIMAX: (2, 0, 4) x (4, 1, 0, 7)\n",
      "SARIMAX: (2, 0, 4) x (4, 1, 1, 7)\n",
      "SARIMAX: (2, 0, 4) x (4, 1, 2, 7)\n",
      "SARIMAX: (2, 0, 4) x (4, 1, 3, 7)\n",
      "SARIMAX: (2, 0, 4) x (4, 1, 4, 7)\n",
      "SARIMAX: (3, 0, 0) x (0, 1, 0, 7)\n",
      "SARIMAX: (3, 0, 0) x (0, 1, 1, 7)\n",
      "SARIMAX: (3, 0, 0) x (0, 1, 2, 7)\n",
      "SARIMAX: (3, 0, 0) x (0, 1, 3, 7)\n",
      "SARIMAX: (3, 0, 0) x (0, 1, 4, 7)\n",
      "SARIMAX: (3, 0, 0) x (1, 1, 0, 7)\n",
      "SARIMAX: (3, 0, 0) x (1, 1, 1, 7)\n",
      "SARIMAX: (3, 0, 0) x (1, 1, 2, 7)\n",
      "SARIMAX: (3, 0, 0) x (1, 1, 3, 7)\n",
      "SARIMAX: (3, 0, 0) x (1, 1, 4, 7)\n",
      "SARIMAX: (3, 0, 0) x (2, 1, 0, 7)\n",
      "SARIMAX: (3, 0, 0) x (2, 1, 1, 7)\n",
      "SARIMAX: (3, 0, 0) x (2, 1, 2, 7)\n",
      "SARIMAX: (3, 0, 0) x (2, 1, 3, 7)\n",
      "SARIMAX: (3, 0, 0) x (2, 1, 4, 7)\n",
      "SARIMAX: (3, 0, 0) x (3, 1, 0, 7)\n",
      "SARIMAX: (3, 0, 0) x (3, 1, 1, 7)\n",
      "SARIMAX: (3, 0, 0) x (3, 1, 2, 7)\n",
      "SARIMAX: (3, 0, 0) x (3, 1, 3, 7)\n",
      "SARIMAX: (3, 0, 0) x (3, 1, 4, 7)\n",
      "SARIMAX: (3, 0, 0) x (4, 1, 0, 7)\n",
      "SARIMAX: (3, 0, 0) x (4, 1, 1, 7)\n",
      "SARIMAX: (3, 0, 0) x (4, 1, 2, 7)\n",
      "SARIMAX: (3, 0, 0) x (4, 1, 3, 7)\n",
      "SARIMAX: (3, 0, 0) x (4, 1, 4, 7)\n",
      "SARIMAX: (3, 0, 1) x (0, 1, 0, 7)\n",
      "SARIMAX: (3, 0, 1) x (0, 1, 1, 7)\n",
      "SARIMAX: (3, 0, 1) x (0, 1, 2, 7)\n",
      "SARIMAX: (3, 0, 1) x (0, 1, 3, 7)\n",
      "SARIMAX: (3, 0, 1) x (0, 1, 4, 7)\n",
      "SARIMAX: (3, 0, 1) x (1, 1, 0, 7)\n",
      "SARIMAX: (3, 0, 1) x (1, 1, 1, 7)\n",
      "SARIMAX: (3, 0, 1) x (1, 1, 2, 7)\n",
      "SARIMAX: (3, 0, 1) x (1, 1, 3, 7)\n",
      "SARIMAX: (3, 0, 1) x (1, 1, 4, 7)\n",
      "SARIMAX: (3, 0, 1) x (2, 1, 0, 7)\n",
      "SARIMAX: (3, 0, 1) x (2, 1, 1, 7)\n",
      "SARIMAX: (3, 0, 1) x (2, 1, 2, 7)\n",
      "SARIMAX: (3, 0, 1) x (2, 1, 3, 7)\n",
      "SARIMAX: (3, 0, 1) x (2, 1, 4, 7)\n",
      "SARIMAX: (3, 0, 1) x (3, 1, 0, 7)\n",
      "SARIMAX: (3, 0, 1) x (3, 1, 1, 7)\n",
      "SARIMAX: (3, 0, 1) x (3, 1, 2, 7)\n",
      "SARIMAX: (3, 0, 1) x (3, 1, 3, 7)\n",
      "SARIMAX: (3, 0, 1) x (3, 1, 4, 7)\n",
      "SARIMAX: (3, 0, 1) x (4, 1, 0, 7)\n",
      "SARIMAX: (3, 0, 1) x (4, 1, 1, 7)\n",
      "SARIMAX: (3, 0, 1) x (4, 1, 2, 7)\n",
      "SARIMAX: (3, 0, 1) x (4, 1, 3, 7)\n",
      "SARIMAX: (3, 0, 1) x (4, 1, 4, 7)\n",
      "SARIMAX: (3, 0, 2) x (0, 1, 0, 7)\n",
      "SARIMAX: (3, 0, 2) x (0, 1, 1, 7)\n",
      "SARIMAX: (3, 0, 2) x (0, 1, 2, 7)\n",
      "SARIMAX: (3, 0, 2) x (0, 1, 3, 7)\n",
      "SARIMAX: (3, 0, 2) x (0, 1, 4, 7)\n",
      "SARIMAX: (3, 0, 2) x (1, 1, 0, 7)\n",
      "SARIMAX: (3, 0, 2) x (1, 1, 1, 7)\n",
      "SARIMAX: (3, 0, 2) x (1, 1, 2, 7)\n",
      "SARIMAX: (3, 0, 2) x (1, 1, 3, 7)\n",
      "SARIMAX: (3, 0, 2) x (1, 1, 4, 7)\n",
      "SARIMAX: (3, 0, 2) x (2, 1, 0, 7)\n",
      "SARIMAX: (3, 0, 2) x (2, 1, 1, 7)\n",
      "SARIMAX: (3, 0, 2) x (2, 1, 2, 7)\n",
      "SARIMAX: (3, 0, 2) x (2, 1, 3, 7)\n",
      "SARIMAX: (3, 0, 2) x (2, 1, 4, 7)\n",
      "SARIMAX: (3, 0, 2) x (3, 1, 0, 7)\n",
      "SARIMAX: (3, 0, 2) x (3, 1, 1, 7)\n",
      "SARIMAX: (3, 0, 2) x (3, 1, 2, 7)\n",
      "SARIMAX: (3, 0, 2) x (3, 1, 3, 7)\n",
      "SARIMAX: (3, 0, 2) x (3, 1, 4, 7)\n",
      "SARIMAX: (3, 0, 2) x (4, 1, 0, 7)\n",
      "SARIMAX: (3, 0, 2) x (4, 1, 1, 7)\n",
      "SARIMAX: (3, 0, 2) x (4, 1, 2, 7)\n",
      "SARIMAX: (3, 0, 2) x (4, 1, 3, 7)\n",
      "SARIMAX: (3, 0, 2) x (4, 1, 4, 7)\n",
      "SARIMAX: (3, 0, 3) x (0, 1, 0, 7)\n",
      "SARIMAX: (3, 0, 3) x (0, 1, 1, 7)\n",
      "SARIMAX: (3, 0, 3) x (0, 1, 2, 7)\n",
      "SARIMAX: (3, 0, 3) x (0, 1, 3, 7)\n",
      "SARIMAX: (3, 0, 3) x (0, 1, 4, 7)\n",
      "SARIMAX: (3, 0, 3) x (1, 1, 0, 7)\n",
      "SARIMAX: (3, 0, 3) x (1, 1, 1, 7)\n",
      "SARIMAX: (3, 0, 3) x (1, 1, 2, 7)\n",
      "SARIMAX: (3, 0, 3) x (1, 1, 3, 7)\n",
      "SARIMAX: (3, 0, 3) x (1, 1, 4, 7)\n",
      "SARIMAX: (3, 0, 3) x (2, 1, 0, 7)\n",
      "SARIMAX: (3, 0, 3) x (2, 1, 1, 7)\n",
      "SARIMAX: (3, 0, 3) x (2, 1, 2, 7)\n",
      "SARIMAX: (3, 0, 3) x (2, 1, 3, 7)\n",
      "SARIMAX: (3, 0, 3) x (2, 1, 4, 7)\n",
      "SARIMAX: (3, 0, 3) x (3, 1, 0, 7)\n",
      "SARIMAX: (3, 0, 3) x (3, 1, 1, 7)\n",
      "SARIMAX: (3, 0, 3) x (3, 1, 2, 7)\n",
      "SARIMAX: (3, 0, 3) x (3, 1, 3, 7)\n",
      "SARIMAX: (3, 0, 3) x (3, 1, 4, 7)\n",
      "SARIMAX: (3, 0, 3) x (4, 1, 0, 7)\n",
      "SARIMAX: (3, 0, 3) x (4, 1, 1, 7)\n",
      "SARIMAX: (3, 0, 3) x (4, 1, 2, 7)\n",
      "SARIMAX: (3, 0, 3) x (4, 1, 3, 7)\n",
      "SARIMAX: (3, 0, 3) x (4, 1, 4, 7)\n",
      "SARIMAX: (3, 0, 4) x (0, 1, 0, 7)\n",
      "SARIMAX: (3, 0, 4) x (0, 1, 1, 7)\n",
      "SARIMAX: (3, 0, 4) x (0, 1, 2, 7)\n",
      "SARIMAX: (3, 0, 4) x (0, 1, 3, 7)\n",
      "SARIMAX: (3, 0, 4) x (0, 1, 4, 7)\n",
      "SARIMAX: (3, 0, 4) x (1, 1, 0, 7)\n",
      "SARIMAX: (3, 0, 4) x (1, 1, 1, 7)\n",
      "SARIMAX: (3, 0, 4) x (1, 1, 2, 7)\n",
      "SARIMAX: (3, 0, 4) x (1, 1, 3, 7)\n",
      "SARIMAX: (3, 0, 4) x (1, 1, 4, 7)\n",
      "SARIMAX: (3, 0, 4) x (2, 1, 0, 7)\n",
      "SARIMAX: (3, 0, 4) x (2, 1, 1, 7)\n",
      "SARIMAX: (3, 0, 4) x (2, 1, 2, 7)\n",
      "SARIMAX: (3, 0, 4) x (2, 1, 3, 7)\n",
      "SARIMAX: (3, 0, 4) x (2, 1, 4, 7)\n",
      "SARIMAX: (3, 0, 4) x (3, 1, 0, 7)\n",
      "SARIMAX: (3, 0, 4) x (3, 1, 1, 7)\n",
      "SARIMAX: (3, 0, 4) x (3, 1, 2, 7)\n",
      "SARIMAX: (3, 0, 4) x (3, 1, 3, 7)\n",
      "SARIMAX: (3, 0, 4) x (3, 1, 4, 7)\n",
      "SARIMAX: (3, 0, 4) x (4, 1, 0, 7)\n",
      "SARIMAX: (3, 0, 4) x (4, 1, 1, 7)\n",
      "SARIMAX: (3, 0, 4) x (4, 1, 2, 7)\n",
      "SARIMAX: (3, 0, 4) x (4, 1, 3, 7)\n",
      "SARIMAX: (3, 0, 4) x (4, 1, 4, 7)\n",
      "SARIMAX: (4, 0, 0) x (0, 1, 0, 7)\n",
      "SARIMAX: (4, 0, 0) x (0, 1, 1, 7)\n",
      "SARIMAX: (4, 0, 0) x (0, 1, 2, 7)\n",
      "SARIMAX: (4, 0, 0) x (0, 1, 3, 7)\n",
      "SARIMAX: (4, 0, 0) x (0, 1, 4, 7)\n",
      "SARIMAX: (4, 0, 0) x (1, 1, 0, 7)\n",
      "SARIMAX: (4, 0, 0) x (1, 1, 1, 7)\n",
      "SARIMAX: (4, 0, 0) x (1, 1, 2, 7)\n",
      "SARIMAX: (4, 0, 0) x (1, 1, 3, 7)\n",
      "SARIMAX: (4, 0, 0) x (1, 1, 4, 7)\n",
      "SARIMAX: (4, 0, 0) x (2, 1, 0, 7)\n",
      "SARIMAX: (4, 0, 0) x (2, 1, 1, 7)\n",
      "SARIMAX: (4, 0, 0) x (2, 1, 2, 7)\n",
      "SARIMAX: (4, 0, 0) x (2, 1, 3, 7)\n",
      "SARIMAX: (4, 0, 0) x (2, 1, 4, 7)\n",
      "SARIMAX: (4, 0, 0) x (3, 1, 0, 7)\n",
      "SARIMAX: (4, 0, 0) x (3, 1, 1, 7)\n",
      "SARIMAX: (4, 0, 0) x (3, 1, 2, 7)\n",
      "SARIMAX: (4, 0, 0) x (3, 1, 3, 7)\n",
      "SARIMAX: (4, 0, 0) x (3, 1, 4, 7)\n",
      "SARIMAX: (4, 0, 0) x (4, 1, 0, 7)\n",
      "SARIMAX: (4, 0, 0) x (4, 1, 1, 7)\n",
      "SARIMAX: (4, 0, 0) x (4, 1, 2, 7)\n",
      "SARIMAX: (4, 0, 0) x (4, 1, 3, 7)\n",
      "SARIMAX: (4, 0, 0) x (4, 1, 4, 7)\n",
      "SARIMAX: (4, 0, 1) x (0, 1, 0, 7)\n",
      "SARIMAX: (4, 0, 1) x (0, 1, 1, 7)\n",
      "SARIMAX: (4, 0, 1) x (0, 1, 2, 7)\n",
      "SARIMAX: (4, 0, 1) x (0, 1, 3, 7)\n",
      "SARIMAX: (4, 0, 1) x (0, 1, 4, 7)\n",
      "SARIMAX: (4, 0, 1) x (1, 1, 0, 7)\n",
      "SARIMAX: (4, 0, 1) x (1, 1, 1, 7)\n",
      "SARIMAX: (4, 0, 1) x (1, 1, 2, 7)\n",
      "SARIMAX: (4, 0, 1) x (1, 1, 3, 7)\n",
      "SARIMAX: (4, 0, 1) x (1, 1, 4, 7)\n",
      "SARIMAX: (4, 0, 1) x (2, 1, 0, 7)\n",
      "SARIMAX: (4, 0, 1) x (2, 1, 1, 7)\n",
      "SARIMAX: (4, 0, 1) x (2, 1, 2, 7)\n",
      "SARIMAX: (4, 0, 1) x (2, 1, 3, 7)\n",
      "SARIMAX: (4, 0, 1) x (2, 1, 4, 7)\n",
      "SARIMAX: (4, 0, 1) x (3, 1, 0, 7)\n",
      "SARIMAX: (4, 0, 1) x (3, 1, 1, 7)\n",
      "SARIMAX: (4, 0, 1) x (3, 1, 2, 7)\n",
      "SARIMAX: (4, 0, 1) x (3, 1, 3, 7)\n",
      "SARIMAX: (4, 0, 1) x (3, 1, 4, 7)\n",
      "SARIMAX: (4, 0, 1) x (4, 1, 0, 7)\n",
      "SARIMAX: (4, 0, 1) x (4, 1, 1, 7)\n",
      "SARIMAX: (4, 0, 1) x (4, 1, 2, 7)\n",
      "SARIMAX: (4, 0, 1) x (4, 1, 3, 7)\n",
      "SARIMAX: (4, 0, 1) x (4, 1, 4, 7)\n",
      "SARIMAX: (4, 0, 2) x (0, 1, 0, 7)\n",
      "SARIMAX: (4, 0, 2) x (0, 1, 1, 7)\n",
      "SARIMAX: (4, 0, 2) x (0, 1, 2, 7)\n",
      "SARIMAX: (4, 0, 2) x (0, 1, 3, 7)\n",
      "SARIMAX: (4, 0, 2) x (0, 1, 4, 7)\n",
      "SARIMAX: (4, 0, 2) x (1, 1, 0, 7)\n",
      "SARIMAX: (4, 0, 2) x (1, 1, 1, 7)\n",
      "SARIMAX: (4, 0, 2) x (1, 1, 2, 7)\n",
      "SARIMAX: (4, 0, 2) x (1, 1, 3, 7)\n",
      "SARIMAX: (4, 0, 2) x (1, 1, 4, 7)\n",
      "SARIMAX: (4, 0, 2) x (2, 1, 0, 7)\n",
      "SARIMAX: (4, 0, 2) x (2, 1, 1, 7)\n",
      "SARIMAX: (4, 0, 2) x (2, 1, 2, 7)\n",
      "SARIMAX: (4, 0, 2) x (2, 1, 3, 7)\n",
      "SARIMAX: (4, 0, 2) x (2, 1, 4, 7)\n",
      "SARIMAX: (4, 0, 2) x (3, 1, 0, 7)\n",
      "SARIMAX: (4, 0, 2) x (3, 1, 1, 7)\n",
      "SARIMAX: (4, 0, 2) x (3, 1, 2, 7)\n",
      "SARIMAX: (4, 0, 2) x (3, 1, 3, 7)\n",
      "SARIMAX: (4, 0, 2) x (3, 1, 4, 7)\n",
      "SARIMAX: (4, 0, 2) x (4, 1, 0, 7)\n",
      "SARIMAX: (4, 0, 2) x (4, 1, 1, 7)\n",
      "SARIMAX: (4, 0, 2) x (4, 1, 2, 7)\n",
      "SARIMAX: (4, 0, 2) x (4, 1, 3, 7)\n",
      "SARIMAX: (4, 0, 2) x (4, 1, 4, 7)\n",
      "SARIMAX: (4, 0, 3) x (0, 1, 0, 7)\n",
      "SARIMAX: (4, 0, 3) x (0, 1, 1, 7)\n",
      "SARIMAX: (4, 0, 3) x (0, 1, 2, 7)\n",
      "SARIMAX: (4, 0, 3) x (0, 1, 3, 7)\n",
      "SARIMAX: (4, 0, 3) x (0, 1, 4, 7)\n",
      "SARIMAX: (4, 0, 3) x (1, 1, 0, 7)\n",
      "SARIMAX: (4, 0, 3) x (1, 1, 1, 7)\n",
      "SARIMAX: (4, 0, 3) x (1, 1, 2, 7)\n",
      "SARIMAX: (4, 0, 3) x (1, 1, 3, 7)\n",
      "SARIMAX: (4, 0, 3) x (1, 1, 4, 7)\n",
      "SARIMAX: (4, 0, 3) x (2, 1, 0, 7)\n",
      "SARIMAX: (4, 0, 3) x (2, 1, 1, 7)\n",
      "SARIMAX: (4, 0, 3) x (2, 1, 2, 7)\n",
      "SARIMAX: (4, 0, 3) x (2, 1, 3, 7)\n",
      "SARIMAX: (4, 0, 3) x (2, 1, 4, 7)\n",
      "SARIMAX: (4, 0, 3) x (3, 1, 0, 7)\n",
      "SARIMAX: (4, 0, 3) x (3, 1, 1, 7)\n",
      "SARIMAX: (4, 0, 3) x (3, 1, 2, 7)\n",
      "SARIMAX: (4, 0, 3) x (3, 1, 3, 7)\n",
      "SARIMAX: (4, 0, 3) x (3, 1, 4, 7)\n",
      "SARIMAX: (4, 0, 3) x (4, 1, 0, 7)\n",
      "SARIMAX: (4, 0, 3) x (4, 1, 1, 7)\n",
      "SARIMAX: (4, 0, 3) x (4, 1, 2, 7)\n",
      "SARIMAX: (4, 0, 3) x (4, 1, 3, 7)\n",
      "SARIMAX: (4, 0, 3) x (4, 1, 4, 7)\n",
      "SARIMAX: (4, 0, 4) x (0, 1, 0, 7)\n",
      "SARIMAX: (4, 0, 4) x (0, 1, 1, 7)\n",
      "SARIMAX: (4, 0, 4) x (0, 1, 2, 7)\n",
      "SARIMAX: (4, 0, 4) x (0, 1, 3, 7)\n",
      "SARIMAX: (4, 0, 4) x (0, 1, 4, 7)\n",
      "SARIMAX: (4, 0, 4) x (1, 1, 0, 7)\n",
      "SARIMAX: (4, 0, 4) x (1, 1, 1, 7)\n",
      "SARIMAX: (4, 0, 4) x (1, 1, 2, 7)\n",
      "SARIMAX: (4, 0, 4) x (1, 1, 3, 7)\n",
      "SARIMAX: (4, 0, 4) x (1, 1, 4, 7)\n",
      "SARIMAX: (4, 0, 4) x (2, 1, 0, 7)\n",
      "SARIMAX: (4, 0, 4) x (2, 1, 1, 7)\n",
      "SARIMAX: (4, 0, 4) x (2, 1, 2, 7)\n",
      "SARIMAX: (4, 0, 4) x (2, 1, 3, 7)\n",
      "SARIMAX: (4, 0, 4) x (2, 1, 4, 7)\n",
      "SARIMAX: (4, 0, 4) x (3, 1, 0, 7)\n",
      "SARIMAX: (4, 0, 4) x (3, 1, 1, 7)\n",
      "SARIMAX: (4, 0, 4) x (3, 1, 2, 7)\n",
      "SARIMAX: (4, 0, 4) x (3, 1, 3, 7)\n",
      "SARIMAX: (4, 0, 4) x (3, 1, 4, 7)\n",
      "SARIMAX: (4, 0, 4) x (4, 1, 0, 7)\n",
      "SARIMAX: (4, 0, 4) x (4, 1, 1, 7)\n",
      "SARIMAX: (4, 0, 4) x (4, 1, 2, 7)\n",
      "SARIMAX: (4, 0, 4) x (4, 1, 3, 7)\n",
      "SARIMAX: (4, 0, 4) x (4, 1, 4, 7)\n"
     ]
    }
   ],
   "source": [
    "p = q = range(0, 5)\n",
    "pdq = list(itertools.product(p, [0], q))\n",
    "seasonal_pdq = [(x[0], x[1], x[2], 7) for x in list(itertools.product(p, [1], q))]\n",
    "print('Examples of parameter for SARIMA...')\n",
    "for i in pdq:\n",
    "    for s in seasonal_pdq:\n",
    "        print('SARIMAX: {} x {}'.format(i, s))"
   ]
  },
  {
   "cell_type": "code",
   "execution_count": null,
   "metadata": {},
   "outputs": [
    {
     "name": "stdout",
     "output_type": "stream",
     "text": [
      "ARIMA(0, 0, 0)x(0, 1, 0, 7) - AIC:12625.09984925855\n",
      "ARIMA(0, 0, 0)x(0, 1, 1, 7) - AIC:12183.529184428899\n",
      "ARIMA(0, 0, 0)x(0, 1, 2, 7) - AIC:12081.189278850172\n",
      "ARIMA(0, 0, 0)x(0, 1, 3, 7) - AIC:12021.214250209761\n",
      "ARIMA(0, 0, 0)x(0, 1, 4, 7) - AIC:11961.274847876652\n",
      "ARIMA(0, 0, 0)x(1, 1, 0, 7) - AIC:12367.1997554394\n",
      "ARIMA(0, 0, 0)x(1, 1, 1, 7) - AIC:12141.643039204962\n",
      "ARIMA(0, 0, 0)x(1, 1, 2, 7) - AIC:12068.860113281404\n",
      "ARIMA(0, 0, 0)x(1, 1, 3, 7) - AIC:12022.508827050144\n",
      "ARIMA(0, 0, 0)x(1, 1, 4, 7) - AIC:11960.766757012632\n",
      "ARIMA(0, 0, 0)x(2, 1, 0, 7) - AIC:12237.678500607863\n",
      "ARIMA(0, 0, 0)x(2, 1, 1, 7) - AIC:12082.960589540344\n",
      "ARIMA(0, 0, 0)x(2, 1, 2, 7) - AIC:12077.198364957749\n",
      "ARIMA(0, 0, 0)x(2, 1, 3, 7) - AIC:12015.841702334892\n",
      "Oops!\n",
      "ARIMA(0, 0, 0)x(3, 1, 0, 7) - AIC:12134.742617866908\n",
      "ARIMA(0, 0, 0)x(3, 1, 1, 7) - AIC:12025.267758444028\n",
      "ARIMA(0, 0, 0)x(3, 1, 2, 7) - AIC:12025.149718674751\n",
      "Oops!\n",
      "ARIMA(0, 0, 0)x(3, 1, 4, 7) - AIC:11956.816004334078\n",
      "ARIMA(0, 0, 0)x(4, 1, 0, 7) - AIC:12020.473013115985\n",
      "ARIMA(0, 0, 0)x(4, 1, 1, 7) - AIC:11969.489976590576\n",
      "ARIMA(0, 0, 0)x(4, 1, 2, 7) - AIC:11967.28277398286\n"
     ]
    },
    {
     "name": "stderr",
     "output_type": "stream",
     "text": [
      "/opt/anaconda3/envs/learn-env/lib/python3.8/site-packages/statsmodels/base/model.py:604: ConvergenceWarning: Maximum Likelihood optimization failed to converge. Check mle_retvals\n",
      "  warnings.warn(\"Maximum Likelihood optimization failed to \"\n"
     ]
    },
    {
     "name": "stdout",
     "output_type": "stream",
     "text": [
      "ARIMA(0, 0, 0)x(4, 1, 3, 7) - AIC:11967.248517921777\n"
     ]
    },
    {
     "name": "stderr",
     "output_type": "stream",
     "text": [
      "/opt/anaconda3/envs/learn-env/lib/python3.8/site-packages/statsmodels/base/model.py:604: ConvergenceWarning: Maximum Likelihood optimization failed to converge. Check mle_retvals\n",
      "  warnings.warn(\"Maximum Likelihood optimization failed to \"\n"
     ]
    },
    {
     "name": "stdout",
     "output_type": "stream",
     "text": [
      "ARIMA(0, 0, 0)x(4, 1, 4, 7) - AIC:11958.692320764618\n",
      "ARIMA(0, 0, 1)x(0, 1, 0, 7) - AIC:12414.901357367715\n",
      "ARIMA(0, 0, 1)x(0, 1, 1, 7) - AIC:11908.210466926497\n",
      "ARIMA(0, 0, 1)x(0, 1, 2, 7) - AIC:11824.353796625746\n",
      "ARIMA(0, 0, 1)x(0, 1, 3, 7) - AIC:11766.391615265307\n",
      "ARIMA(0, 0, 1)x(0, 1, 4, 7) - AIC:11709.854459958166\n",
      "ARIMA(0, 0, 1)x(1, 1, 0, 7) - AIC:12131.388901173836\n",
      "ARIMA(0, 0, 1)x(1, 1, 1, 7) - AIC:11880.617674357696\n",
      "ARIMA(0, 0, 1)x(1, 1, 2, 7) - AIC:11814.193423326156\n",
      "ARIMA(0, 0, 1)x(1, 1, 3, 7) - AIC:11768.381136214852\n",
      "ARIMA(0, 0, 1)x(1, 1, 4, 7) - AIC:11710.362811753916\n",
      "ARIMA(0, 0, 1)x(2, 1, 0, 7) - AIC:11997.402226812554\n",
      "ARIMA(0, 0, 1)x(2, 1, 1, 7) - AIC:11837.564026660919\n",
      "ARIMA(0, 0, 1)x(2, 1, 2, 7) - AIC:11823.583801157773\n",
      "ARIMA(0, 0, 1)x(2, 1, 3, 7) - AIC:11763.285210704113\n",
      "ARIMA(0, 0, 1)x(2, 1, 4, 7) - AIC:11710.150719207657\n",
      "ARIMA(0, 0, 1)x(3, 1, 0, 7) - AIC:11893.278053120071\n",
      "ARIMA(0, 0, 1)x(3, 1, 1, 7) - AIC:11780.648407724699\n",
      "ARIMA(0, 0, 1)x(3, 1, 2, 7) - AIC:11782.071063874813\n",
      "ARIMA(0, 0, 1)x(3, 1, 3, 7) - AIC:11767.234417924115\n",
      "ARIMA(0, 0, 1)x(3, 1, 4, 7) - AIC:11710.166827011028\n",
      "ARIMA(0, 0, 1)x(4, 1, 0, 7) - AIC:11785.751355996048\n",
      "ARIMA(0, 0, 1)x(4, 1, 1, 7) - AIC:11724.558793408589\n",
      "ARIMA(0, 0, 1)x(4, 1, 2, 7) - AIC:11724.136135233875\n"
     ]
    },
    {
     "name": "stderr",
     "output_type": "stream",
     "text": [
      "/opt/anaconda3/envs/learn-env/lib/python3.8/site-packages/statsmodels/base/model.py:604: ConvergenceWarning: Maximum Likelihood optimization failed to converge. Check mle_retvals\n",
      "  warnings.warn(\"Maximum Likelihood optimization failed to \"\n"
     ]
    },
    {
     "name": "stdout",
     "output_type": "stream",
     "text": [
      "ARIMA(0, 0, 1)x(4, 1, 3, 7) - AIC:11723.783586626141\n",
      "ARIMA(0, 0, 1)x(4, 1, 4, 7) - AIC:11711.955145706863\n",
      "ARIMA(0, 0, 2)x(0, 1, 0, 7) - AIC:12321.559389946276\n",
      "ARIMA(0, 0, 2)x(0, 1, 1, 7) - AIC:11751.252585521026\n",
      "ARIMA(0, 0, 2)x(0, 1, 2, 7) - AIC:11679.11141103646\n",
      "ARIMA(0, 0, 2)x(0, 1, 3, 7) - AIC:11624.539871356461\n",
      "ARIMA(0, 0, 2)x(0, 1, 4, 7) - AIC:11571.243858525511\n",
      "ARIMA(0, 0, 2)x(1, 1, 0, 7) - AIC:12021.739135977425\n",
      "ARIMA(0, 0, 2)x(1, 1, 1, 7) - AIC:11734.244537179722\n",
      "ARIMA(0, 0, 2)x(1, 1, 2, 7) - AIC:11671.177856303719\n",
      "ARIMA(0, 0, 2)x(1, 1, 3, 7) - AIC:11626.452800133247\n",
      "ARIMA(0, 0, 2)x(1, 1, 4, 7) - AIC:11571.0538638758\n",
      "ARIMA(0, 0, 2)x(2, 1, 0, 7) - AIC:11874.713682227717\n",
      "ARIMA(0, 0, 2)x(2, 1, 1, 7) - AIC:11706.985925033063\n",
      "ARIMA(0, 0, 2)x(2, 1, 2, 7) - AIC:11680.843281409263\n",
      "ARIMA(0, 0, 2)x(2, 1, 3, 7) - AIC:11628.04999161416\n",
      "ARIMA(0, 0, 2)x(2, 1, 4, 7) - AIC:11571.541970533803\n",
      "ARIMA(0, 0, 2)x(3, 1, 0, 7) - AIC:11761.945072544853\n",
      "ARIMA(0, 0, 2)x(3, 1, 1, 7) - AIC:11646.702996434386\n",
      "ARIMA(0, 0, 2)x(3, 1, 2, 7) - AIC:11648.432591768247\n"
     ]
    },
    {
     "name": "stderr",
     "output_type": "stream",
     "text": [
      "/opt/anaconda3/envs/learn-env/lib/python3.8/site-packages/statsmodels/base/model.py:604: ConvergenceWarning: Maximum Likelihood optimization failed to converge. Check mle_retvals\n",
      "  warnings.warn(\"Maximum Likelihood optimization failed to \"\n"
     ]
    },
    {
     "name": "stdout",
     "output_type": "stream",
     "text": [
      "ARIMA(0, 0, 2)x(3, 1, 3, 7) - AIC:11620.204447933935\n",
      "ARIMA(0, 0, 2)x(3, 1, 4, 7) - AIC:11571.79364994451\n",
      "ARIMA(0, 0, 2)x(4, 1, 0, 7) - AIC:11653.115935327205\n",
      "ARIMA(0, 0, 2)x(4, 1, 1, 7) - AIC:11590.766700704316\n",
      "ARIMA(0, 0, 2)x(4, 1, 2, 7) - AIC:11592.641540556671\n"
     ]
    },
    {
     "name": "stderr",
     "output_type": "stream",
     "text": [
      "/opt/anaconda3/envs/learn-env/lib/python3.8/site-packages/statsmodels/base/model.py:604: ConvergenceWarning: Maximum Likelihood optimization failed to converge. Check mle_retvals\n",
      "  warnings.warn(\"Maximum Likelihood optimization failed to \"\n"
     ]
    },
    {
     "name": "stdout",
     "output_type": "stream",
     "text": [
      "ARIMA(0, 0, 2)x(4, 1, 3, 7) - AIC:11588.495479609144\n"
     ]
    },
    {
     "name": "stderr",
     "output_type": "stream",
     "text": [
      "/opt/anaconda3/envs/learn-env/lib/python3.8/site-packages/statsmodels/base/model.py:604: ConvergenceWarning: Maximum Likelihood optimization failed to converge. Check mle_retvals\n",
      "  warnings.warn(\"Maximum Likelihood optimization failed to \"\n"
     ]
    },
    {
     "name": "stdout",
     "output_type": "stream",
     "text": [
      "ARIMA(0, 0, 2)x(4, 1, 4, 7) - AIC:11573.735488179638\n",
      "ARIMA(0, 0, 3)x(0, 1, 0, 7) - AIC:12282.442460919285\n",
      "ARIMA(0, 0, 3)x(0, 1, 1, 7) - AIC:11679.95777841414\n",
      "ARIMA(0, 0, 3)x(0, 1, 2, 7) - AIC:11616.94861856274\n",
      "ARIMA(0, 0, 3)x(0, 1, 3, 7) - AIC:11562.361889117787\n",
      "ARIMA(0, 0, 3)x(0, 1, 4, 7) - AIC:11510.617536938296\n",
      "ARIMA(0, 0, 3)x(1, 1, 0, 7) - AIC:11976.429412769598\n",
      "ARIMA(0, 0, 3)x(1, 1, 1, 7) - AIC:11669.3273557209\n",
      "ARIMA(0, 0, 3)x(1, 1, 2, 7) - AIC:11618.007957838054\n",
      "ARIMA(0, 0, 3)x(1, 1, 3, 7) - AIC:11564.137063453953\n",
      "ARIMA(0, 0, 3)x(1, 1, 4, 7) - AIC:11511.37390753937\n",
      "ARIMA(0, 0, 3)x(2, 1, 0, 7) - AIC:11820.217912487635\n",
      "ARIMA(0, 0, 3)x(2, 1, 1, 7) - AIC:11652.252784495595\n",
      "ARIMA(0, 0, 3)x(2, 1, 2, 7) - AIC:11618.93157732944\n",
      "ARIMA(0, 0, 3)x(2, 1, 3, 7) - AIC:11566.131662262887\n",
      "ARIMA(0, 0, 3)x(2, 1, 4, 7) - AIC:11511.199075302738\n",
      "ARIMA(0, 0, 3)x(3, 1, 0, 7) - AIC:11711.807554712444\n",
      "ARIMA(0, 0, 3)x(3, 1, 1, 7) - AIC:11591.43788492307\n",
      "ARIMA(0, 0, 3)x(3, 1, 2, 7) - AIC:11593.13725204506\n"
     ]
    },
    {
     "name": "stderr",
     "output_type": "stream",
     "text": [
      "/opt/anaconda3/envs/learn-env/lib/python3.8/site-packages/statsmodels/base/model.py:604: ConvergenceWarning: Maximum Likelihood optimization failed to converge. Check mle_retvals\n",
      "  warnings.warn(\"Maximum Likelihood optimization failed to \"\n"
     ]
    },
    {
     "name": "stdout",
     "output_type": "stream",
     "text": [
      "ARIMA(0, 0, 3)x(3, 1, 3, 7) - AIC:11557.756755217768\n",
      "ARIMA(0, 0, 3)x(3, 1, 4, 7) - AIC:11511.576625845004\n",
      "ARIMA(0, 0, 3)x(4, 1, 0, 7) - AIC:11604.407930328565\n",
      "ARIMA(0, 0, 3)x(4, 1, 1, 7) - AIC:11535.235362273705\n",
      "ARIMA(0, 0, 3)x(4, 1, 2, 7) - AIC:11537.019152428536\n"
     ]
    },
    {
     "name": "stderr",
     "output_type": "stream",
     "text": [
      "/opt/anaconda3/envs/learn-env/lib/python3.8/site-packages/statsmodels/base/model.py:604: ConvergenceWarning: Maximum Likelihood optimization failed to converge. Check mle_retvals\n",
      "  warnings.warn(\"Maximum Likelihood optimization failed to \"\n"
     ]
    },
    {
     "name": "stdout",
     "output_type": "stream",
     "text": [
      "ARIMA(0, 0, 3)x(4, 1, 3, 7) - AIC:11534.448645724393\n"
     ]
    },
    {
     "name": "stderr",
     "output_type": "stream",
     "text": [
      "/opt/anaconda3/envs/learn-env/lib/python3.8/site-packages/statsmodels/base/model.py:604: ConvergenceWarning: Maximum Likelihood optimization failed to converge. Check mle_retvals\n",
      "  warnings.warn(\"Maximum Likelihood optimization failed to \"\n"
     ]
    },
    {
     "name": "stdout",
     "output_type": "stream",
     "text": [
      "ARIMA(0, 0, 3)x(4, 1, 4, 7) - AIC:11513.494991078765\n",
      "ARIMA(0, 0, 4)x(0, 1, 0, 7) - AIC:12209.771920414425\n",
      "ARIMA(0, 0, 4)x(0, 1, 1, 7) - AIC:11637.398230849332\n",
      "ARIMA(0, 0, 4)x(0, 1, 2, 7) - AIC:11577.204249929291\n",
      "ARIMA(0, 0, 4)x(0, 1, 3, 7) - AIC:11521.143675468988\n",
      "ARIMA(0, 0, 4)x(0, 1, 4, 7) - AIC:11468.266301770665\n",
      "ARIMA(0, 0, 4)x(1, 1, 0, 7) - AIC:11941.48522690672\n",
      "ARIMA(0, 0, 4)x(1, 1, 1, 7) - AIC:11628.756005984933\n",
      "ARIMA(0, 0, 4)x(1, 1, 2, 7) - AIC:11564.713007692346\n",
      "ARIMA(0, 0, 4)x(1, 1, 3, 7) - AIC:11523.12653259073\n",
      "ARIMA(0, 0, 4)x(1, 1, 4, 7) - AIC:11470.087770636148\n",
      "ARIMA(0, 0, 4)x(2, 1, 0, 7) - AIC:11785.766500290756\n",
      "ARIMA(0, 0, 4)x(2, 1, 1, 7) - AIC:11616.404284810178\n",
      "ARIMA(0, 0, 4)x(2, 1, 2, 7) - AIC:11577.56994115575\n"
     ]
    },
    {
     "name": "stderr",
     "output_type": "stream",
     "text": [
      "/opt/anaconda3/envs/learn-env/lib/python3.8/site-packages/statsmodels/base/model.py:604: ConvergenceWarning: Maximum Likelihood optimization failed to converge. Check mle_retvals\n",
      "  warnings.warn(\"Maximum Likelihood optimization failed to \"\n"
     ]
    },
    {
     "name": "stdout",
     "output_type": "stream",
     "text": [
      "ARIMA(0, 0, 4)x(2, 1, 3, 7) - AIC:11510.809413892806\n",
      "ARIMA(0, 0, 4)x(2, 1, 4, 7) - AIC:11470.86848979261\n",
      "ARIMA(0, 0, 4)x(3, 1, 0, 7) - AIC:11677.954562433199\n",
      "ARIMA(0, 0, 4)x(3, 1, 1, 7) - AIC:11555.82772746739\n",
      "ARIMA(0, 0, 4)x(3, 1, 2, 7) - AIC:11557.52259562834\n",
      "ARIMA(0, 0, 4)x(3, 1, 3, 7) - AIC:11512.498788466959\n",
      "ARIMA(0, 0, 4)x(3, 1, 4, 7) - AIC:11472.105598876662\n",
      "ARIMA(0, 0, 4)x(4, 1, 0, 7) - AIC:11575.28167751271\n",
      "ARIMA(0, 0, 4)x(4, 1, 1, 7) - AIC:11499.74541179143\n",
      "ARIMA(0, 0, 4)x(4, 1, 2, 7) - AIC:11501.831540126419\n"
     ]
    },
    {
     "name": "stderr",
     "output_type": "stream",
     "text": [
      "/opt/anaconda3/envs/learn-env/lib/python3.8/site-packages/statsmodels/base/model.py:604: ConvergenceWarning: Maximum Likelihood optimization failed to converge. Check mle_retvals\n",
      "  warnings.warn(\"Maximum Likelihood optimization failed to \"\n"
     ]
    },
    {
     "name": "stdout",
     "output_type": "stream",
     "text": [
      "ARIMA(0, 0, 4)x(4, 1, 3, 7) - AIC:11499.033188507645\n"
     ]
    },
    {
     "name": "stderr",
     "output_type": "stream",
     "text": [
      "/opt/anaconda3/envs/learn-env/lib/python3.8/site-packages/statsmodels/base/model.py:604: ConvergenceWarning: Maximum Likelihood optimization failed to converge. Check mle_retvals\n",
      "  warnings.warn(\"Maximum Likelihood optimization failed to \"\n"
     ]
    },
    {
     "name": "stdout",
     "output_type": "stream",
     "text": [
      "ARIMA(0, 0, 4)x(4, 1, 4, 7) - AIC:11460.939056604726\n",
      "ARIMA(1, 0, 0)x(0, 1, 0, 7) - AIC:12327.090256417972\n",
      "ARIMA(1, 0, 0)x(0, 1, 1, 7) - AIC:11731.155791714096\n",
      "ARIMA(1, 0, 0)x(0, 1, 2, 7) - AIC:11665.603096799952\n",
      "ARIMA(1, 0, 0)x(0, 1, 3, 7) - AIC:11611.249842456906\n",
      "ARIMA(1, 0, 0)x(0, 1, 4, 7) - AIC:11558.429219646072\n",
      "ARIMA(1, 0, 0)x(1, 1, 0, 7) - AIC:11985.921752491939\n",
      "ARIMA(1, 0, 0)x(1, 1, 1, 7) - AIC:11721.928368986913\n",
      "ARIMA(1, 0, 0)x(1, 1, 2, 7) - AIC:11666.181535513191\n",
      "ARIMA(1, 0, 0)x(1, 1, 3, 7) - AIC:11613.044742751761\n",
      "ARIMA(1, 0, 0)x(1, 1, 4, 7) - AIC:11558.288008090873\n",
      "ARIMA(1, 0, 0)x(2, 1, 0, 7) - AIC:11836.755736597312\n",
      "ARIMA(1, 0, 0)x(2, 1, 1, 7) - AIC:11666.094139643026\n",
      "ARIMA(1, 0, 0)x(2, 1, 2, 7) - AIC:11667.802526602758\n",
      "ARIMA(1, 0, 0)x(2, 1, 3, 7) - AIC:11614.228226916952\n",
      "ARIMA(1, 0, 0)x(2, 1, 4, 7) - AIC:11560.915186723718\n",
      "ARIMA(1, 0, 0)x(3, 1, 0, 7) - AIC:11728.830517832506\n",
      "ARIMA(1, 0, 0)x(3, 1, 1, 7) - AIC:11609.960325277187\n",
      "ARIMA(1, 0, 0)x(3, 1, 2, 7) - AIC:11608.97940539879\n"
     ]
    },
    {
     "name": "stderr",
     "output_type": "stream",
     "text": [
      "/opt/anaconda3/envs/learn-env/lib/python3.8/site-packages/statsmodels/base/model.py:604: ConvergenceWarning: Maximum Likelihood optimization failed to converge. Check mle_retvals\n",
      "  warnings.warn(\"Maximum Likelihood optimization failed to \"\n"
     ]
    },
    {
     "name": "stdout",
     "output_type": "stream",
     "text": [
      "ARIMA(1, 0, 0)x(3, 1, 3, 7) - AIC:11607.33992399791\n",
      "ARIMA(1, 0, 0)x(3, 1, 4, 7) - AIC:11559.766482111441\n",
      "ARIMA(1, 0, 0)x(4, 1, 0, 7) - AIC:11625.320871309228\n",
      "ARIMA(1, 0, 0)x(4, 1, 1, 7) - AIC:11552.919021116995\n",
      "ARIMA(1, 0, 0)x(4, 1, 2, 7) - AIC:11553.662899088342\n"
     ]
    },
    {
     "name": "stderr",
     "output_type": "stream",
     "text": [
      "/opt/anaconda3/envs/learn-env/lib/python3.8/site-packages/statsmodels/base/model.py:604: ConvergenceWarning: Maximum Likelihood optimization failed to converge. Check mle_retvals\n",
      "  warnings.warn(\"Maximum Likelihood optimization failed to \"\n"
     ]
    },
    {
     "name": "stdout",
     "output_type": "stream",
     "text": [
      "ARIMA(1, 0, 0)x(4, 1, 3, 7) - AIC:11549.80181590141\n"
     ]
    },
    {
     "name": "stderr",
     "output_type": "stream",
     "text": [
      "/opt/anaconda3/envs/learn-env/lib/python3.8/site-packages/statsmodels/base/model.py:604: ConvergenceWarning: Maximum Likelihood optimization failed to converge. Check mle_retvals\n",
      "  warnings.warn(\"Maximum Likelihood optimization failed to \"\n"
     ]
    },
    {
     "name": "stdout",
     "output_type": "stream",
     "text": [
      "ARIMA(1, 0, 0)x(4, 1, 4, 7) - AIC:11550.817842505603\n",
      "ARIMA(1, 0, 1)x(0, 1, 0, 7) - AIC:12271.784715475505\n",
      "ARIMA(1, 0, 1)x(0, 1, 1, 7) - AIC:11582.624776837514\n",
      "ARIMA(1, 0, 1)x(0, 1, 2, 7) - AIC:11528.21020604657\n",
      "ARIMA(1, 0, 1)x(0, 1, 3, 7) - AIC:11474.650137404535\n",
      "ARIMA(1, 0, 1)x(0, 1, 4, 7) - AIC:11418.184817497235\n",
      "ARIMA(1, 0, 1)x(1, 1, 0, 7) - AIC:11896.497415851987\n",
      "ARIMA(1, 0, 1)x(1, 1, 1, 7) - AIC:11583.969713973771\n",
      "ARIMA(1, 0, 1)x(1, 1, 2, 7) - AIC:11530.142165744764\n",
      "ARIMA(1, 0, 1)x(1, 1, 3, 7) - AIC:11476.589867221119\n"
     ]
    },
    {
     "name": "stderr",
     "output_type": "stream",
     "text": [
      "/opt/anaconda3/envs/learn-env/lib/python3.8/site-packages/statsmodels/base/model.py:604: ConvergenceWarning: Maximum Likelihood optimization failed to converge. Check mle_retvals\n",
      "  warnings.warn(\"Maximum Likelihood optimization failed to \"\n"
     ]
    },
    {
     "name": "stdout",
     "output_type": "stream",
     "text": [
      "ARIMA(1, 0, 1)x(1, 1, 4, 7) - AIC:11411.425198342678\n",
      "ARIMA(1, 0, 1)x(2, 1, 0, 7) - AIC:11726.391495343625\n",
      "ARIMA(1, 0, 1)x(2, 1, 1, 7) - AIC:11531.728359723344\n",
      "ARIMA(1, 0, 1)x(2, 1, 2, 7) - AIC:11529.81122844008\n",
      "ARIMA(1, 0, 1)x(2, 1, 3, 7) - AIC:11476.389616606968\n",
      "ARIMA(1, 0, 1)x(2, 1, 4, 7) - AIC:11423.54509312285\n",
      "ARIMA(1, 0, 1)x(3, 1, 0, 7) - AIC:11612.335406204395\n",
      "ARIMA(1, 0, 1)x(3, 1, 1, 7) - AIC:11476.126850500199\n",
      "ARIMA(1, 0, 1)x(3, 1, 2, 7) - AIC:11475.452559608644\n"
     ]
    },
    {
     "name": "stderr",
     "output_type": "stream",
     "text": [
      "/opt/anaconda3/envs/learn-env/lib/python3.8/site-packages/statsmodels/base/model.py:604: ConvergenceWarning: Maximum Likelihood optimization failed to converge. Check mle_retvals\n",
      "  warnings.warn(\"Maximum Likelihood optimization failed to \"\n"
     ]
    },
    {
     "name": "stdout",
     "output_type": "stream",
     "text": [
      "ARIMA(1, 0, 1)x(3, 1, 3, 7) - AIC:11464.393928920488\n",
      "ARIMA(1, 0, 1)x(3, 1, 4, 7) - AIC:11423.396345824418\n",
      "ARIMA(1, 0, 1)x(4, 1, 0, 7) - AIC:11507.002785098368\n",
      "ARIMA(1, 0, 1)x(4, 1, 1, 7) - AIC:11419.654228434047\n",
      "ARIMA(1, 0, 1)x(4, 1, 2, 7) - AIC:11421.489480080105\n"
     ]
    },
    {
     "name": "stderr",
     "output_type": "stream",
     "text": [
      "/opt/anaconda3/envs/learn-env/lib/python3.8/site-packages/statsmodels/base/model.py:604: ConvergenceWarning: Maximum Likelihood optimization failed to converge. Check mle_retvals\n",
      "  warnings.warn(\"Maximum Likelihood optimization failed to \"\n"
     ]
    },
    {
     "name": "stdout",
     "output_type": "stream",
     "text": [
      "ARIMA(1, 0, 1)x(4, 1, 3, 7) - AIC:11422.041325772612\n"
     ]
    },
    {
     "name": "stderr",
     "output_type": "stream",
     "text": [
      "/opt/anaconda3/envs/learn-env/lib/python3.8/site-packages/statsmodels/base/model.py:604: ConvergenceWarning: Maximum Likelihood optimization failed to converge. Check mle_retvals\n",
      "  warnings.warn(\"Maximum Likelihood optimization failed to \"\n"
     ]
    },
    {
     "name": "stdout",
     "output_type": "stream",
     "text": [
      "ARIMA(1, 0, 1)x(4, 1, 4, 7) - AIC:11425.357068158664\n",
      "ARIMA(1, 0, 2)x(0, 1, 0, 7) - AIC:12258.46702641703\n",
      "ARIMA(1, 0, 2)x(0, 1, 1, 7) - AIC:11573.12132432152\n",
      "ARIMA(1, 0, 2)x(0, 1, 2, 7) - AIC:11518.564910229255\n",
      "ARIMA(1, 0, 2)x(0, 1, 3, 7) - AIC:11464.546438546218\n",
      "ARIMA(1, 0, 2)x(0, 1, 4, 7) - AIC:11409.395771536576\n",
      "ARIMA(1, 0, 2)x(1, 1, 0, 7) - AIC:11892.458845157464\n",
      "ARIMA(1, 0, 2)x(1, 1, 1, 7) - AIC:11574.179160473728\n",
      "ARIMA(1, 0, 2)x(1, 1, 2, 7) - AIC:11520.439723707175\n",
      "ARIMA(1, 0, 2)x(1, 1, 3, 7) - AIC:11466.496358246735\n"
     ]
    },
    {
     "name": "stderr",
     "output_type": "stream",
     "text": [
      "/opt/anaconda3/envs/learn-env/lib/python3.8/site-packages/statsmodels/base/model.py:604: ConvergenceWarning: Maximum Likelihood optimization failed to converge. Check mle_retvals\n",
      "  warnings.warn(\"Maximum Likelihood optimization failed to \"\n"
     ]
    },
    {
     "name": "stdout",
     "output_type": "stream",
     "text": [
      "ARIMA(1, 0, 2)x(1, 1, 4, 7) - AIC:11401.824836802107\n",
      "ARIMA(1, 0, 2)x(2, 1, 0, 7) - AIC:11721.048841154963\n",
      "ARIMA(1, 0, 2)x(2, 1, 1, 7) - AIC:11528.322982177448\n",
      "ARIMA(1, 0, 2)x(2, 1, 2, 7) - AIC:11505.404560941659\n",
      "ARIMA(1, 0, 2)x(2, 1, 3, 7) - AIC:11467.238056932016\n",
      "ARIMA(1, 0, 2)x(2, 1, 4, 7) - AIC:11414.551216706568\n",
      "ARIMA(1, 0, 2)x(3, 1, 0, 7) - AIC:11607.86162938907\n",
      "ARIMA(1, 0, 2)x(3, 1, 1, 7) - AIC:11472.57817911658\n"
     ]
    },
    {
     "name": "stderr",
     "output_type": "stream",
     "text": [
      "/opt/anaconda3/envs/learn-env/lib/python3.8/site-packages/statsmodels/base/model.py:604: ConvergenceWarning: Maximum Likelihood optimization failed to converge. Check mle_retvals\n",
      "  warnings.warn(\"Maximum Likelihood optimization failed to \"\n"
     ]
    },
    {
     "name": "stdout",
     "output_type": "stream",
     "text": [
      "ARIMA(1, 0, 2)x(3, 1, 2, 7) - AIC:11471.747524281247\n"
     ]
    },
    {
     "name": "stderr",
     "output_type": "stream",
     "text": [
      "/opt/anaconda3/envs/learn-env/lib/python3.8/site-packages/statsmodels/base/model.py:604: ConvergenceWarning: Maximum Likelihood optimization failed to converge. Check mle_retvals\n",
      "  warnings.warn(\"Maximum Likelihood optimization failed to \"\n"
     ]
    },
    {
     "name": "stdout",
     "output_type": "stream",
     "text": [
      "ARIMA(1, 0, 2)x(3, 1, 3, 7) - AIC:11452.984966048483\n",
      "ARIMA(1, 0, 2)x(3, 1, 4, 7) - AIC:11415.166543771345\n",
      "ARIMA(1, 0, 2)x(4, 1, 0, 7) - AIC:11503.03642163295\n",
      "ARIMA(1, 0, 2)x(4, 1, 1, 7) - AIC:11416.362474513395\n",
      "ARIMA(1, 0, 2)x(4, 1, 2, 7) - AIC:11418.331556749778\n"
     ]
    },
    {
     "name": "stderr",
     "output_type": "stream",
     "text": [
      "/opt/anaconda3/envs/learn-env/lib/python3.8/site-packages/statsmodels/base/model.py:604: ConvergenceWarning: Maximum Likelihood optimization failed to converge. Check mle_retvals\n",
      "  warnings.warn(\"Maximum Likelihood optimization failed to \"\n"
     ]
    },
    {
     "name": "stdout",
     "output_type": "stream",
     "text": [
      "ARIMA(1, 0, 2)x(4, 1, 3, 7) - AIC:11417.48494110144\n"
     ]
    },
    {
     "name": "stderr",
     "output_type": "stream",
     "text": [
      "/opt/anaconda3/envs/learn-env/lib/python3.8/site-packages/statsmodels/base/model.py:604: ConvergenceWarning: Maximum Likelihood optimization failed to converge. Check mle_retvals\n",
      "  warnings.warn(\"Maximum Likelihood optimization failed to \"\n"
     ]
    },
    {
     "name": "stdout",
     "output_type": "stream",
     "text": [
      "ARIMA(1, 0, 2)x(4, 1, 4, 7) - AIC:11417.104765462776\n",
      "ARIMA(1, 0, 3)x(0, 1, 0, 7) - AIC:12307.307323883455\n",
      "ARIMA(1, 0, 3)x(0, 1, 1, 7) - AIC:11567.286732754514\n",
      "ARIMA(1, 0, 3)x(0, 1, 2, 7) - AIC:11513.365648227162\n",
      "ARIMA(1, 0, 3)x(0, 1, 3, 7) - AIC:11457.751952770865\n",
      "ARIMA(1, 0, 3)x(0, 1, 4, 7) - AIC:11404.76793857462\n",
      "ARIMA(1, 0, 3)x(1, 1, 0, 7) - AIC:11889.45741932125\n",
      "ARIMA(1, 0, 3)x(1, 1, 1, 7) - AIC:11568.291198708379\n",
      "ARIMA(1, 0, 3)x(1, 1, 2, 7) - AIC:11515.261330641024\n",
      "ARIMA(1, 0, 3)x(1, 1, 3, 7) - AIC:11459.600758576269\n"
     ]
    },
    {
     "name": "stderr",
     "output_type": "stream",
     "text": [
      "/opt/anaconda3/envs/learn-env/lib/python3.8/site-packages/statsmodels/base/model.py:604: ConvergenceWarning: Maximum Likelihood optimization failed to converge. Check mle_retvals\n",
      "  warnings.warn(\"Maximum Likelihood optimization failed to \"\n"
     ]
    },
    {
     "name": "stdout",
     "output_type": "stream",
     "text": [
      "ARIMA(1, 0, 3)x(1, 1, 4, 7) - AIC:11396.074959239962\n",
      "ARIMA(1, 0, 3)x(2, 1, 0, 7) - AIC:11721.142357375835\n",
      "ARIMA(1, 0, 3)x(2, 1, 1, 7) - AIC:11530.322973605333\n"
     ]
    },
    {
     "name": "stderr",
     "output_type": "stream",
     "text": [
      "/opt/anaconda3/envs/learn-env/lib/python3.8/site-packages/statsmodels/base/model.py:604: ConvergenceWarning: Maximum Likelihood optimization failed to converge. Check mle_retvals\n",
      "  warnings.warn(\"Maximum Likelihood optimization failed to \"\n"
     ]
    },
    {
     "name": "stdout",
     "output_type": "stream",
     "text": [
      "ARIMA(1, 0, 3)x(2, 1, 2, 7) - AIC:11499.991397718753\n",
      "ARIMA(1, 0, 3)x(2, 1, 3, 7) - AIC:11460.48556502951\n"
     ]
    },
    {
     "name": "stderr",
     "output_type": "stream",
     "text": [
      "/opt/anaconda3/envs/learn-env/lib/python3.8/site-packages/statsmodels/base/model.py:604: ConvergenceWarning: Maximum Likelihood optimization failed to converge. Check mle_retvals\n",
      "  warnings.warn(\"Maximum Likelihood optimization failed to \"\n"
     ]
    },
    {
     "name": "stdout",
     "output_type": "stream",
     "text": [
      "ARIMA(1, 0, 3)x(2, 1, 4, 7) - AIC:11409.96747050562\n",
      "ARIMA(1, 0, 3)x(3, 1, 0, 7) - AIC:11609.492695725705\n",
      "ARIMA(1, 0, 3)x(3, 1, 1, 7) - AIC:11474.57749623203\n"
     ]
    },
    {
     "name": "stderr",
     "output_type": "stream",
     "text": [
      "/opt/anaconda3/envs/learn-env/lib/python3.8/site-packages/statsmodels/base/model.py:604: ConvergenceWarning: Maximum Likelihood optimization failed to converge. Check mle_retvals\n",
      "  warnings.warn(\"Maximum Likelihood optimization failed to \"\n"
     ]
    },
    {
     "name": "stdout",
     "output_type": "stream",
     "text": [
      "ARIMA(1, 0, 3)x(3, 1, 2, 7) - AIC:11474.715022442268\n"
     ]
    },
    {
     "name": "stderr",
     "output_type": "stream",
     "text": [
      "/opt/anaconda3/envs/learn-env/lib/python3.8/site-packages/statsmodels/base/model.py:604: ConvergenceWarning: Maximum Likelihood optimization failed to converge. Check mle_retvals\n",
      "  warnings.warn(\"Maximum Likelihood optimization failed to \"\n"
     ]
    },
    {
     "name": "stdout",
     "output_type": "stream",
     "text": [
      "ARIMA(1, 0, 3)x(3, 1, 3, 7) - AIC:11446.117887483799\n"
     ]
    },
    {
     "name": "stderr",
     "output_type": "stream",
     "text": [
      "/opt/anaconda3/envs/learn-env/lib/python3.8/site-packages/statsmodels/base/model.py:604: ConvergenceWarning: Maximum Likelihood optimization failed to converge. Check mle_retvals\n",
      "  warnings.warn(\"Maximum Likelihood optimization failed to \"\n"
     ]
    },
    {
     "name": "stdout",
     "output_type": "stream",
     "text": [
      "ARIMA(1, 0, 3)x(3, 1, 4, 7) - AIC:11410.612643606797\n",
      "ARIMA(1, 0, 3)x(4, 1, 0, 7) - AIC:11505.033998242052\n",
      "ARIMA(1, 0, 3)x(4, 1, 1, 7) - AIC:11418.361534322206\n"
     ]
    },
    {
     "name": "stderr",
     "output_type": "stream",
     "text": [
      "/opt/anaconda3/envs/learn-env/lib/python3.8/site-packages/statsmodels/base/model.py:604: ConvergenceWarning: Maximum Likelihood optimization failed to converge. Check mle_retvals\n",
      "  warnings.warn(\"Maximum Likelihood optimization failed to \"\n"
     ]
    },
    {
     "name": "stdout",
     "output_type": "stream",
     "text": [
      "ARIMA(1, 0, 3)x(4, 1, 2, 7) - AIC:11420.329681691073\n"
     ]
    },
    {
     "name": "stderr",
     "output_type": "stream",
     "text": [
      "/opt/anaconda3/envs/learn-env/lib/python3.8/site-packages/statsmodels/base/model.py:604: ConvergenceWarning: Maximum Likelihood optimization failed to converge. Check mle_retvals\n",
      "  warnings.warn(\"Maximum Likelihood optimization failed to \"\n"
     ]
    },
    {
     "name": "stdout",
     "output_type": "stream",
     "text": [
      "ARIMA(1, 0, 3)x(4, 1, 3, 7) - AIC:11421.677347762348\n"
     ]
    },
    {
     "name": "stderr",
     "output_type": "stream",
     "text": [
      "/opt/anaconda3/envs/learn-env/lib/python3.8/site-packages/statsmodels/base/model.py:604: ConvergenceWarning: Maximum Likelihood optimization failed to converge. Check mle_retvals\n",
      "  warnings.warn(\"Maximum Likelihood optimization failed to \"\n"
     ]
    },
    {
     "name": "stdout",
     "output_type": "stream",
     "text": [
      "ARIMA(1, 0, 3)x(4, 1, 4, 7) - AIC:11397.00524045401\n",
      "ARIMA(1, 0, 4)x(0, 1, 0, 7) - AIC:12154.882454655584\n",
      "ARIMA(1, 0, 4)x(0, 1, 1, 7) - AIC:11562.5528023558\n",
      "ARIMA(1, 0, 4)x(0, 1, 2, 7) - AIC:11507.17759311329\n",
      "ARIMA(1, 0, 4)x(0, 1, 3, 7) - AIC:11453.030421961263\n",
      "ARIMA(1, 0, 4)x(0, 1, 4, 7) - AIC:11399.297928596332\n",
      "ARIMA(1, 0, 4)x(1, 1, 0, 7) - AIC:11883.855998815274\n",
      "ARIMA(1, 0, 4)x(1, 1, 1, 7) - AIC:11563.576536409777\n",
      "ARIMA(1, 0, 4)x(1, 1, 2, 7) - AIC:11509.114070397798\n",
      "ARIMA(1, 0, 4)x(1, 1, 3, 7) - AIC:11454.79518980509\n"
     ]
    },
    {
     "name": "stderr",
     "output_type": "stream",
     "text": [
      "/opt/anaconda3/envs/learn-env/lib/python3.8/site-packages/statsmodels/base/model.py:604: ConvergenceWarning: Maximum Likelihood optimization failed to converge. Check mle_retvals\n",
      "  warnings.warn(\"Maximum Likelihood optimization failed to \"\n"
     ]
    },
    {
     "name": "stdout",
     "output_type": "stream",
     "text": [
      "ARIMA(1, 0, 4)x(1, 1, 4, 7) - AIC:11390.7229432132\n",
      "ARIMA(1, 0, 4)x(2, 1, 0, 7) - AIC:11721.348927978412\n",
      "ARIMA(1, 0, 4)x(2, 1, 1, 7) - AIC:11531.818234908478\n"
     ]
    },
    {
     "name": "stderr",
     "output_type": "stream",
     "text": [
      "/opt/anaconda3/envs/learn-env/lib/python3.8/site-packages/statsmodels/base/model.py:604: ConvergenceWarning: Maximum Likelihood optimization failed to converge. Check mle_retvals\n",
      "  warnings.warn(\"Maximum Likelihood optimization failed to \"\n"
     ]
    },
    {
     "name": "stdout",
     "output_type": "stream",
     "text": [
      "ARIMA(1, 0, 4)x(2, 1, 2, 7) - AIC:11493.979070498995\n"
     ]
    },
    {
     "name": "stderr",
     "output_type": "stream",
     "text": [
      "/opt/anaconda3/envs/learn-env/lib/python3.8/site-packages/statsmodels/base/model.py:604: ConvergenceWarning: Maximum Likelihood optimization failed to converge. Check mle_retvals\n",
      "  warnings.warn(\"Maximum Likelihood optimization failed to \"\n"
     ]
    },
    {
     "name": "stdout",
     "output_type": "stream",
     "text": [
      "ARIMA(1, 0, 4)x(2, 1, 3, 7) - AIC:11456.122977551076\n"
     ]
    },
    {
     "name": "stderr",
     "output_type": "stream",
     "text": [
      "/opt/anaconda3/envs/learn-env/lib/python3.8/site-packages/statsmodels/base/model.py:604: ConvergenceWarning: Maximum Likelihood optimization failed to converge. Check mle_retvals\n",
      "  warnings.warn(\"Maximum Likelihood optimization failed to \"\n"
     ]
    },
    {
     "name": "stdout",
     "output_type": "stream",
     "text": [
      "ARIMA(1, 0, 4)x(2, 1, 4, 7) - AIC:11404.627939770537\n",
      "ARIMA(1, 0, 4)x(3, 1, 0, 7) - AIC:11609.571537268295\n",
      "ARIMA(1, 0, 4)x(3, 1, 1, 7) - AIC:11476.215640088181\n"
     ]
    },
    {
     "name": "stderr",
     "output_type": "stream",
     "text": [
      "/opt/anaconda3/envs/learn-env/lib/python3.8/site-packages/statsmodels/base/model.py:604: ConvergenceWarning: Maximum Likelihood optimization failed to converge. Check mle_retvals\n",
      "  warnings.warn(\"Maximum Likelihood optimization failed to \"\n"
     ]
    },
    {
     "name": "stdout",
     "output_type": "stream",
     "text": [
      "ARIMA(1, 0, 4)x(3, 1, 2, 7) - AIC:11476.604773715513\n"
     ]
    },
    {
     "name": "stderr",
     "output_type": "stream",
     "text": [
      "/opt/anaconda3/envs/learn-env/lib/python3.8/site-packages/statsmodels/base/model.py:604: ConvergenceWarning: Maximum Likelihood optimization failed to converge. Check mle_retvals\n",
      "  warnings.warn(\"Maximum Likelihood optimization failed to \"\n"
     ]
    },
    {
     "name": "stdout",
     "output_type": "stream",
     "text": [
      "ARIMA(1, 0, 4)x(3, 1, 3, 7) - AIC:11440.620615954922\n"
     ]
    },
    {
     "name": "stderr",
     "output_type": "stream",
     "text": [
      "/opt/anaconda3/envs/learn-env/lib/python3.8/site-packages/statsmodels/base/model.py:604: ConvergenceWarning: Maximum Likelihood optimization failed to converge. Check mle_retvals\n",
      "  warnings.warn(\"Maximum Likelihood optimization failed to \"\n"
     ]
    },
    {
     "name": "stdout",
     "output_type": "stream",
     "text": [
      "ARIMA(1, 0, 4)x(3, 1, 4, 7) - AIC:11405.645121715032\n",
      "ARIMA(1, 0, 4)x(4, 1, 0, 7) - AIC:11505.931633088428\n",
      "ARIMA(1, 0, 4)x(4, 1, 1, 7) - AIC:11420.00935794301\n",
      "ARIMA(1, 0, 4)x(4, 1, 2, 7) - AIC:11422.017535104878\n"
     ]
    },
    {
     "name": "stderr",
     "output_type": "stream",
     "text": [
      "/opt/anaconda3/envs/learn-env/lib/python3.8/site-packages/statsmodels/base/model.py:604: ConvergenceWarning: Maximum Likelihood optimization failed to converge. Check mle_retvals\n",
      "  warnings.warn(\"Maximum Likelihood optimization failed to \"\n"
     ]
    },
    {
     "name": "stdout",
     "output_type": "stream",
     "text": [
      "ARIMA(1, 0, 4)x(4, 1, 3, 7) - AIC:11418.162302253437\n"
     ]
    },
    {
     "name": "stderr",
     "output_type": "stream",
     "text": [
      "/opt/anaconda3/envs/learn-env/lib/python3.8/site-packages/statsmodels/base/model.py:604: ConvergenceWarning: Maximum Likelihood optimization failed to converge. Check mle_retvals\n",
      "  warnings.warn(\"Maximum Likelihood optimization failed to \"\n"
     ]
    },
    {
     "name": "stdout",
     "output_type": "stream",
     "text": [
      "ARIMA(1, 0, 4)x(4, 1, 4, 7) - AIC:11392.184729042732\n",
      "ARIMA(2, 0, 0)x(0, 1, 0, 7) - AIC:12268.986310037388\n",
      "ARIMA(2, 0, 0)x(0, 1, 1, 7) - AIC:11606.587109620845\n",
      "ARIMA(2, 0, 0)x(0, 1, 2, 7) - AIC:11549.283554636742\n",
      "ARIMA(2, 0, 0)x(0, 1, 3, 7) - AIC:11496.875213148562\n",
      "ARIMA(2, 0, 0)x(0, 1, 4, 7) - AIC:11442.207863841959\n",
      "ARIMA(2, 0, 0)x(1, 1, 0, 7) - AIC:11896.283993461839\n",
      "ARIMA(2, 0, 0)x(1, 1, 1, 7) - AIC:11597.804321670297\n",
      "ARIMA(2, 0, 0)x(1, 1, 2, 7) - AIC:11551.270569181892\n",
      "ARIMA(2, 0, 0)x(1, 1, 3, 7) - AIC:11498.71184487484\n",
      "ARIMA(2, 0, 0)x(1, 1, 4, 7) - AIC:11444.195392201887\n",
      "ARIMA(2, 0, 0)x(2, 1, 0, 7) - AIC:11727.802290246596\n",
      "ARIMA(2, 0, 0)x(2, 1, 1, 7) - AIC:11539.080310238329\n",
      "ARIMA(2, 0, 0)x(2, 1, 2, 7) - AIC:11544.220326466546\n",
      "ARIMA(2, 0, 0)x(2, 1, 3, 7) - AIC:11499.903051049632\n",
      "ARIMA(2, 0, 0)x(2, 1, 4, 7) - AIC:11446.04268011255\n",
      "ARIMA(2, 0, 0)x(3, 1, 0, 7) - AIC:11613.177092737875\n",
      "ARIMA(2, 0, 0)x(3, 1, 1, 7) - AIC:11482.749464718976\n"
     ]
    },
    {
     "name": "stderr",
     "output_type": "stream",
     "text": [
      "/opt/anaconda3/envs/learn-env/lib/python3.8/site-packages/statsmodels/base/model.py:604: ConvergenceWarning: Maximum Likelihood optimization failed to converge. Check mle_retvals\n",
      "  warnings.warn(\"Maximum Likelihood optimization failed to \"\n"
     ]
    },
    {
     "name": "stdout",
     "output_type": "stream",
     "text": [
      "ARIMA(2, 0, 0)x(3, 1, 2, 7) - AIC:11480.974480849924\n"
     ]
    },
    {
     "name": "stderr",
     "output_type": "stream",
     "text": [
      "/opt/anaconda3/envs/learn-env/lib/python3.8/site-packages/statsmodels/base/model.py:604: ConvergenceWarning: Maximum Likelihood optimization failed to converge. Check mle_retvals\n",
      "  warnings.warn(\"Maximum Likelihood optimization failed to \"\n"
     ]
    },
    {
     "name": "stdout",
     "output_type": "stream",
     "text": [
      "ARIMA(2, 0, 0)x(3, 1, 3, 7) - AIC:11478.542953695018\n",
      "ARIMA(2, 0, 0)x(3, 1, 4, 7) - AIC:11446.239786037742\n",
      "ARIMA(2, 0, 0)x(4, 1, 0, 7) - AIC:11506.887261896205\n",
      "ARIMA(2, 0, 0)x(4, 1, 1, 7) - AIC:11425.592570808925\n",
      "ARIMA(2, 0, 0)x(4, 1, 2, 7) - AIC:11426.191382468925\n"
     ]
    },
    {
     "name": "stderr",
     "output_type": "stream",
     "text": [
      "/opt/anaconda3/envs/learn-env/lib/python3.8/site-packages/statsmodels/base/model.py:604: ConvergenceWarning: Maximum Likelihood optimization failed to converge. Check mle_retvals\n",
      "  warnings.warn(\"Maximum Likelihood optimization failed to \"\n"
     ]
    },
    {
     "name": "stdout",
     "output_type": "stream",
     "text": [
      "ARIMA(2, 0, 0)x(4, 1, 3, 7) - AIC:11423.835205301697\n"
     ]
    },
    {
     "name": "stderr",
     "output_type": "stream",
     "text": [
      "/opt/anaconda3/envs/learn-env/lib/python3.8/site-packages/statsmodels/base/model.py:604: ConvergenceWarning: Maximum Likelihood optimization failed to converge. Check mle_retvals\n",
      "  warnings.warn(\"Maximum Likelihood optimization failed to \"\n"
     ]
    },
    {
     "name": "stdout",
     "output_type": "stream",
     "text": [
      "ARIMA(2, 0, 0)x(4, 1, 4, 7) - AIC:11424.214091933487\n",
      "ARIMA(2, 0, 1)x(0, 1, 0, 7) - AIC:12268.131003878505\n",
      "ARIMA(2, 0, 1)x(0, 1, 1, 7) - AIC:11580.318107916482\n",
      "ARIMA(2, 0, 1)x(0, 1, 2, 7) - AIC:11525.719899292555\n",
      "ARIMA(2, 0, 1)x(0, 1, 3, 7) - AIC:11471.852696140086\n",
      "ARIMA(2, 0, 1)x(0, 1, 4, 7) - AIC:11415.236203961895\n",
      "ARIMA(2, 0, 1)x(1, 1, 0, 7) - AIC:11886.237032472869\n",
      "ARIMA(2, 0, 1)x(1, 1, 1, 7) - AIC:11581.581199131164\n",
      "ARIMA(2, 0, 1)x(1, 1, 2, 7) - AIC:11527.566819756528\n",
      "ARIMA(2, 0, 1)x(1, 1, 3, 7) - AIC:11473.837922730263\n"
     ]
    },
    {
     "name": "stderr",
     "output_type": "stream",
     "text": [
      "/opt/anaconda3/envs/learn-env/lib/python3.8/site-packages/statsmodels/base/model.py:604: ConvergenceWarning: Maximum Likelihood optimization failed to converge. Check mle_retvals\n",
      "  warnings.warn(\"Maximum Likelihood optimization failed to \"\n"
     ]
    },
    {
     "name": "stdout",
     "output_type": "stream",
     "text": [
      "ARIMA(2, 0, 1)x(1, 1, 4, 7) - AIC:11407.982306254456\n",
      "ARIMA(2, 0, 1)x(2, 1, 0, 7) - AIC:11714.742673184137\n",
      "ARIMA(2, 0, 1)x(2, 1, 1, 7) - AIC:11520.525213939807\n"
     ]
    },
    {
     "name": "stderr",
     "output_type": "stream",
     "text": [
      "/opt/anaconda3/envs/learn-env/lib/python3.8/site-packages/statsmodels/base/model.py:604: ConvergenceWarning: Maximum Likelihood optimization failed to converge. Check mle_retvals\n",
      "  warnings.warn(\"Maximum Likelihood optimization failed to \"\n"
     ]
    },
    {
     "name": "stdout",
     "output_type": "stream",
     "text": [
      "ARIMA(2, 0, 1)x(2, 1, 2, 7) - AIC:11512.447743225224\n",
      "ARIMA(2, 0, 1)x(2, 1, 3, 7) - AIC:11474.098341696525\n",
      "ARIMA(2, 0, 1)x(2, 1, 4, 7) - AIC:11421.025211908172\n",
      "ARIMA(2, 0, 1)x(3, 1, 0, 7) - AIC:11600.039694867522\n",
      "ARIMA(2, 0, 1)x(3, 1, 1, 7) - AIC:11464.201478354993\n"
     ]
    },
    {
     "name": "stderr",
     "output_type": "stream",
     "text": [
      "/opt/anaconda3/envs/learn-env/lib/python3.8/site-packages/statsmodels/base/model.py:604: ConvergenceWarning: Maximum Likelihood optimization failed to converge. Check mle_retvals\n",
      "  warnings.warn(\"Maximum Likelihood optimization failed to \"\n"
     ]
    },
    {
     "name": "stdout",
     "output_type": "stream",
     "text": [
      "ARIMA(2, 0, 1)x(3, 1, 2, 7) - AIC:11463.399062340755\n"
     ]
    },
    {
     "name": "stderr",
     "output_type": "stream",
     "text": [
      "/opt/anaconda3/envs/learn-env/lib/python3.8/site-packages/statsmodels/base/model.py:604: ConvergenceWarning: Maximum Likelihood optimization failed to converge. Check mle_retvals\n",
      "  warnings.warn(\"Maximum Likelihood optimization failed to \"\n"
     ]
    },
    {
     "name": "stdout",
     "output_type": "stream",
     "text": [
      "ARIMA(2, 0, 1)x(3, 1, 3, 7) - AIC:11460.827137640845\n"
     ]
    },
    {
     "name": "stderr",
     "output_type": "stream",
     "text": [
      "/opt/anaconda3/envs/learn-env/lib/python3.8/site-packages/statsmodels/base/model.py:604: ConvergenceWarning: Maximum Likelihood optimization failed to converge. Check mle_retvals\n",
      "  warnings.warn(\"Maximum Likelihood optimization failed to \"\n"
     ]
    },
    {
     "name": "stdout",
     "output_type": "stream",
     "text": [
      "ARIMA(2, 0, 1)x(3, 1, 4, 7) - AIC:11421.176562845787\n",
      "ARIMA(2, 0, 1)x(4, 1, 0, 7) - AIC:11494.544009994794\n",
      "ARIMA(2, 0, 1)x(4, 1, 1, 7) - AIC:11407.574937934458\n"
     ]
    },
    {
     "name": "stderr",
     "output_type": "stream",
     "text": [
      "/opt/anaconda3/envs/learn-env/lib/python3.8/site-packages/statsmodels/base/model.py:604: ConvergenceWarning: Maximum Likelihood optimization failed to converge. Check mle_retvals\n",
      "  warnings.warn(\"Maximum Likelihood optimization failed to \"\n"
     ]
    },
    {
     "name": "stdout",
     "output_type": "stream",
     "text": [
      "ARIMA(2, 0, 1)x(4, 1, 2, 7) - AIC:11409.864236587919\n"
     ]
    },
    {
     "name": "stderr",
     "output_type": "stream",
     "text": [
      "/opt/anaconda3/envs/learn-env/lib/python3.8/site-packages/statsmodels/base/model.py:604: ConvergenceWarning: Maximum Likelihood optimization failed to converge. Check mle_retvals\n",
      "  warnings.warn(\"Maximum Likelihood optimization failed to \"\n"
     ]
    },
    {
     "name": "stdout",
     "output_type": "stream",
     "text": [
      "ARIMA(2, 0, 1)x(4, 1, 3, 7) - AIC:11413.126347104026\n"
     ]
    },
    {
     "name": "stderr",
     "output_type": "stream",
     "text": [
      "/opt/anaconda3/envs/learn-env/lib/python3.8/site-packages/statsmodels/base/model.py:604: ConvergenceWarning: Maximum Likelihood optimization failed to converge. Check mle_retvals\n",
      "  warnings.warn(\"Maximum Likelihood optimization failed to \"\n"
     ]
    },
    {
     "name": "stdout",
     "output_type": "stream",
     "text": [
      "ARIMA(2, 0, 1)x(4, 1, 4, 7) - AIC:11410.809506433445\n",
      "ARIMA(2, 0, 2)x(0, 1, 0, 7) - AIC:12166.24865426487\n",
      "ARIMA(2, 0, 2)x(0, 1, 1, 7) - AIC:11574.408321797482\n",
      "ARIMA(2, 0, 2)x(0, 1, 2, 7) - AIC:11520.378325136928\n",
      "ARIMA(2, 0, 2)x(0, 1, 3, 7) - AIC:11466.461515385234\n"
     ]
    },
    {
     "name": "stderr",
     "output_type": "stream",
     "text": [
      "/opt/anaconda3/envs/learn-env/lib/python3.8/site-packages/statsmodels/base/model.py:604: ConvergenceWarning: Maximum Likelihood optimization failed to converge. Check mle_retvals\n",
      "  warnings.warn(\"Maximum Likelihood optimization failed to \"\n"
     ]
    },
    {
     "name": "stdout",
     "output_type": "stream",
     "text": [
      "ARIMA(2, 0, 2)x(0, 1, 4, 7) - AIC:11410.990073858939\n",
      "ARIMA(2, 0, 2)x(1, 1, 0, 7) - AIC:11853.45361528733\n",
      "ARIMA(2, 0, 2)x(1, 1, 1, 7) - AIC:11575.63489986422\n"
     ]
    },
    {
     "name": "stderr",
     "output_type": "stream",
     "text": [
      "/opt/anaconda3/envs/learn-env/lib/python3.8/site-packages/statsmodels/base/model.py:604: ConvergenceWarning: Maximum Likelihood optimization failed to converge. Check mle_retvals\n",
      "  warnings.warn(\"Maximum Likelihood optimization failed to \"\n"
     ]
    },
    {
     "name": "stdout",
     "output_type": "stream",
     "text": [
      "ARIMA(2, 0, 2)x(1, 1, 2, 7) - AIC:11506.463416212937\n"
     ]
    },
    {
     "name": "stderr",
     "output_type": "stream",
     "text": [
      "/opt/anaconda3/envs/learn-env/lib/python3.8/site-packages/statsmodels/base/model.py:604: ConvergenceWarning: Maximum Likelihood optimization failed to converge. Check mle_retvals\n",
      "  warnings.warn(\"Maximum Likelihood optimization failed to \"\n"
     ]
    },
    {
     "name": "stdout",
     "output_type": "stream",
     "text": [
      "ARIMA(2, 0, 2)x(1, 1, 3, 7) - AIC:11468.444018356577\n"
     ]
    },
    {
     "name": "stderr",
     "output_type": "stream",
     "text": [
      "/opt/anaconda3/envs/learn-env/lib/python3.8/site-packages/statsmodels/base/model.py:604: ConvergenceWarning: Maximum Likelihood optimization failed to converge. Check mle_retvals\n",
      "  warnings.warn(\"Maximum Likelihood optimization failed to \"\n"
     ]
    },
    {
     "name": "stdout",
     "output_type": "stream",
     "text": [
      "ARIMA(2, 0, 2)x(1, 1, 4, 7) - AIC:11405.46879222278\n",
      "ARIMA(2, 0, 2)x(2, 1, 0, 7) - AIC:11711.638671185407\n",
      "ARIMA(2, 0, 2)x(2, 1, 1, 7) - AIC:11522.513732916\n"
     ]
    },
    {
     "name": "stderr",
     "output_type": "stream",
     "text": [
      "/opt/anaconda3/envs/learn-env/lib/python3.8/site-packages/statsmodels/base/model.py:604: ConvergenceWarning: Maximum Likelihood optimization failed to converge. Check mle_retvals\n",
      "  warnings.warn(\"Maximum Likelihood optimization failed to \"\n"
     ]
    },
    {
     "name": "stdout",
     "output_type": "stream",
     "text": [
      "ARIMA(2, 0, 2)x(2, 1, 2, 7) - AIC:11507.474133462078\n"
     ]
    },
    {
     "name": "stderr",
     "output_type": "stream",
     "text": [
      "/opt/anaconda3/envs/learn-env/lib/python3.8/site-packages/statsmodels/base/model.py:604: ConvergenceWarning: Maximum Likelihood optimization failed to converge. Check mle_retvals\n",
      "  warnings.warn(\"Maximum Likelihood optimization failed to \"\n"
     ]
    },
    {
     "name": "stdout",
     "output_type": "stream",
     "text": [
      "ARIMA(2, 0, 2)x(2, 1, 3, 7) - AIC:11469.332303992811\n"
     ]
    },
    {
     "name": "stderr",
     "output_type": "stream",
     "text": [
      "/opt/anaconda3/envs/learn-env/lib/python3.8/site-packages/statsmodels/base/model.py:604: ConvergenceWarning: Maximum Likelihood optimization failed to converge. Check mle_retvals\n",
      "  warnings.warn(\"Maximum Likelihood optimization failed to \"\n"
     ]
    },
    {
     "name": "stdout",
     "output_type": "stream",
     "text": [
      "ARIMA(2, 0, 2)x(2, 1, 4, 7) - AIC:11416.691777571716\n",
      "ARIMA(2, 0, 2)x(3, 1, 0, 7) - AIC:11599.573718948024\n"
     ]
    },
    {
     "name": "stderr",
     "output_type": "stream",
     "text": [
      "/opt/anaconda3/envs/learn-env/lib/python3.8/site-packages/statsmodels/base/model.py:604: ConvergenceWarning: Maximum Likelihood optimization failed to converge. Check mle_retvals\n",
      "  warnings.warn(\"Maximum Likelihood optimization failed to \"\n"
     ]
    },
    {
     "name": "stdout",
     "output_type": "stream",
     "text": [
      "ARIMA(2, 0, 2)x(3, 1, 1, 7) - AIC:11466.200242419636\n"
     ]
    },
    {
     "name": "stderr",
     "output_type": "stream",
     "text": [
      "/opt/anaconda3/envs/learn-env/lib/python3.8/site-packages/statsmodels/base/model.py:604: ConvergenceWarning: Maximum Likelihood optimization failed to converge. Check mle_retvals\n",
      "  warnings.warn(\"Maximum Likelihood optimization failed to \"\n"
     ]
    },
    {
     "name": "stdout",
     "output_type": "stream",
     "text": [
      "ARIMA(2, 0, 2)x(3, 1, 2, 7) - AIC:11465.410824591478\n"
     ]
    },
    {
     "name": "stderr",
     "output_type": "stream",
     "text": [
      "/opt/anaconda3/envs/learn-env/lib/python3.8/site-packages/statsmodels/base/model.py:604: ConvergenceWarning: Maximum Likelihood optimization failed to converge. Check mle_retvals\n",
      "  warnings.warn(\"Maximum Likelihood optimization failed to \"\n"
     ]
    },
    {
     "name": "stdout",
     "output_type": "stream",
     "text": [
      "ARIMA(2, 0, 2)x(3, 1, 3, 7) - AIC:11455.51260488248\n"
     ]
    },
    {
     "name": "stderr",
     "output_type": "stream",
     "text": [
      "/opt/anaconda3/envs/learn-env/lib/python3.8/site-packages/statsmodels/base/model.py:604: ConvergenceWarning: Maximum Likelihood optimization failed to converge. Check mle_retvals\n",
      "  warnings.warn(\"Maximum Likelihood optimization failed to \"\n"
     ]
    },
    {
     "name": "stdout",
     "output_type": "stream",
     "text": [
      "ARIMA(2, 0, 2)x(3, 1, 4, 7) - AIC:11416.855416944278\n",
      "ARIMA(2, 0, 2)x(4, 1, 0, 7) - AIC:11496.199954500835\n"
     ]
    },
    {
     "name": "stderr",
     "output_type": "stream",
     "text": [
      "/opt/anaconda3/envs/learn-env/lib/python3.8/site-packages/statsmodels/base/model.py:604: ConvergenceWarning: Maximum Likelihood optimization failed to converge. Check mle_retvals\n",
      "  warnings.warn(\"Maximum Likelihood optimization failed to \"\n"
     ]
    },
    {
     "name": "stdout",
     "output_type": "stream",
     "text": [
      "ARIMA(2, 0, 2)x(4, 1, 1, 7) - AIC:11409.574096348239\n"
     ]
    },
    {
     "name": "stderr",
     "output_type": "stream",
     "text": [
      "/opt/anaconda3/envs/learn-env/lib/python3.8/site-packages/statsmodels/base/model.py:604: ConvergenceWarning: Maximum Likelihood optimization failed to converge. Check mle_retvals\n",
      "  warnings.warn(\"Maximum Likelihood optimization failed to \"\n"
     ]
    },
    {
     "name": "stdout",
     "output_type": "stream",
     "text": [
      "ARIMA(2, 0, 2)x(4, 1, 2, 7) - AIC:11412.231640856862\n"
     ]
    },
    {
     "name": "stderr",
     "output_type": "stream",
     "text": [
      "/opt/anaconda3/envs/learn-env/lib/python3.8/site-packages/statsmodels/base/model.py:604: ConvergenceWarning: Maximum Likelihood optimization failed to converge. Check mle_retvals\n",
      "  warnings.warn(\"Maximum Likelihood optimization failed to \"\n"
     ]
    },
    {
     "name": "stdout",
     "output_type": "stream",
     "text": [
      "ARIMA(2, 0, 2)x(4, 1, 3, 7) - AIC:11414.721104118962\n"
     ]
    },
    {
     "name": "stderr",
     "output_type": "stream",
     "text": [
      "/opt/anaconda3/envs/learn-env/lib/python3.8/site-packages/statsmodels/base/model.py:604: ConvergenceWarning: Maximum Likelihood optimization failed to converge. Check mle_retvals\n",
      "  warnings.warn(\"Maximum Likelihood optimization failed to \"\n"
     ]
    },
    {
     "name": "stdout",
     "output_type": "stream",
     "text": [
      "ARIMA(2, 0, 2)x(4, 1, 4, 7) - AIC:11403.977991407086\n"
     ]
    },
    {
     "name": "stderr",
     "output_type": "stream",
     "text": [
      "/opt/anaconda3/envs/learn-env/lib/python3.8/site-packages/statsmodels/base/model.py:604: ConvergenceWarning: Maximum Likelihood optimization failed to converge. Check mle_retvals\n",
      "  warnings.warn(\"Maximum Likelihood optimization failed to \"\n"
     ]
    },
    {
     "name": "stdout",
     "output_type": "stream",
     "text": [
      "ARIMA(2, 0, 3)x(0, 1, 0, 7) - AIC:12195.1918576791\n"
     ]
    },
    {
     "name": "stderr",
     "output_type": "stream",
     "text": [
      "/opt/anaconda3/envs/learn-env/lib/python3.8/site-packages/statsmodels/base/model.py:604: ConvergenceWarning: Maximum Likelihood optimization failed to converge. Check mle_retvals\n",
      "  warnings.warn(\"Maximum Likelihood optimization failed to \"\n"
     ]
    },
    {
     "name": "stdout",
     "output_type": "stream",
     "text": [
      "ARIMA(2, 0, 3)x(0, 1, 1, 7) - AIC:11750.099681008836\n"
     ]
    },
    {
     "name": "stderr",
     "output_type": "stream",
     "text": [
      "/opt/anaconda3/envs/learn-env/lib/python3.8/site-packages/statsmodels/base/model.py:604: ConvergenceWarning: Maximum Likelihood optimization failed to converge. Check mle_retvals\n",
      "  warnings.warn(\"Maximum Likelihood optimization failed to \"\n"
     ]
    },
    {
     "name": "stdout",
     "output_type": "stream",
     "text": [
      "ARIMA(2, 0, 3)x(0, 1, 2, 7) - AIC:11517.014448508493\n"
     ]
    },
    {
     "name": "stderr",
     "output_type": "stream",
     "text": [
      "/opt/anaconda3/envs/learn-env/lib/python3.8/site-packages/statsmodels/base/model.py:604: ConvergenceWarning: Maximum Likelihood optimization failed to converge. Check mle_retvals\n",
      "  warnings.warn(\"Maximum Likelihood optimization failed to \"\n"
     ]
    },
    {
     "name": "stdout",
     "output_type": "stream",
     "text": [
      "ARIMA(2, 0, 3)x(0, 1, 3, 7) - AIC:11464.167036455729\n"
     ]
    },
    {
     "name": "stderr",
     "output_type": "stream",
     "text": [
      "/opt/anaconda3/envs/learn-env/lib/python3.8/site-packages/statsmodels/base/model.py:604: ConvergenceWarning: Maximum Likelihood optimization failed to converge. Check mle_retvals\n",
      "  warnings.warn(\"Maximum Likelihood optimization failed to \"\n"
     ]
    },
    {
     "name": "stdout",
     "output_type": "stream",
     "text": [
      "ARIMA(2, 0, 3)x(0, 1, 4, 7) - AIC:11411.296602788669\n"
     ]
    },
    {
     "name": "stderr",
     "output_type": "stream",
     "text": [
      "/opt/anaconda3/envs/learn-env/lib/python3.8/site-packages/statsmodels/base/model.py:604: ConvergenceWarning: Maximum Likelihood optimization failed to converge. Check mle_retvals\n",
      "  warnings.warn(\"Maximum Likelihood optimization failed to \"\n"
     ]
    },
    {
     "name": "stdout",
     "output_type": "stream",
     "text": [
      "ARIMA(2, 0, 3)x(1, 1, 0, 7) - AIC:11870.375665583633\n"
     ]
    },
    {
     "name": "stderr",
     "output_type": "stream",
     "text": [
      "/opt/anaconda3/envs/learn-env/lib/python3.8/site-packages/statsmodels/base/model.py:604: ConvergenceWarning: Maximum Likelihood optimization failed to converge. Check mle_retvals\n",
      "  warnings.warn(\"Maximum Likelihood optimization failed to \"\n"
     ]
    },
    {
     "name": "stdout",
     "output_type": "stream",
     "text": [
      "ARIMA(2, 0, 3)x(1, 1, 1, 7) - AIC:11590.957216451778\n"
     ]
    },
    {
     "name": "stderr",
     "output_type": "stream",
     "text": [
      "/opt/anaconda3/envs/learn-env/lib/python3.8/site-packages/statsmodels/base/model.py:604: ConvergenceWarning: Maximum Likelihood optimization failed to converge. Check mle_retvals\n",
      "  warnings.warn(\"Maximum Likelihood optimization failed to \"\n"
     ]
    },
    {
     "name": "stdout",
     "output_type": "stream",
     "text": [
      "ARIMA(2, 0, 3)x(1, 1, 2, 7) - AIC:11506.852327713896\n"
     ]
    },
    {
     "name": "stderr",
     "output_type": "stream",
     "text": [
      "/opt/anaconda3/envs/learn-env/lib/python3.8/site-packages/statsmodels/base/model.py:604: ConvergenceWarning: Maximum Likelihood optimization failed to converge. Check mle_retvals\n",
      "  warnings.warn(\"Maximum Likelihood optimization failed to \"\n"
     ]
    },
    {
     "name": "stdout",
     "output_type": "stream",
     "text": [
      "ARIMA(2, 0, 3)x(1, 1, 3, 7) - AIC:11482.226250646518\n"
     ]
    },
    {
     "name": "stderr",
     "output_type": "stream",
     "text": [
      "/opt/anaconda3/envs/learn-env/lib/python3.8/site-packages/statsmodels/base/model.py:604: ConvergenceWarning: Maximum Likelihood optimization failed to converge. Check mle_retvals\n",
      "  warnings.warn(\"Maximum Likelihood optimization failed to \"\n"
     ]
    },
    {
     "name": "stdout",
     "output_type": "stream",
     "text": [
      "ARIMA(2, 0, 3)x(1, 1, 4, 7) - AIC:11436.69614643553\n"
     ]
    },
    {
     "name": "stderr",
     "output_type": "stream",
     "text": [
      "/opt/anaconda3/envs/learn-env/lib/python3.8/site-packages/statsmodels/base/model.py:604: ConvergenceWarning: Maximum Likelihood optimization failed to converge. Check mle_retvals\n",
      "  warnings.warn(\"Maximum Likelihood optimization failed to \"\n"
     ]
    },
    {
     "name": "stdout",
     "output_type": "stream",
     "text": [
      "ARIMA(2, 0, 3)x(2, 1, 0, 7) - AIC:11715.54856385393\n"
     ]
    },
    {
     "name": "stderr",
     "output_type": "stream",
     "text": [
      "/opt/anaconda3/envs/learn-env/lib/python3.8/site-packages/statsmodels/base/model.py:604: ConvergenceWarning: Maximum Likelihood optimization failed to converge. Check mle_retvals\n",
      "  warnings.warn(\"Maximum Likelihood optimization failed to \"\n"
     ]
    },
    {
     "name": "stdout",
     "output_type": "stream",
     "text": [
      "ARIMA(2, 0, 3)x(2, 1, 1, 7) - AIC:11528.455881583262\n"
     ]
    },
    {
     "name": "stderr",
     "output_type": "stream",
     "text": [
      "/opt/anaconda3/envs/learn-env/lib/python3.8/site-packages/statsmodels/base/model.py:604: ConvergenceWarning: Maximum Likelihood optimization failed to converge. Check mle_retvals\n",
      "  warnings.warn(\"Maximum Likelihood optimization failed to \"\n"
     ]
    },
    {
     "name": "stdout",
     "output_type": "stream",
     "text": [
      "ARIMA(2, 0, 3)x(2, 1, 2, 7) - AIC:11523.374314029388\n"
     ]
    },
    {
     "name": "stderr",
     "output_type": "stream",
     "text": [
      "/opt/anaconda3/envs/learn-env/lib/python3.8/site-packages/statsmodels/base/model.py:604: ConvergenceWarning: Maximum Likelihood optimization failed to converge. Check mle_retvals\n",
      "  warnings.warn(\"Maximum Likelihood optimization failed to \"\n"
     ]
    },
    {
     "name": "stdout",
     "output_type": "stream",
     "text": [
      "ARIMA(2, 0, 3)x(2, 1, 3, 7) - AIC:11469.053279082607\n"
     ]
    },
    {
     "name": "stderr",
     "output_type": "stream",
     "text": [
      "/opt/anaconda3/envs/learn-env/lib/python3.8/site-packages/statsmodels/base/model.py:604: ConvergenceWarning: Maximum Likelihood optimization failed to converge. Check mle_retvals\n",
      "  warnings.warn(\"Maximum Likelihood optimization failed to \"\n"
     ]
    },
    {
     "name": "stdout",
     "output_type": "stream",
     "text": [
      "ARIMA(2, 0, 3)x(2, 1, 4, 7) - AIC:11467.702365520827\n"
     ]
    },
    {
     "name": "stderr",
     "output_type": "stream",
     "text": [
      "/opt/anaconda3/envs/learn-env/lib/python3.8/site-packages/statsmodels/base/model.py:604: ConvergenceWarning: Maximum Likelihood optimization failed to converge. Check mle_retvals\n",
      "  warnings.warn(\"Maximum Likelihood optimization failed to \"\n"
     ]
    },
    {
     "name": "stdout",
     "output_type": "stream",
     "text": [
      "ARIMA(2, 0, 3)x(3, 1, 0, 7) - AIC:11619.688219120157\n"
     ]
    },
    {
     "name": "stderr",
     "output_type": "stream",
     "text": [
      "/opt/anaconda3/envs/learn-env/lib/python3.8/site-packages/statsmodels/base/model.py:604: ConvergenceWarning: Maximum Likelihood optimization failed to converge. Check mle_retvals\n",
      "  warnings.warn(\"Maximum Likelihood optimization failed to \"\n"
     ]
    },
    {
     "name": "stdout",
     "output_type": "stream",
     "text": [
      "ARIMA(2, 0, 3)x(3, 1, 1, 7) - AIC:11506.037686010042\n"
     ]
    },
    {
     "name": "stderr",
     "output_type": "stream",
     "text": [
      "/opt/anaconda3/envs/learn-env/lib/python3.8/site-packages/statsmodels/base/model.py:604: ConvergenceWarning: Maximum Likelihood optimization failed to converge. Check mle_retvals\n",
      "  warnings.warn(\"Maximum Likelihood optimization failed to \"\n"
     ]
    },
    {
     "name": "stdout",
     "output_type": "stream",
     "text": [
      "ARIMA(2, 0, 3)x(3, 1, 2, 7) - AIC:11486.95280116476\n"
     ]
    },
    {
     "name": "stderr",
     "output_type": "stream",
     "text": [
      "/opt/anaconda3/envs/learn-env/lib/python3.8/site-packages/statsmodels/base/model.py:604: ConvergenceWarning: Maximum Likelihood optimization failed to converge. Check mle_retvals\n",
      "  warnings.warn(\"Maximum Likelihood optimization failed to \"\n"
     ]
    },
    {
     "name": "stdout",
     "output_type": "stream",
     "text": [
      "ARIMA(2, 0, 3)x(3, 1, 3, 7) - AIC:11478.144473219425\n"
     ]
    },
    {
     "name": "stderr",
     "output_type": "stream",
     "text": [
      "/opt/anaconda3/envs/learn-env/lib/python3.8/site-packages/statsmodels/base/model.py:604: ConvergenceWarning: Maximum Likelihood optimization failed to converge. Check mle_retvals\n",
      "  warnings.warn(\"Maximum Likelihood optimization failed to \"\n"
     ]
    },
    {
     "name": "stdout",
     "output_type": "stream",
     "text": [
      "ARIMA(2, 0, 3)x(3, 1, 4, 7) - AIC:11411.57862496872\n"
     ]
    },
    {
     "name": "stderr",
     "output_type": "stream",
     "text": [
      "/opt/anaconda3/envs/learn-env/lib/python3.8/site-packages/statsmodels/base/model.py:604: ConvergenceWarning: Maximum Likelihood optimization failed to converge. Check mle_retvals\n",
      "  warnings.warn(\"Maximum Likelihood optimization failed to \"\n"
     ]
    },
    {
     "name": "stdout",
     "output_type": "stream",
     "text": [
      "ARIMA(2, 0, 3)x(4, 1, 0, 7) - AIC:11507.422780554349\n"
     ]
    },
    {
     "name": "stderr",
     "output_type": "stream",
     "text": [
      "/opt/anaconda3/envs/learn-env/lib/python3.8/site-packages/statsmodels/base/model.py:604: ConvergenceWarning: Maximum Likelihood optimization failed to converge. Check mle_retvals\n",
      "  warnings.warn(\"Maximum Likelihood optimization failed to \"\n"
     ]
    },
    {
     "name": "stdout",
     "output_type": "stream",
     "text": [
      "ARIMA(2, 0, 3)x(4, 1, 1, 7) - AIC:11538.318721329448\n"
     ]
    },
    {
     "name": "stderr",
     "output_type": "stream",
     "text": [
      "/opt/anaconda3/envs/learn-env/lib/python3.8/site-packages/statsmodels/base/model.py:604: ConvergenceWarning: Maximum Likelihood optimization failed to converge. Check mle_retvals\n",
      "  warnings.warn(\"Maximum Likelihood optimization failed to \"\n"
     ]
    },
    {
     "name": "stdout",
     "output_type": "stream",
     "text": [
      "ARIMA(2, 0, 3)x(4, 1, 2, 7) - AIC:11499.666795422156\n"
     ]
    },
    {
     "name": "stderr",
     "output_type": "stream",
     "text": [
      "/opt/anaconda3/envs/learn-env/lib/python3.8/site-packages/statsmodels/base/model.py:604: ConvergenceWarning: Maximum Likelihood optimization failed to converge. Check mle_retvals\n",
      "  warnings.warn(\"Maximum Likelihood optimization failed to \"\n"
     ]
    },
    {
     "name": "stdout",
     "output_type": "stream",
     "text": [
      "ARIMA(2, 0, 3)x(4, 1, 3, 7) - AIC:11436.667276547785\n"
     ]
    },
    {
     "name": "stderr",
     "output_type": "stream",
     "text": [
      "/opt/anaconda3/envs/learn-env/lib/python3.8/site-packages/statsmodels/base/model.py:604: ConvergenceWarning: Maximum Likelihood optimization failed to converge. Check mle_retvals\n",
      "  warnings.warn(\"Maximum Likelihood optimization failed to \"\n"
     ]
    },
    {
     "name": "stdout",
     "output_type": "stream",
     "text": [
      "ARIMA(2, 0, 3)x(4, 1, 4, 7) - AIC:11433.670125216038\n"
     ]
    },
    {
     "name": "stderr",
     "output_type": "stream",
     "text": [
      "/opt/anaconda3/envs/learn-env/lib/python3.8/site-packages/statsmodels/base/model.py:604: ConvergenceWarning: Maximum Likelihood optimization failed to converge. Check mle_retvals\n",
      "  warnings.warn(\"Maximum Likelihood optimization failed to \"\n"
     ]
    },
    {
     "name": "stdout",
     "output_type": "stream",
     "text": [
      "ARIMA(2, 0, 4)x(0, 1, 0, 7) - AIC:12035.713153445224\n",
      "ARIMA(2, 0, 4)x(0, 1, 1, 7) - AIC:11560.833358360855\n",
      "ARIMA(2, 0, 4)x(0, 1, 2, 7) - AIC:11508.49334015874\n",
      "ARIMA(2, 0, 4)x(0, 1, 3, 7) - AIC:11455.707437757985\n"
     ]
    },
    {
     "name": "stderr",
     "output_type": "stream",
     "text": [
      "/opt/anaconda3/envs/learn-env/lib/python3.8/site-packages/statsmodels/base/model.py:604: ConvergenceWarning: Maximum Likelihood optimization failed to converge. Check mle_retvals\n",
      "  warnings.warn(\"Maximum Likelihood optimization failed to \"\n"
     ]
    },
    {
     "name": "stdout",
     "output_type": "stream",
     "text": [
      "ARIMA(2, 0, 4)x(0, 1, 4, 7) - AIC:11398.675688886167\n",
      "ARIMA(2, 0, 4)x(1, 1, 0, 7) - AIC:11834.760825965981\n",
      "ARIMA(2, 0, 4)x(1, 1, 1, 7) - AIC:11562.082652033738\n",
      "ARIMA(2, 0, 4)x(1, 1, 2, 7) - AIC:11510.494819827207\n"
     ]
    },
    {
     "name": "stderr",
     "output_type": "stream",
     "text": [
      "/opt/anaconda3/envs/learn-env/lib/python3.8/site-packages/statsmodels/base/model.py:604: ConvergenceWarning: Maximum Likelihood optimization failed to converge. Check mle_retvals\n",
      "  warnings.warn(\"Maximum Likelihood optimization failed to \"\n"
     ]
    },
    {
     "name": "stdout",
     "output_type": "stream",
     "text": [
      "ARIMA(2, 0, 4)x(1, 1, 3, 7) - AIC:11449.589755934403\n"
     ]
    },
    {
     "name": "stderr",
     "output_type": "stream",
     "text": [
      "/opt/anaconda3/envs/learn-env/lib/python3.8/site-packages/statsmodels/base/model.py:604: ConvergenceWarning: Maximum Likelihood optimization failed to converge. Check mle_retvals\n",
      "  warnings.warn(\"Maximum Likelihood optimization failed to \"\n"
     ]
    },
    {
     "name": "stdout",
     "output_type": "stream",
     "text": [
      "ARIMA(2, 0, 4)x(1, 1, 4, 7) - AIC:11401.0508244778\n",
      "ARIMA(2, 0, 4)x(2, 1, 0, 7) - AIC:11715.277306446256\n",
      "ARIMA(2, 0, 4)x(2, 1, 1, 7) - AIC:11526.386571465364\n"
     ]
    },
    {
     "name": "stderr",
     "output_type": "stream",
     "text": [
      "/opt/anaconda3/envs/learn-env/lib/python3.8/site-packages/statsmodels/base/model.py:604: ConvergenceWarning: Maximum Likelihood optimization failed to converge. Check mle_retvals\n",
      "  warnings.warn(\"Maximum Likelihood optimization failed to \"\n"
     ]
    },
    {
     "name": "stdout",
     "output_type": "stream",
     "text": [
      "ARIMA(2, 0, 4)x(2, 1, 2, 7) - AIC:11494.650161851037\n"
     ]
    },
    {
     "name": "stderr",
     "output_type": "stream",
     "text": [
      "/opt/anaconda3/envs/learn-env/lib/python3.8/site-packages/statsmodels/base/model.py:604: ConvergenceWarning: Maximum Likelihood optimization failed to converge. Check mle_retvals\n",
      "  warnings.warn(\"Maximum Likelihood optimization failed to \"\n"
     ]
    },
    {
     "name": "stdout",
     "output_type": "stream",
     "text": [
      "ARIMA(2, 0, 4)x(2, 1, 3, 7) - AIC:11455.946989671855\n"
     ]
    },
    {
     "name": "stderr",
     "output_type": "stream",
     "text": [
      "/opt/anaconda3/envs/learn-env/lib/python3.8/site-packages/statsmodels/base/model.py:604: ConvergenceWarning: Maximum Likelihood optimization failed to converge. Check mle_retvals\n",
      "  warnings.warn(\"Maximum Likelihood optimization failed to \"\n"
     ]
    },
    {
     "name": "stdout",
     "output_type": "stream",
     "text": [
      "ARIMA(2, 0, 4)x(2, 1, 4, 7) - AIC:11400.958994337812\n",
      "ARIMA(2, 0, 4)x(3, 1, 0, 7) - AIC:11602.722396573681\n"
     ]
    },
    {
     "name": "stderr",
     "output_type": "stream",
     "text": [
      "/opt/anaconda3/envs/learn-env/lib/python3.8/site-packages/statsmodels/base/model.py:604: ConvergenceWarning: Maximum Likelihood optimization failed to converge. Check mle_retvals\n",
      "  warnings.warn(\"Maximum Likelihood optimization failed to \"\n"
     ]
    },
    {
     "name": "stdout",
     "output_type": "stream",
     "text": [
      "ARIMA(2, 0, 4)x(3, 1, 1, 7) - AIC:11468.450775497284\n"
     ]
    },
    {
     "name": "stderr",
     "output_type": "stream",
     "text": [
      "/opt/anaconda3/envs/learn-env/lib/python3.8/site-packages/statsmodels/base/model.py:604: ConvergenceWarning: Maximum Likelihood optimization failed to converge. Check mle_retvals\n",
      "  warnings.warn(\"Maximum Likelihood optimization failed to \"\n"
     ]
    },
    {
     "name": "stdout",
     "output_type": "stream",
     "text": [
      "ARIMA(2, 0, 4)x(3, 1, 2, 7) - AIC:11466.54351691838\n"
     ]
    },
    {
     "name": "stderr",
     "output_type": "stream",
     "text": [
      "/opt/anaconda3/envs/learn-env/lib/python3.8/site-packages/statsmodels/base/model.py:604: ConvergenceWarning: Maximum Likelihood optimization failed to converge. Check mle_retvals\n",
      "  warnings.warn(\"Maximum Likelihood optimization failed to \"\n"
     ]
    },
    {
     "name": "stdout",
     "output_type": "stream",
     "text": [
      "ARIMA(2, 0, 4)x(3, 1, 3, 7) - AIC:11443.005871018231\n"
     ]
    },
    {
     "name": "stderr",
     "output_type": "stream",
     "text": [
      "/opt/anaconda3/envs/learn-env/lib/python3.8/site-packages/statsmodels/base/model.py:604: ConvergenceWarning: Maximum Likelihood optimization failed to converge. Check mle_retvals\n",
      "  warnings.warn(\"Maximum Likelihood optimization failed to \"\n"
     ]
    },
    {
     "name": "stdout",
     "output_type": "stream",
     "text": [
      "ARIMA(2, 0, 4)x(3, 1, 4, 7) - AIC:11405.70886609025\n"
     ]
    },
    {
     "name": "stderr",
     "output_type": "stream",
     "text": [
      "/opt/anaconda3/envs/learn-env/lib/python3.8/site-packages/statsmodels/base/model.py:604: ConvergenceWarning: Maximum Likelihood optimization failed to converge. Check mle_retvals\n",
      "  warnings.warn(\"Maximum Likelihood optimization failed to \"\n"
     ]
    },
    {
     "name": "stdout",
     "output_type": "stream",
     "text": [
      "ARIMA(2, 0, 4)x(4, 1, 0, 7) - AIC:11492.246068410323\n"
     ]
    },
    {
     "name": "stderr",
     "output_type": "stream",
     "text": [
      "/opt/anaconda3/envs/learn-env/lib/python3.8/site-packages/statsmodels/base/model.py:604: ConvergenceWarning: Maximum Likelihood optimization failed to converge. Check mle_retvals\n",
      "  warnings.warn(\"Maximum Likelihood optimization failed to \"\n"
     ]
    },
    {
     "name": "stdout",
     "output_type": "stream",
     "text": [
      "ARIMA(2, 0, 4)x(4, 1, 1, 7) - AIC:11411.388037867764\n"
     ]
    },
    {
     "name": "stderr",
     "output_type": "stream",
     "text": [
      "/opt/anaconda3/envs/learn-env/lib/python3.8/site-packages/statsmodels/base/model.py:604: ConvergenceWarning: Maximum Likelihood optimization failed to converge. Check mle_retvals\n",
      "  warnings.warn(\"Maximum Likelihood optimization failed to \"\n"
     ]
    },
    {
     "name": "stdout",
     "output_type": "stream",
     "text": [
      "ARIMA(2, 0, 4)x(4, 1, 2, 7) - AIC:11414.282200410144\n"
     ]
    },
    {
     "name": "stderr",
     "output_type": "stream",
     "text": [
      "/opt/anaconda3/envs/learn-env/lib/python3.8/site-packages/statsmodels/base/model.py:604: ConvergenceWarning: Maximum Likelihood optimization failed to converge. Check mle_retvals\n",
      "  warnings.warn(\"Maximum Likelihood optimization failed to \"\n"
     ]
    },
    {
     "name": "stdout",
     "output_type": "stream",
     "text": [
      "Oops!\n",
      "Oops!\n",
      "ARIMA(3, 0, 0)x(0, 1, 0, 7) - AIC:12259.194664549546\n",
      "ARIMA(3, 0, 0)x(0, 1, 1, 7) - AIC:11593.008639368214\n",
      "ARIMA(3, 0, 0)x(0, 1, 2, 7) - AIC:11535.70402866301\n",
      "ARIMA(3, 0, 0)x(0, 1, 3, 7) - AIC:11483.143605078363\n",
      "ARIMA(3, 0, 0)x(0, 1, 4, 7) - AIC:11426.01764466875\n",
      "ARIMA(3, 0, 0)x(1, 1, 0, 7) - AIC:11877.527565369008\n",
      "ARIMA(3, 0, 0)x(1, 1, 1, 7) - AIC:11577.19022252694\n",
      "ARIMA(3, 0, 0)x(1, 1, 2, 7) - AIC:11537.690039298835\n",
      "ARIMA(3, 0, 0)x(1, 1, 3, 7) - AIC:11485.045758618005\n"
     ]
    },
    {
     "name": "stderr",
     "output_type": "stream",
     "text": [
      "/opt/anaconda3/envs/learn-env/lib/python3.8/site-packages/statsmodels/base/model.py:604: ConvergenceWarning: Maximum Likelihood optimization failed to converge. Check mle_retvals\n",
      "  warnings.warn(\"Maximum Likelihood optimization failed to \"\n"
     ]
    },
    {
     "name": "stdout",
     "output_type": "stream",
     "text": [
      "ARIMA(3, 0, 0)x(1, 1, 4, 7) - AIC:11418.309217488626\n",
      "ARIMA(3, 0, 0)x(2, 1, 0, 7) - AIC:11706.191465017397\n",
      "ARIMA(3, 0, 0)x(2, 1, 1, 7) - AIC:11515.611246123724\n",
      "ARIMA(3, 0, 0)x(2, 1, 2, 7) - AIC:11508.24215158286\n",
      "Oops!\n",
      "Oops!\n",
      "ARIMA(3, 0, 0)x(3, 1, 0, 7) - AIC:11594.115661935699\n",
      "Oops!\n",
      "ARIMA(3, 0, 0)x(3, 1, 2, 7) - AIC:11458.759810267518\n"
     ]
    },
    {
     "name": "stderr",
     "output_type": "stream",
     "text": [
      "/opt/anaconda3/envs/learn-env/lib/python3.8/site-packages/statsmodels/base/model.py:604: ConvergenceWarning: Maximum Likelihood optimization failed to converge. Check mle_retvals\n",
      "  warnings.warn(\"Maximum Likelihood optimization failed to \"\n"
     ]
    },
    {
     "name": "stdout",
     "output_type": "stream",
     "text": [
      "ARIMA(3, 0, 0)x(3, 1, 3, 7) - AIC:11455.845764749738\n",
      "ARIMA(3, 0, 0)x(3, 1, 4, 7) - AIC:11432.454297218137\n",
      "ARIMA(3, 0, 0)x(4, 1, 0, 7) - AIC:11489.214748605209\n",
      "ARIMA(3, 0, 0)x(4, 1, 1, 7) - AIC:11402.829464629725\n",
      "ARIMA(3, 0, 0)x(4, 1, 2, 7) - AIC:11404.85750064436\n"
     ]
    },
    {
     "name": "stderr",
     "output_type": "stream",
     "text": [
      "/opt/anaconda3/envs/learn-env/lib/python3.8/site-packages/statsmodels/base/model.py:604: ConvergenceWarning: Maximum Likelihood optimization failed to converge. Check mle_retvals\n",
      "  warnings.warn(\"Maximum Likelihood optimization failed to \"\n"
     ]
    },
    {
     "name": "stdout",
     "output_type": "stream",
     "text": [
      "ARIMA(3, 0, 0)x(4, 1, 3, 7) - AIC:11401.656235684091\n",
      "ARIMA(3, 0, 0)x(4, 1, 4, 7) - AIC:11402.624812291104\n",
      "ARIMA(3, 0, 1)x(0, 1, 0, 7) - AIC:12260.853777496171\n",
      "ARIMA(3, 0, 1)x(0, 1, 1, 7) - AIC:11582.281231016254\n",
      "ARIMA(3, 0, 1)x(0, 1, 2, 7) - AIC:11527.667795705918\n",
      "ARIMA(3, 0, 1)x(0, 1, 3, 7) - AIC:11473.85080746658\n",
      "ARIMA(3, 0, 1)x(0, 1, 4, 7) - AIC:11417.232396938933\n",
      "ARIMA(3, 0, 1)x(1, 1, 0, 7) - AIC:11879.209717911857\n",
      "ARIMA(3, 0, 1)x(1, 1, 1, 7) - AIC:11575.612562401842\n",
      "ARIMA(3, 0, 1)x(1, 1, 2, 7) - AIC:11529.54546417202\n",
      "ARIMA(3, 0, 1)x(1, 1, 3, 7) - AIC:11475.83640486336\n"
     ]
    },
    {
     "name": "stderr",
     "output_type": "stream",
     "text": [
      "/opt/anaconda3/envs/learn-env/lib/python3.8/site-packages/statsmodels/base/model.py:604: ConvergenceWarning: Maximum Likelihood optimization failed to converge. Check mle_retvals\n",
      "  warnings.warn(\"Maximum Likelihood optimization failed to \"\n"
     ]
    },
    {
     "name": "stdout",
     "output_type": "stream",
     "text": [
      "ARIMA(3, 0, 1)x(1, 1, 4, 7) - AIC:11411.553623108139\n",
      "ARIMA(3, 0, 1)x(2, 1, 0, 7) - AIC:11707.703941820619\n",
      "ARIMA(3, 0, 1)x(2, 1, 1, 7) - AIC:11514.88139168535\n"
     ]
    },
    {
     "name": "stderr",
     "output_type": "stream",
     "text": [
      "/opt/anaconda3/envs/learn-env/lib/python3.8/site-packages/statsmodels/base/model.py:604: ConvergenceWarning: Maximum Likelihood optimization failed to converge. Check mle_retvals\n",
      "  warnings.warn(\"Maximum Likelihood optimization failed to \"\n"
     ]
    },
    {
     "name": "stdout",
     "output_type": "stream",
     "text": [
      "ARIMA(3, 0, 1)x(2, 1, 2, 7) - AIC:11507.445937535973\n",
      "ARIMA(3, 0, 1)x(2, 1, 3, 7) - AIC:11476.07692831329\n"
     ]
    },
    {
     "name": "stderr",
     "output_type": "stream",
     "text": [
      "/opt/anaconda3/envs/learn-env/lib/python3.8/site-packages/statsmodels/base/model.py:604: ConvergenceWarning: Maximum Likelihood optimization failed to converge. Check mle_retvals\n",
      "  warnings.warn(\"Maximum Likelihood optimization failed to \"\n"
     ]
    },
    {
     "name": "stdout",
     "output_type": "stream",
     "text": [
      "ARIMA(3, 0, 1)x(2, 1, 4, 7) - AIC:11423.025440217492\n",
      "ARIMA(3, 0, 1)x(3, 1, 0, 7) - AIC:11594.666153707616\n",
      "ARIMA(3, 0, 1)x(3, 1, 1, 7) - AIC:11458.206311295127\n"
     ]
    },
    {
     "name": "stderr",
     "output_type": "stream",
     "text": [
      "/opt/anaconda3/envs/learn-env/lib/python3.8/site-packages/statsmodels/base/model.py:604: ConvergenceWarning: Maximum Likelihood optimization failed to converge. Check mle_retvals\n",
      "  warnings.warn(\"Maximum Likelihood optimization failed to \"\n"
     ]
    },
    {
     "name": "stdout",
     "output_type": "stream",
     "text": [
      "ARIMA(3, 0, 1)x(3, 1, 2, 7) - AIC:11458.364787167095\n"
     ]
    },
    {
     "name": "stderr",
     "output_type": "stream",
     "text": [
      "/opt/anaconda3/envs/learn-env/lib/python3.8/site-packages/statsmodels/base/model.py:604: ConvergenceWarning: Maximum Likelihood optimization failed to converge. Check mle_retvals\n",
      "  warnings.warn(\"Maximum Likelihood optimization failed to \"\n"
     ]
    },
    {
     "name": "stdout",
     "output_type": "stream",
     "text": [
      "ARIMA(3, 0, 1)x(3, 1, 3, 7) - AIC:11455.84460894609\n",
      "ARIMA(3, 0, 1)x(3, 1, 4, 7) - AIC:11423.157106248054\n",
      "ARIMA(3, 0, 1)x(4, 1, 0, 7) - AIC:11489.349384159952\n",
      "ARIMA(3, 0, 1)x(4, 1, 1, 7) - AIC:11402.37522277797\n",
      "ARIMA(3, 0, 1)x(4, 1, 2, 7) - AIC:11404.299248314475\n"
     ]
    },
    {
     "name": "stderr",
     "output_type": "stream",
     "text": [
      "/opt/anaconda3/envs/learn-env/lib/python3.8/site-packages/statsmodels/base/model.py:604: ConvergenceWarning: Maximum Likelihood optimization failed to converge. Check mle_retvals\n",
      "  warnings.warn(\"Maximum Likelihood optimization failed to \"\n"
     ]
    },
    {
     "name": "stdout",
     "output_type": "stream",
     "text": [
      "ARIMA(3, 0, 1)x(4, 1, 3, 7) - AIC:11402.899176128813\n"
     ]
    },
    {
     "name": "stderr",
     "output_type": "stream",
     "text": [
      "/opt/anaconda3/envs/learn-env/lib/python3.8/site-packages/statsmodels/base/model.py:604: ConvergenceWarning: Maximum Likelihood optimization failed to converge. Check mle_retvals\n",
      "  warnings.warn(\"Maximum Likelihood optimization failed to \"\n"
     ]
    },
    {
     "name": "stdout",
     "output_type": "stream",
     "text": [
      "ARIMA(3, 0, 1)x(4, 1, 4, 7) - AIC:11402.849968534141\n"
     ]
    },
    {
     "name": "stderr",
     "output_type": "stream",
     "text": [
      "/opt/anaconda3/envs/learn-env/lib/python3.8/site-packages/statsmodels/base/model.py:604: ConvergenceWarning: Maximum Likelihood optimization failed to converge. Check mle_retvals\n",
      "  warnings.warn(\"Maximum Likelihood optimization failed to \"\n"
     ]
    },
    {
     "name": "stdout",
     "output_type": "stream",
     "text": [
      "ARIMA(3, 0, 2)x(0, 1, 0, 7) - AIC:12057.019403602408\n"
     ]
    },
    {
     "name": "stderr",
     "output_type": "stream",
     "text": [
      "/opt/anaconda3/envs/learn-env/lib/python3.8/site-packages/statsmodels/base/model.py:604: ConvergenceWarning: Maximum Likelihood optimization failed to converge. Check mle_retvals\n",
      "  warnings.warn(\"Maximum Likelihood optimization failed to \"\n"
     ]
    },
    {
     "name": "stdout",
     "output_type": "stream",
     "text": [
      "ARIMA(3, 0, 2)x(0, 1, 1, 7) - AIC:11576.59218097433\n"
     ]
    },
    {
     "name": "stderr",
     "output_type": "stream",
     "text": [
      "/opt/anaconda3/envs/learn-env/lib/python3.8/site-packages/statsmodels/base/model.py:604: ConvergenceWarning: Maximum Likelihood optimization failed to converge. Check mle_retvals\n",
      "  warnings.warn(\"Maximum Likelihood optimization failed to \"\n"
     ]
    },
    {
     "name": "stdout",
     "output_type": "stream",
     "text": [
      "ARIMA(3, 0, 2)x(0, 1, 2, 7) - AIC:11522.708738722187\n"
     ]
    },
    {
     "name": "stderr",
     "output_type": "stream",
     "text": [
      "/opt/anaconda3/envs/learn-env/lib/python3.8/site-packages/statsmodels/base/model.py:604: ConvergenceWarning: Maximum Likelihood optimization failed to converge. Check mle_retvals\n",
      "  warnings.warn(\"Maximum Likelihood optimization failed to \"\n"
     ]
    },
    {
     "name": "stdout",
     "output_type": "stream",
     "text": [
      "ARIMA(3, 0, 2)x(0, 1, 3, 7) - AIC:11468.497414311743\n"
     ]
    },
    {
     "name": "stderr",
     "output_type": "stream",
     "text": [
      "/opt/anaconda3/envs/learn-env/lib/python3.8/site-packages/statsmodels/base/model.py:604: ConvergenceWarning: Maximum Likelihood optimization failed to converge. Check mle_retvals\n",
      "  warnings.warn(\"Maximum Likelihood optimization failed to \"\n"
     ]
    },
    {
     "name": "stdout",
     "output_type": "stream",
     "text": [
      "ARIMA(3, 0, 2)x(0, 1, 4, 7) - AIC:11421.262008814656\n"
     ]
    },
    {
     "name": "stderr",
     "output_type": "stream",
     "text": [
      "/opt/anaconda3/envs/learn-env/lib/python3.8/site-packages/statsmodels/base/model.py:604: ConvergenceWarning: Maximum Likelihood optimization failed to converge. Check mle_retvals\n",
      "  warnings.warn(\"Maximum Likelihood optimization failed to \"\n"
     ]
    },
    {
     "name": "stdout",
     "output_type": "stream",
     "text": [
      "ARIMA(3, 0, 2)x(1, 1, 0, 7) - AIC:11814.29029181973\n"
     ]
    },
    {
     "name": "stderr",
     "output_type": "stream",
     "text": [
      "/opt/anaconda3/envs/learn-env/lib/python3.8/site-packages/statsmodels/base/model.py:604: ConvergenceWarning: Maximum Likelihood optimization failed to converge. Check mle_retvals\n",
      "  warnings.warn(\"Maximum Likelihood optimization failed to \"\n"
     ]
    },
    {
     "name": "stdout",
     "output_type": "stream",
     "text": [
      "ARIMA(3, 0, 2)x(1, 1, 1, 7) - AIC:11596.343207718792\n"
     ]
    },
    {
     "name": "stderr",
     "output_type": "stream",
     "text": [
      "/opt/anaconda3/envs/learn-env/lib/python3.8/site-packages/statsmodels/base/model.py:604: ConvergenceWarning: Maximum Likelihood optimization failed to converge. Check mle_retvals\n",
      "  warnings.warn(\"Maximum Likelihood optimization failed to \"\n"
     ]
    },
    {
     "name": "stdout",
     "output_type": "stream",
     "text": [
      "ARIMA(3, 0, 2)x(1, 1, 2, 7) - AIC:11542.848686042991\n"
     ]
    },
    {
     "name": "stderr",
     "output_type": "stream",
     "text": [
      "/opt/anaconda3/envs/learn-env/lib/python3.8/site-packages/statsmodels/base/model.py:604: ConvergenceWarning: Maximum Likelihood optimization failed to converge. Check mle_retvals\n",
      "  warnings.warn(\"Maximum Likelihood optimization failed to \"\n"
     ]
    },
    {
     "name": "stdout",
     "output_type": "stream",
     "text": [
      "ARIMA(3, 0, 2)x(1, 1, 3, 7) - AIC:11470.707845177203\n"
     ]
    },
    {
     "name": "stderr",
     "output_type": "stream",
     "text": [
      "/opt/anaconda3/envs/learn-env/lib/python3.8/site-packages/statsmodels/base/model.py:604: ConvergenceWarning: Maximum Likelihood optimization failed to converge. Check mle_retvals\n",
      "  warnings.warn(\"Maximum Likelihood optimization failed to \"\n"
     ]
    },
    {
     "name": "stdout",
     "output_type": "stream",
     "text": [
      "ARIMA(3, 0, 2)x(1, 1, 4, 7) - AIC:11416.465288193258\n"
     ]
    },
    {
     "name": "stderr",
     "output_type": "stream",
     "text": [
      "/opt/anaconda3/envs/learn-env/lib/python3.8/site-packages/statsmodels/base/model.py:604: ConvergenceWarning: Maximum Likelihood optimization failed to converge. Check mle_retvals\n",
      "  warnings.warn(\"Maximum Likelihood optimization failed to \"\n"
     ]
    },
    {
     "name": "stdout",
     "output_type": "stream",
     "text": [
      "ARIMA(3, 0, 2)x(2, 1, 0, 7) - AIC:11688.518033277574\n"
     ]
    },
    {
     "name": "stderr",
     "output_type": "stream",
     "text": [
      "/opt/anaconda3/envs/learn-env/lib/python3.8/site-packages/statsmodels/base/model.py:604: ConvergenceWarning: Maximum Likelihood optimization failed to converge. Check mle_retvals\n",
      "  warnings.warn(\"Maximum Likelihood optimization failed to \"\n"
     ]
    },
    {
     "name": "stdout",
     "output_type": "stream",
     "text": [
      "ARIMA(3, 0, 2)x(2, 1, 1, 7) - AIC:11516.950388169796\n"
     ]
    },
    {
     "name": "stderr",
     "output_type": "stream",
     "text": [
      "/opt/anaconda3/envs/learn-env/lib/python3.8/site-packages/statsmodels/base/model.py:604: ConvergenceWarning: Maximum Likelihood optimization failed to converge. Check mle_retvals\n",
      "  warnings.warn(\"Maximum Likelihood optimization failed to \"\n"
     ]
    },
    {
     "name": "stdout",
     "output_type": "stream",
     "text": [
      "ARIMA(3, 0, 2)x(2, 1, 2, 7) - AIC:11525.090910604666\n"
     ]
    },
    {
     "name": "stderr",
     "output_type": "stream",
     "text": [
      "/opt/anaconda3/envs/learn-env/lib/python3.8/site-packages/statsmodels/base/model.py:604: ConvergenceWarning: Maximum Likelihood optimization failed to converge. Check mle_retvals\n",
      "  warnings.warn(\"Maximum Likelihood optimization failed to \"\n"
     ]
    },
    {
     "name": "stdout",
     "output_type": "stream",
     "text": [
      "ARIMA(3, 0, 2)x(2, 1, 3, 7) - AIC:11471.929320941656\n"
     ]
    },
    {
     "name": "stderr",
     "output_type": "stream",
     "text": [
      "/opt/anaconda3/envs/learn-env/lib/python3.8/site-packages/statsmodels/base/model.py:604: ConvergenceWarning: Maximum Likelihood optimization failed to converge. Check mle_retvals\n",
      "  warnings.warn(\"Maximum Likelihood optimization failed to \"\n"
     ]
    },
    {
     "name": "stdout",
     "output_type": "stream",
     "text": [
      "ARIMA(3, 0, 2)x(2, 1, 4, 7) - AIC:11419.549548258221\n"
     ]
    },
    {
     "name": "stderr",
     "output_type": "stream",
     "text": [
      "/opt/anaconda3/envs/learn-env/lib/python3.8/site-packages/statsmodels/base/model.py:604: ConvergenceWarning: Maximum Likelihood optimization failed to converge. Check mle_retvals\n",
      "  warnings.warn(\"Maximum Likelihood optimization failed to \"\n"
     ]
    },
    {
     "name": "stdout",
     "output_type": "stream",
     "text": [
      "ARIMA(3, 0, 2)x(3, 1, 0, 7) - AIC:11583.728641666356\n"
     ]
    },
    {
     "name": "stderr",
     "output_type": "stream",
     "text": [
      "/opt/anaconda3/envs/learn-env/lib/python3.8/site-packages/statsmodels/base/model.py:604: ConvergenceWarning: Maximum Likelihood optimization failed to converge. Check mle_retvals\n",
      "  warnings.warn(\"Maximum Likelihood optimization failed to \"\n"
     ]
    },
    {
     "name": "stdout",
     "output_type": "stream",
     "text": [
      "ARIMA(3, 0, 2)x(3, 1, 1, 7) - AIC:11460.14170196976\n"
     ]
    },
    {
     "name": "stderr",
     "output_type": "stream",
     "text": [
      "/opt/anaconda3/envs/learn-env/lib/python3.8/site-packages/statsmodels/base/model.py:604: ConvergenceWarning: Maximum Likelihood optimization failed to converge. Check mle_retvals\n",
      "  warnings.warn(\"Maximum Likelihood optimization failed to \"\n"
     ]
    },
    {
     "name": "stdout",
     "output_type": "stream",
     "text": [
      "ARIMA(3, 0, 2)x(3, 1, 2, 7) - AIC:11464.001251245401\n"
     ]
    },
    {
     "name": "stderr",
     "output_type": "stream",
     "text": [
      "/opt/anaconda3/envs/learn-env/lib/python3.8/site-packages/statsmodels/base/model.py:604: ConvergenceWarning: Maximum Likelihood optimization failed to converge. Check mle_retvals\n",
      "  warnings.warn(\"Maximum Likelihood optimization failed to \"\n"
     ]
    },
    {
     "name": "stdout",
     "output_type": "stream",
     "text": [
      "ARIMA(3, 0, 2)x(3, 1, 3, 7) - AIC:11470.020649354185\n"
     ]
    },
    {
     "name": "stderr",
     "output_type": "stream",
     "text": [
      "/opt/anaconda3/envs/learn-env/lib/python3.8/site-packages/statsmodels/base/model.py:604: ConvergenceWarning: Maximum Likelihood optimization failed to converge. Check mle_retvals\n",
      "  warnings.warn(\"Maximum Likelihood optimization failed to \"\n"
     ]
    },
    {
     "name": "stdout",
     "output_type": "stream",
     "text": [
      "ARIMA(3, 0, 2)x(3, 1, 4, 7) - AIC:11453.630362771528\n"
     ]
    },
    {
     "name": "stderr",
     "output_type": "stream",
     "text": [
      "/opt/anaconda3/envs/learn-env/lib/python3.8/site-packages/statsmodels/base/model.py:604: ConvergenceWarning: Maximum Likelihood optimization failed to converge. Check mle_retvals\n",
      "  warnings.warn(\"Maximum Likelihood optimization failed to \"\n"
     ]
    },
    {
     "name": "stdout",
     "output_type": "stream",
     "text": [
      "ARIMA(3, 0, 2)x(4, 1, 0, 7) - AIC:11490.675171052564\n"
     ]
    },
    {
     "name": "stderr",
     "output_type": "stream",
     "text": [
      "/opt/anaconda3/envs/learn-env/lib/python3.8/site-packages/statsmodels/base/model.py:604: ConvergenceWarning: Maximum Likelihood optimization failed to converge. Check mle_retvals\n",
      "  warnings.warn(\"Maximum Likelihood optimization failed to \"\n"
     ]
    },
    {
     "name": "stdout",
     "output_type": "stream",
     "text": [
      "ARIMA(3, 0, 2)x(4, 1, 1, 7) - AIC:11404.577109787298\n"
     ]
    },
    {
     "name": "stderr",
     "output_type": "stream",
     "text": [
      "/opt/anaconda3/envs/learn-env/lib/python3.8/site-packages/statsmodels/base/model.py:604: ConvergenceWarning: Maximum Likelihood optimization failed to converge. Check mle_retvals\n",
      "  warnings.warn(\"Maximum Likelihood optimization failed to \"\n"
     ]
    },
    {
     "name": "stdout",
     "output_type": "stream",
     "text": [
      "ARIMA(3, 0, 2)x(4, 1, 2, 7) - AIC:11406.58882154855\n"
     ]
    },
    {
     "name": "stderr",
     "output_type": "stream",
     "text": [
      "/opt/anaconda3/envs/learn-env/lib/python3.8/site-packages/statsmodels/base/model.py:604: ConvergenceWarning: Maximum Likelihood optimization failed to converge. Check mle_retvals\n",
      "  warnings.warn(\"Maximum Likelihood optimization failed to \"\n"
     ]
    },
    {
     "name": "stdout",
     "output_type": "stream",
     "text": [
      "ARIMA(3, 0, 2)x(4, 1, 3, 7) - AIC:11409.926304918134\n"
     ]
    },
    {
     "name": "stderr",
     "output_type": "stream",
     "text": [
      "/opt/anaconda3/envs/learn-env/lib/python3.8/site-packages/statsmodels/base/model.py:604: ConvergenceWarning: Maximum Likelihood optimization failed to converge. Check mle_retvals\n",
      "  warnings.warn(\"Maximum Likelihood optimization failed to \"\n"
     ]
    },
    {
     "name": "stdout",
     "output_type": "stream",
     "text": [
      "ARIMA(3, 0, 2)x(4, 1, 4, 7) - AIC:11421.571536959065\n"
     ]
    },
    {
     "name": "stderr",
     "output_type": "stream",
     "text": [
      "/opt/anaconda3/envs/learn-env/lib/python3.8/site-packages/statsmodels/base/model.py:604: ConvergenceWarning: Maximum Likelihood optimization failed to converge. Check mle_retvals\n",
      "  warnings.warn(\"Maximum Likelihood optimization failed to \"\n"
     ]
    },
    {
     "name": "stdout",
     "output_type": "stream",
     "text": [
      "ARIMA(3, 0, 3)x(0, 1, 0, 7) - AIC:12143.464352585757\n"
     ]
    },
    {
     "name": "stderr",
     "output_type": "stream",
     "text": [
      "/opt/anaconda3/envs/learn-env/lib/python3.8/site-packages/statsmodels/base/model.py:604: ConvergenceWarning: Maximum Likelihood optimization failed to converge. Check mle_retvals\n",
      "  warnings.warn(\"Maximum Likelihood optimization failed to \"\n"
     ]
    },
    {
     "name": "stdout",
     "output_type": "stream",
     "text": [
      "ARIMA(3, 0, 3)x(0, 1, 1, 7) - AIC:11616.333389793122\n"
     ]
    },
    {
     "name": "stderr",
     "output_type": "stream",
     "text": [
      "/opt/anaconda3/envs/learn-env/lib/python3.8/site-packages/statsmodels/base/model.py:604: ConvergenceWarning: Maximum Likelihood optimization failed to converge. Check mle_retvals\n",
      "  warnings.warn(\"Maximum Likelihood optimization failed to \"\n"
     ]
    },
    {
     "name": "stdout",
     "output_type": "stream",
     "text": [
      "ARIMA(3, 0, 3)x(0, 1, 2, 7) - AIC:11582.15305271787\n"
     ]
    },
    {
     "name": "stderr",
     "output_type": "stream",
     "text": [
      "/opt/anaconda3/envs/learn-env/lib/python3.8/site-packages/statsmodels/base/model.py:604: ConvergenceWarning: Maximum Likelihood optimization failed to converge. Check mle_retvals\n",
      "  warnings.warn(\"Maximum Likelihood optimization failed to \"\n"
     ]
    },
    {
     "name": "stdout",
     "output_type": "stream",
     "text": [
      "ARIMA(3, 0, 3)x(0, 1, 3, 7) - AIC:11488.359920085239\n"
     ]
    },
    {
     "name": "stderr",
     "output_type": "stream",
     "text": [
      "/opt/anaconda3/envs/learn-env/lib/python3.8/site-packages/statsmodels/base/model.py:604: ConvergenceWarning: Maximum Likelihood optimization failed to converge. Check mle_retvals\n",
      "  warnings.warn(\"Maximum Likelihood optimization failed to \"\n"
     ]
    },
    {
     "name": "stdout",
     "output_type": "stream",
     "text": [
      "ARIMA(3, 0, 3)x(0, 1, 4, 7) - AIC:11483.269005224922\n"
     ]
    },
    {
     "name": "stderr",
     "output_type": "stream",
     "text": [
      "/opt/anaconda3/envs/learn-env/lib/python3.8/site-packages/statsmodels/base/model.py:604: ConvergenceWarning: Maximum Likelihood optimization failed to converge. Check mle_retvals\n",
      "  warnings.warn(\"Maximum Likelihood optimization failed to \"\n"
     ]
    },
    {
     "name": "stdout",
     "output_type": "stream",
     "text": [
      "ARIMA(3, 0, 3)x(1, 1, 0, 7) - AIC:11892.835325929045\n"
     ]
    },
    {
     "name": "stderr",
     "output_type": "stream",
     "text": [
      "/opt/anaconda3/envs/learn-env/lib/python3.8/site-packages/statsmodels/base/model.py:604: ConvergenceWarning: Maximum Likelihood optimization failed to converge. Check mle_retvals\n",
      "  warnings.warn(\"Maximum Likelihood optimization failed to \"\n"
     ]
    },
    {
     "name": "stdout",
     "output_type": "stream",
     "text": [
      "ARIMA(3, 0, 3)x(1, 1, 1, 7) - AIC:11603.902768762324\n"
     ]
    },
    {
     "name": "stderr",
     "output_type": "stream",
     "text": [
      "/opt/anaconda3/envs/learn-env/lib/python3.8/site-packages/statsmodels/base/model.py:604: ConvergenceWarning: Maximum Likelihood optimization failed to converge. Check mle_retvals\n",
      "  warnings.warn(\"Maximum Likelihood optimization failed to \"\n"
     ]
    },
    {
     "name": "stdout",
     "output_type": "stream",
     "text": [
      "ARIMA(3, 0, 3)x(1, 1, 2, 7) - AIC:11567.253080259397\n"
     ]
    },
    {
     "name": "stderr",
     "output_type": "stream",
     "text": [
      "/opt/anaconda3/envs/learn-env/lib/python3.8/site-packages/statsmodels/base/model.py:604: ConvergenceWarning: Maximum Likelihood optimization failed to converge. Check mle_retvals\n",
      "  warnings.warn(\"Maximum Likelihood optimization failed to \"\n"
     ]
    },
    {
     "name": "stdout",
     "output_type": "stream",
     "text": [
      "ARIMA(3, 0, 3)x(1, 1, 3, 7) - AIC:11532.0209259853\n"
     ]
    },
    {
     "name": "stderr",
     "output_type": "stream",
     "text": [
      "/opt/anaconda3/envs/learn-env/lib/python3.8/site-packages/statsmodels/base/model.py:604: ConvergenceWarning: Maximum Likelihood optimization failed to converge. Check mle_retvals\n",
      "  warnings.warn(\"Maximum Likelihood optimization failed to \"\n"
     ]
    },
    {
     "name": "stdout",
     "output_type": "stream",
     "text": [
      "ARIMA(3, 0, 3)x(1, 1, 4, 7) - AIC:11456.21637129815\n"
     ]
    },
    {
     "name": "stderr",
     "output_type": "stream",
     "text": [
      "/opt/anaconda3/envs/learn-env/lib/python3.8/site-packages/statsmodels/base/model.py:604: ConvergenceWarning: Maximum Likelihood optimization failed to converge. Check mle_retvals\n",
      "  warnings.warn(\"Maximum Likelihood optimization failed to \"\n"
     ]
    },
    {
     "name": "stdout",
     "output_type": "stream",
     "text": [
      "ARIMA(3, 0, 3)x(2, 1, 0, 7) - AIC:11723.810464221324\n"
     ]
    },
    {
     "name": "stderr",
     "output_type": "stream",
     "text": [
      "/opt/anaconda3/envs/learn-env/lib/python3.8/site-packages/statsmodels/base/model.py:604: ConvergenceWarning: Maximum Likelihood optimization failed to converge. Check mle_retvals\n",
      "  warnings.warn(\"Maximum Likelihood optimization failed to \"\n"
     ]
    },
    {
     "name": "stdout",
     "output_type": "stream",
     "text": [
      "ARIMA(3, 0, 3)x(2, 1, 1, 7) - AIC:11602.45692562238\n"
     ]
    },
    {
     "name": "stderr",
     "output_type": "stream",
     "text": [
      "/opt/anaconda3/envs/learn-env/lib/python3.8/site-packages/statsmodels/base/model.py:604: ConvergenceWarning: Maximum Likelihood optimization failed to converge. Check mle_retvals\n",
      "  warnings.warn(\"Maximum Likelihood optimization failed to \"\n"
     ]
    },
    {
     "name": "stdout",
     "output_type": "stream",
     "text": [
      "ARIMA(3, 0, 3)x(2, 1, 2, 7) - AIC:11552.782309757642\n"
     ]
    },
    {
     "name": "stderr",
     "output_type": "stream",
     "text": [
      "/opt/anaconda3/envs/learn-env/lib/python3.8/site-packages/statsmodels/base/model.py:604: ConvergenceWarning: Maximum Likelihood optimization failed to converge. Check mle_retvals\n",
      "  warnings.warn(\"Maximum Likelihood optimization failed to \"\n"
     ]
    },
    {
     "name": "stdout",
     "output_type": "stream",
     "text": [
      "ARIMA(3, 0, 3)x(2, 1, 3, 7) - AIC:11544.204846665885\n"
     ]
    },
    {
     "name": "stderr",
     "output_type": "stream",
     "text": [
      "/opt/anaconda3/envs/learn-env/lib/python3.8/site-packages/statsmodels/base/model.py:604: ConvergenceWarning: Maximum Likelihood optimization failed to converge. Check mle_retvals\n",
      "  warnings.warn(\"Maximum Likelihood optimization failed to \"\n"
     ]
    },
    {
     "name": "stdout",
     "output_type": "stream",
     "text": [
      "ARIMA(3, 0, 3)x(2, 1, 4, 7) - AIC:11456.80531279766\n"
     ]
    },
    {
     "name": "stderr",
     "output_type": "stream",
     "text": [
      "/opt/anaconda3/envs/learn-env/lib/python3.8/site-packages/statsmodels/base/model.py:604: ConvergenceWarning: Maximum Likelihood optimization failed to converge. Check mle_retvals\n",
      "  warnings.warn(\"Maximum Likelihood optimization failed to \"\n"
     ]
    },
    {
     "name": "stdout",
     "output_type": "stream",
     "text": [
      "ARIMA(3, 0, 3)x(3, 1, 0, 7) - AIC:11621.109575529299\n"
     ]
    },
    {
     "name": "stderr",
     "output_type": "stream",
     "text": [
      "/opt/anaconda3/envs/learn-env/lib/python3.8/site-packages/statsmodels/base/model.py:604: ConvergenceWarning: Maximum Likelihood optimization failed to converge. Check mle_retvals\n",
      "  warnings.warn(\"Maximum Likelihood optimization failed to \"\n"
     ]
    },
    {
     "name": "stdout",
     "output_type": "stream",
     "text": [
      "ARIMA(3, 0, 3)x(3, 1, 1, 7) - AIC:11556.71235875028\n"
     ]
    },
    {
     "name": "stderr",
     "output_type": "stream",
     "text": [
      "/opt/anaconda3/envs/learn-env/lib/python3.8/site-packages/statsmodels/base/model.py:604: ConvergenceWarning: Maximum Likelihood optimization failed to converge. Check mle_retvals\n",
      "  warnings.warn(\"Maximum Likelihood optimization failed to \"\n"
     ]
    },
    {
     "name": "stdout",
     "output_type": "stream",
     "text": [
      "ARIMA(3, 0, 3)x(3, 1, 2, 7) - AIC:11501.422882570618\n",
      "ARIMA(3, 0, 3)x(3, 1, 3, 7) - AIC:11641.895260764944\n"
     ]
    }
   ],
   "source": [
    "# for param in pdq:\n",
    "#     for param_seasonal in seasonal_pdq:\n",
    "#         try:\n",
    "#             mod=SARIMAX(train,\n",
    "#                          order=param,\n",
    "#                          seasonal_order=param_seasonal,\n",
    "#                          enforce_stationarity=False,\n",
    "#                          enforce_invertibility=False)\n",
    "#             results = mod.fit()\n",
    "#             print('ARIMA{}x{} - AIC:{}'.format(param,param_seasonal,results.aic))\n",
    "#         except: \n",
    "#             print('Oops!')\n",
    "#             continue"
   ]
  },
  {
   "cell_type": "markdown",
   "metadata": {},
   "source": []
  },
  {
   "cell_type": "code",
   "execution_count": null,
   "metadata": {},
   "outputs": [],
   "source": [
    "sari_mod =SARIMAX(train,\n",
    "                  order=(4, 0, 4),\n",
    "                  seasonal_order=(4, 1, 4, 7),\n",
    "                  enforce_stationarity=False).fit()\n"
   ]
  },
  {
   "cell_type": "code",
   "execution_count": 68,
   "metadata": {},
   "outputs": [
    {
     "data": {
      "image/png": "[encoded data removed]",
      "text/plain": [
       "<Figure size 432x288 with 1 Axes>"
      ]
     },
     "metadata": {
      "needs_background": "light"
     },
     "output_type": "display_data"
    }
   ],
   "source": [
    "y_hat_train = sari_mod.predict()\n",
    "y_hat_test = sari_mod.predict(start=test.index[0], end=test.index[-1])\n",
    "\n",
    "fig, ax = plt.subplots()\n",
    "ax.plot(train, label='train')\n",
    "ax.plot(test, label='test')\n",
    "ax.plot(y_hat_train, label='train_pred')\n",
    "ax.plot(y_hat_test, label='test_pred')\n",
    "\n",
    "plt.legend();"
   ]
  },
  {
   "cell_type": "code",
   "execution_count": 71,
   "metadata": {},
   "outputs": [
    {
     "data": {
      "image/png": "[encoded data removed]",
      "text/plain": [
       "<Figure size 432x288 with 1 Axes>"
      ]
     },
     "metadata": {
      "needs_background": "light"
     },
     "output_type": "display_data"
    }
   ],
   "source": [
    "fig, ax = plt.subplots()\n",
    "\n",
    "ax.plot(test, label='true')\n",
    "ax.plot(y_hat_test, label='pred')\n",
    "\n",
    "plt.legend();"
   ]
  },
  {
   "cell_type": "code",
   "execution_count": 72,
   "metadata": {},
   "outputs": [
    {
     "data": {
      "text/plain": [
       "20.917577338704817"
      ]
     },
     "execution_count": 72,
     "metadata": {},
     "output_type": "execute_result"
    }
   ],
   "source": [
    "np.sqrt(mean_squared_error(test, y_hat_test))\n"
   ]
  },
  {
   "cell_type": "code",
   "execution_count": null,
   "metadata": {},
   "outputs": [],
   "source": [
    "sari_mod = SARIMAX(df_mk_7dwarfs_daily,\n",
    "                  order=(4, 0, 1),\n",
    "                  seasonal_order=(4, 0, 1, 365),\n",
    "                  enforce_stationarity=False,\n",
    "                  enforce_invertibility=False).fit()"
   ]
  },
  {
   "cell_type": "markdown",
   "metadata": {},
   "source": [
    "#### Forecast"
   ]
  },
  {
   "cell_type": "code",
   "execution_count": null,
   "metadata": {},
   "outputs": [],
   "source": [
    "forecast = sari_mod.forecast(steps=365)"
   ]
  },
  {
   "cell_type": "code",
   "execution_count": null,
   "metadata": {},
   "outputs": [],
   "source": [
    "fig, ax = plt.subplots(figsize=(15,8))\n",
    "\n",
    "ax.plot(df_mk_7dwarfs_daily, label='actual')\n",
    "ax.plot(forecast, label='forecast')\n",
    "ax.set_title('7 Dwarfs Mine Train Predictions')\n",
    "\n",
    "plt.legend();"
   ]
  },
  {
   "cell_type": "markdown",
   "metadata": {},
   "source": [
    "## Pirates of the Caribbean"
   ]
  },
  {
   "cell_type": "code",
   "execution_count": 67,
   "metadata": {},
   "outputs": [
    {
     "data": {
      "text/html": [
       "<div>\n",
       "<style scoped>\n",
       "    .dataframe tbody tr th:only-of-type {\n",
       "        vertical-align: middle;\n",
       "    }\n",
       "\n",
       "    .dataframe tbody tr th {\n",
       "        vertical-align: top;\n",
       "    }\n",
       "\n",
       "    .dataframe thead th {\n",
       "        text-align: right;\n",
       "    }\n",
       "</style>\n",
       "<table border=\"1\" class=\"dataframe\">\n",
       "  <thead>\n",
       "    <tr style=\"text-align: right;\">\n",
       "      <th></th>\n",
       "      <th>date</th>\n",
       "      <th>datetime</th>\n",
       "      <th>SACTMIN</th>\n",
       "      <th>SPOSTMIN</th>\n",
       "    </tr>\n",
       "  </thead>\n",
       "  <tbody>\n",
       "    <tr>\n",
       "      <th>0</th>\n",
       "      <td>01/01/2015</td>\n",
       "      <td>2015-01-01 08:27:58</td>\n",
       "      <td>NaN</td>\n",
       "      <td>-999.0</td>\n",
       "    </tr>\n",
       "    <tr>\n",
       "      <th>1</th>\n",
       "      <td>01/01/2015</td>\n",
       "      <td>2015-01-01 08:56:55</td>\n",
       "      <td>NaN</td>\n",
       "      <td>-999.0</td>\n",
       "    </tr>\n",
       "    <tr>\n",
       "      <th>2</th>\n",
       "      <td>01/01/2015</td>\n",
       "      <td>2015-01-01 08:57:38</td>\n",
       "      <td>NaN</td>\n",
       "      <td>-999.0</td>\n",
       "    </tr>\n",
       "    <tr>\n",
       "      <th>3</th>\n",
       "      <td>01/01/2015</td>\n",
       "      <td>2015-01-01 08:58:34</td>\n",
       "      <td>NaN</td>\n",
       "      <td>-999.0</td>\n",
       "    </tr>\n",
       "    <tr>\n",
       "      <th>4</th>\n",
       "      <td>01/01/2015</td>\n",
       "      <td>2015-01-01 09:24:55</td>\n",
       "      <td>NaN</td>\n",
       "      <td>-999.0</td>\n",
       "    </tr>\n",
       "    <tr>\n",
       "      <th>...</th>\n",
       "      <td>...</td>\n",
       "      <td>...</td>\n",
       "      <td>...</td>\n",
       "      <td>...</td>\n",
       "    </tr>\n",
       "    <tr>\n",
       "      <th>301941</th>\n",
       "      <td>12/28/2021</td>\n",
       "      <td>2021-12-28 22:35:34</td>\n",
       "      <td>NaN</td>\n",
       "      <td>5.0</td>\n",
       "    </tr>\n",
       "    <tr>\n",
       "      <th>301942</th>\n",
       "      <td>12/28/2021</td>\n",
       "      <td>2021-12-28 22:42:15</td>\n",
       "      <td>NaN</td>\n",
       "      <td>5.0</td>\n",
       "    </tr>\n",
       "    <tr>\n",
       "      <th>301943</th>\n",
       "      <td>12/28/2021</td>\n",
       "      <td>2021-12-28 22:48:12</td>\n",
       "      <td>NaN</td>\n",
       "      <td>5.0</td>\n",
       "    </tr>\n",
       "    <tr>\n",
       "      <th>301944</th>\n",
       "      <td>12/28/2021</td>\n",
       "      <td>2021-12-28 22:54:10</td>\n",
       "      <td>NaN</td>\n",
       "      <td>5.0</td>\n",
       "    </tr>\n",
       "    <tr>\n",
       "      <th>301945</th>\n",
       "      <td>12/28/2021</td>\n",
       "      <td>2021-12-28 23:00:27</td>\n",
       "      <td>NaN</td>\n",
       "      <td>5.0</td>\n",
       "    </tr>\n",
       "  </tbody>\n",
       "</table>\n",
       "<p>301946 rows × 4 columns</p>\n",
       "</div>"
      ],
      "text/plain": [
       "              date             datetime  SACTMIN  SPOSTMIN\n",
       "0       01/01/2015  2015-01-01 08:27:58      NaN    -999.0\n",
       "1       01/01/2015  2015-01-01 08:56:55      NaN    -999.0\n",
       "2       01/01/2015  2015-01-01 08:57:38      NaN    -999.0\n",
       "3       01/01/2015  2015-01-01 08:58:34      NaN    -999.0\n",
       "4       01/01/2015  2015-01-01 09:24:55      NaN    -999.0\n",
       "...            ...                  ...      ...       ...\n",
       "301941  12/28/2021  2021-12-28 22:35:34      NaN       5.0\n",
       "301942  12/28/2021  2021-12-28 22:42:15      NaN       5.0\n",
       "301943  12/28/2021  2021-12-28 22:48:12      NaN       5.0\n",
       "301944  12/28/2021  2021-12-28 22:54:10      NaN       5.0\n",
       "301945  12/28/2021  2021-12-28 23:00:27      NaN       5.0\n",
       "\n",
       "[301946 rows x 4 columns]"
      ]
     },
     "execution_count": 67,
     "metadata": {},
     "output_type": "execute_result"
    }
   ],
   "source": [
    "df_mk_pirates = pd.read_csv(\"data/pirates_of_caribbean.csv\")\n",
    "df_mk_pirates"
   ]
  },
  {
   "cell_type": "code",
   "execution_count": 68,
   "metadata": {},
   "outputs": [
    {
     "ename": "KeyError",
     "evalue": "-1",
     "output_type": "error",
     "traceback": [
      "\u001b[0;31m---------------------------------------------------------------------------\u001b[0m",
      "\u001b[0;31mValueError\u001b[0m                                Traceback (most recent call last)",
      "\u001b[0;32m/opt/anaconda3/envs/learn-env/lib/python3.8/site-packages/pandas/core/indexes/range.py\u001b[0m in \u001b[0;36mget_loc\u001b[0;34m(self, key, method, tolerance)\u001b[0m\n\u001b[1;32m    354\u001b[0m                 \u001b[0;32mtry\u001b[0m\u001b[0;34m:\u001b[0m\u001b[0;34m\u001b[0m\u001b[0;34m\u001b[0m\u001b[0m\n\u001b[0;32m--> 355\u001b[0;31m                     \u001b[0;32mreturn\u001b[0m \u001b[0mself\u001b[0m\u001b[0;34m.\u001b[0m\u001b[0m_range\u001b[0m\u001b[0;34m.\u001b[0m\u001b[0mindex\u001b[0m\u001b[0;34m(\u001b[0m\u001b[0mnew_key\u001b[0m\u001b[0;34m)\u001b[0m\u001b[0;34m\u001b[0m\u001b[0;34m\u001b[0m\u001b[0m\n\u001b[0m\u001b[1;32m    356\u001b[0m                 \u001b[0;32mexcept\u001b[0m \u001b[0mValueError\u001b[0m \u001b[0;32mas\u001b[0m \u001b[0merr\u001b[0m\u001b[0;34m:\u001b[0m\u001b[0;34m\u001b[0m\u001b[0;34m\u001b[0m\u001b[0m\n",
      "\u001b[0;31mValueError\u001b[0m: -1 is not in range",
      "\nThe above exception was the direct cause of the following exception:\n",
      "\u001b[0;31mKeyError\u001b[0m                                  Traceback (most recent call last)",
      "\u001b[0;32m<ipython-input-68-c434e7f887a1>\u001b[0m in \u001b[0;36m<module>\u001b[0;34m\u001b[0m\n\u001b[0;32m----> 1\u001b[0;31m \u001b[0mCleanNegatives\u001b[0m\u001b[0;34m(\u001b[0m\u001b[0mdf_mk_pirates\u001b[0m\u001b[0;34m,\u001b[0m\u001b[0;34m'SPOSTMIN'\u001b[0m\u001b[0;34m,\u001b[0m\u001b[0;34m'SPOSTMINClean'\u001b[0m\u001b[0;34m)\u001b[0m\u001b[0;34m\u001b[0m\u001b[0;34m\u001b[0m\u001b[0m\n\u001b[0m\u001b[1;32m      2\u001b[0m \u001b[0mprint\u001b[0m\u001b[0;34m(\u001b[0m\u001b[0mdf_mk_pirates\u001b[0m\u001b[0;34m)\u001b[0m\u001b[0;34m\u001b[0m\u001b[0;34m\u001b[0m\u001b[0m\n",
      "\u001b[0;32m<ipython-input-2-778444a50a5f>\u001b[0m in \u001b[0;36mCleanNegatives\u001b[0;34m(df, Tag, CleanName)\u001b[0m\n\u001b[1;32m      9\u001b[0m                 \u001b[0mEnd\u001b[0m \u001b[0;34m=\u001b[0m \u001b[0mIndex\u001b[0m\u001b[0;34m\u001b[0m\u001b[0;34m\u001b[0m\u001b[0m\n\u001b[1;32m     10\u001b[0m                 \u001b[0mInBlock\u001b[0m \u001b[0;34m=\u001b[0m \u001b[0;32mFalse\u001b[0m\u001b[0;34m\u001b[0m\u001b[0;34m\u001b[0m\u001b[0m\n\u001b[0;32m---> 11\u001b[0;31m                 \u001b[0mAVG\u001b[0m \u001b[0;34m=\u001b[0m \u001b[0;34m(\u001b[0m\u001b[0mClean\u001b[0m\u001b[0;34m[\u001b[0m\u001b[0mStart\u001b[0m\u001b[0;34m-\u001b[0m\u001b[0;36m1\u001b[0m\u001b[0;34m]\u001b[0m\u001b[0;34m+\u001b[0m\u001b[0mClean\u001b[0m\u001b[0;34m[\u001b[0m\u001b[0mEnd\u001b[0m\u001b[0;34m]\u001b[0m\u001b[0;34m)\u001b[0m\u001b[0;34m/\u001b[0m\u001b[0;36m2\u001b[0m\u001b[0;34m\u001b[0m\u001b[0;34m\u001b[0m\u001b[0m\n\u001b[0m\u001b[1;32m     12\u001b[0m                 \u001b[0;31m# Cleaning negatives, replacing by average at the endpoints of the block\u001b[0m\u001b[0;34m\u001b[0m\u001b[0;34m\u001b[0m\u001b[0;34m\u001b[0m\u001b[0m\n\u001b[1;32m     13\u001b[0m                 \u001b[0;32mfor\u001b[0m \u001b[0mNewIndex\u001b[0m \u001b[0;32min\u001b[0m \u001b[0mrange\u001b[0m\u001b[0;34m(\u001b[0m\u001b[0mStart\u001b[0m\u001b[0;34m,\u001b[0m\u001b[0mEnd\u001b[0m\u001b[0;34m)\u001b[0m\u001b[0;34m:\u001b[0m\u001b[0;34m\u001b[0m\u001b[0;34m\u001b[0m\u001b[0m\n",
      "\u001b[0;32m/opt/anaconda3/envs/learn-env/lib/python3.8/site-packages/pandas/core/series.py\u001b[0m in \u001b[0;36m__getitem__\u001b[0;34m(self, key)\u001b[0m\n\u001b[1;32m    880\u001b[0m \u001b[0;34m\u001b[0m\u001b[0m\n\u001b[1;32m    881\u001b[0m         \u001b[0;32melif\u001b[0m \u001b[0mkey_is_scalar\u001b[0m\u001b[0;34m:\u001b[0m\u001b[0;34m\u001b[0m\u001b[0;34m\u001b[0m\u001b[0m\n\u001b[0;32m--> 882\u001b[0;31m             \u001b[0;32mreturn\u001b[0m \u001b[0mself\u001b[0m\u001b[0;34m.\u001b[0m\u001b[0m_get_value\u001b[0m\u001b[0;34m(\u001b[0m\u001b[0mkey\u001b[0m\u001b[0;34m)\u001b[0m\u001b[0;34m\u001b[0m\u001b[0;34m\u001b[0m\u001b[0m\n\u001b[0m\u001b[1;32m    883\u001b[0m \u001b[0;34m\u001b[0m\u001b[0m\n\u001b[1;32m    884\u001b[0m         \u001b[0;32mif\u001b[0m \u001b[0mis_hashable\u001b[0m\u001b[0;34m(\u001b[0m\u001b[0mkey\u001b[0m\u001b[0;34m)\u001b[0m\u001b[0;34m:\u001b[0m\u001b[0;34m\u001b[0m\u001b[0;34m\u001b[0m\u001b[0m\n",
      "\u001b[0;32m/opt/anaconda3/envs/learn-env/lib/python3.8/site-packages/pandas/core/series.py\u001b[0m in \u001b[0;36m_get_value\u001b[0;34m(self, label, takeable)\u001b[0m\n\u001b[1;32m    987\u001b[0m \u001b[0;34m\u001b[0m\u001b[0m\n\u001b[1;32m    988\u001b[0m         \u001b[0;31m# Similar to Index.get_value, but we do not fall back to positional\u001b[0m\u001b[0;34m\u001b[0m\u001b[0;34m\u001b[0m\u001b[0;34m\u001b[0m\u001b[0m\n\u001b[0;32m--> 989\u001b[0;31m         \u001b[0mloc\u001b[0m \u001b[0;34m=\u001b[0m \u001b[0mself\u001b[0m\u001b[0;34m.\u001b[0m\u001b[0mindex\u001b[0m\u001b[0;34m.\u001b[0m\u001b[0mget_loc\u001b[0m\u001b[0;34m(\u001b[0m\u001b[0mlabel\u001b[0m\u001b[0;34m)\u001b[0m\u001b[0;34m\u001b[0m\u001b[0;34m\u001b[0m\u001b[0m\n\u001b[0m\u001b[1;32m    990\u001b[0m         \u001b[0;32mreturn\u001b[0m \u001b[0mself\u001b[0m\u001b[0;34m.\u001b[0m\u001b[0mindex\u001b[0m\u001b[0;34m.\u001b[0m\u001b[0m_get_values_for_loc\u001b[0m\u001b[0;34m(\u001b[0m\u001b[0mself\u001b[0m\u001b[0;34m,\u001b[0m \u001b[0mloc\u001b[0m\u001b[0;34m,\u001b[0m \u001b[0mlabel\u001b[0m\u001b[0;34m)\u001b[0m\u001b[0;34m\u001b[0m\u001b[0;34m\u001b[0m\u001b[0m\n\u001b[1;32m    991\u001b[0m \u001b[0;34m\u001b[0m\u001b[0m\n",
      "\u001b[0;32m/opt/anaconda3/envs/learn-env/lib/python3.8/site-packages/pandas/core/indexes/range.py\u001b[0m in \u001b[0;36mget_loc\u001b[0;34m(self, key, method, tolerance)\u001b[0m\n\u001b[1;32m    355\u001b[0m                     \u001b[0;32mreturn\u001b[0m \u001b[0mself\u001b[0m\u001b[0;34m.\u001b[0m\u001b[0m_range\u001b[0m\u001b[0;34m.\u001b[0m\u001b[0mindex\u001b[0m\u001b[0;34m(\u001b[0m\u001b[0mnew_key\u001b[0m\u001b[0;34m)\u001b[0m\u001b[0;34m\u001b[0m\u001b[0;34m\u001b[0m\u001b[0m\n\u001b[1;32m    356\u001b[0m                 \u001b[0;32mexcept\u001b[0m \u001b[0mValueError\u001b[0m \u001b[0;32mas\u001b[0m \u001b[0merr\u001b[0m\u001b[0;34m:\u001b[0m\u001b[0;34m\u001b[0m\u001b[0;34m\u001b[0m\u001b[0m\n\u001b[0;32m--> 357\u001b[0;31m                     \u001b[0;32mraise\u001b[0m \u001b[0mKeyError\u001b[0m\u001b[0;34m(\u001b[0m\u001b[0mkey\u001b[0m\u001b[0;34m)\u001b[0m \u001b[0;32mfrom\u001b[0m \u001b[0merr\u001b[0m\u001b[0;34m\u001b[0m\u001b[0;34m\u001b[0m\u001b[0m\n\u001b[0m\u001b[1;32m    358\u001b[0m             \u001b[0;32mraise\u001b[0m \u001b[0mKeyError\u001b[0m\u001b[0;34m(\u001b[0m\u001b[0mkey\u001b[0m\u001b[0;34m)\u001b[0m\u001b[0;34m\u001b[0m\u001b[0;34m\u001b[0m\u001b[0m\n\u001b[1;32m    359\u001b[0m         \u001b[0;32mreturn\u001b[0m \u001b[0msuper\u001b[0m\u001b[0;34m(\u001b[0m\u001b[0;34m)\u001b[0m\u001b[0;34m.\u001b[0m\u001b[0mget_loc\u001b[0m\u001b[0;34m(\u001b[0m\u001b[0mkey\u001b[0m\u001b[0;34m,\u001b[0m \u001b[0mmethod\u001b[0m\u001b[0;34m=\u001b[0m\u001b[0mmethod\u001b[0m\u001b[0;34m,\u001b[0m \u001b[0mtolerance\u001b[0m\u001b[0;34m=\u001b[0m\u001b[0mtolerance\u001b[0m\u001b[0;34m)\u001b[0m\u001b[0;34m\u001b[0m\u001b[0;34m\u001b[0m\u001b[0m\n",
      "\u001b[0;31mKeyError\u001b[0m: -1"
     ]
    }
   ],
   "source": [
    "CleanNegatives(df_mk_pirates,'SPOSTMIN','SPOSTMINClean')\n",
    "print(df_mk_pirates)"
   ]
  },
  {
   "cell_type": "code",
   "execution_count": null,
   "metadata": {},
   "outputs": [],
   "source": [
    "df_mk_pirates['datetime'] = pd.to_datetime(df_mk_pirates.datetime)\n",
    "df_mk_pirates.set_index('datetime', inplace=True)\n",
    "df_mk_pirates = df_mk_pirates['SPOSTMIN']\n",
    "df_mk_pirates"
   ]
  },
  {
   "cell_type": "code",
   "execution_count": null,
   "metadata": {},
   "outputs": [],
   "source": [
    "df_mk_pirates.isna().sum()"
   ]
  },
  {
   "cell_type": "code",
   "execution_count": null,
   "metadata": {},
   "outputs": [],
   "source": [
    "df_mk_pirates = df_mk_pirates.dropna()"
   ]
  },
  {
   "cell_type": "code",
   "execution_count": null,
   "metadata": {},
   "outputs": [],
   "source": [
    "df_mk_pirates_daily = df_mk_pirates.resample('D').mean()"
   ]
  },
  {
   "cell_type": "code",
   "execution_count": null,
   "metadata": {},
   "outputs": [],
   "source": [
    "df_mk_pirates_daily.plot(figsize=(15,8))"
   ]
  },
  {
   "cell_type": "markdown",
   "metadata": {},
   "source": [
    "### Splash Mountain"
   ]
  },
  {
   "cell_type": "code",
   "execution_count": null,
   "metadata": {},
   "outputs": [],
   "source": [
    "df_mk_splash = pd.read_csv(\"data/splash_mountain.csv\")\n",
    "df_mk_splash"
   ]
  },
  {
   "cell_type": "markdown",
   "metadata": {},
   "source": [
    "#### Cleaning up -999 values"
   ]
  },
  {
   "cell_type": "code",
   "execution_count": null,
   "metadata": {},
   "outputs": [],
   "source": [
    "CleanNegatives(df_mk_splash,'SPOSTMIN','SPOSTMINClean')\n",
    "print(df_mk_splash)"
   ]
  },
  {
   "cell_type": "markdown",
   "metadata": {},
   "source": [
    "#### Merging Columns"
   ]
  },
  {
   "cell_type": "code",
   "execution_count": null,
   "metadata": {},
   "outputs": [],
   "source": [
    "Cleanup(df_mk_splash,'SACTMIN','SPOSTMINClean','CleanTime')\n",
    "print(df_mk_splash)"
   ]
  },
  {
   "cell_type": "code",
   "execution_count": null,
   "metadata": {},
   "outputs": [],
   "source": [
    "df_mk_splash[df_mk_splash.CleanTime < 0]"
   ]
  },
  {
   "cell_type": "code",
   "execution_count": null,
   "metadata": {},
   "outputs": [],
   "source": [
    "df_mk_splash['datetime'] = pd.to_datetime(df_mk_splash.datetime)\n",
    "df_mk_splash.set_index('datetime', inplace=True)\n",
    "df_mk_splash = df_mk_splash['SPOSTMIN']\n",
    "df_mk_splash"
   ]
  },
  {
   "cell_type": "code",
   "execution_count": null,
   "metadata": {},
   "outputs": [],
   "source": [
    "df_mk_splash.isna().sum()"
   ]
  },
  {
   "cell_type": "code",
   "execution_count": null,
   "metadata": {},
   "outputs": [],
   "source": [
    "df_mk_splash = df_mk_splash.dropna()"
   ]
  },
  {
   "cell_type": "code",
   "execution_count": null,
   "metadata": {},
   "outputs": [],
   "source": [
    "df_mk_splash.isna().sum()"
   ]
  },
  {
   "cell_type": "code",
   "execution_count": null,
   "metadata": {},
   "outputs": [],
   "source": [
    "df_mk_splash_daily = df_mk_splash.resample('D').mean()"
   ]
  },
  {
   "cell_type": "code",
   "execution_count": null,
   "metadata": {},
   "outputs": [],
   "source": [
    "df_mk_splash_daily.plot(figsize=(15,8))"
   ]
  },
  {
   "cell_type": "code",
   "execution_count": null,
   "metadata": {},
   "outputs": [],
   "source": [
    "df_mk_splash_daily = df_mk_splash_daily.loc['2015-01-01 07:51:12':'2019-12-31 23:55:02']"
   ]
  },
  {
   "cell_type": "code",
   "execution_count": null,
   "metadata": {},
   "outputs": [],
   "source": [
    "df_mk_splash_daily = df_mk_splash_daily.ffill()"
   ]
  },
  {
   "cell_type": "code",
   "execution_count": null,
   "metadata": {},
   "outputs": [],
   "source": [
    "df_mk_splash_daily.isna().sum()"
   ]
  },
  {
   "cell_type": "code",
   "execution_count": null,
   "metadata": {},
   "outputs": [],
   "source": [
    "df_mk_splash_daily.plot()"
   ]
  },
  {
   "cell_type": "code",
   "execution_count": null,
   "metadata": {},
   "outputs": [],
   "source": [
    "pvalue = adfuller(df_mk_7dwarfs_daily)[1]\n",
    "is_stationary = pvalue<= .05\n",
    "\n",
    "is_stationary"
   ]
  },
  {
   "cell_type": "markdown",
   "metadata": {},
   "source": [
    "## ANIMAL KINGDOM"
   ]
  },
  {
   "cell_type": "markdown",
   "metadata": {},
   "source": [
    "### Dinosaur Ride"
   ]
  },
  {
   "cell_type": "code",
   "execution_count": null,
   "metadata": {},
   "outputs": [],
   "source": [
    "df_ak_dinosaur = pd.read_csv(\"data/dinosaur.csv\")\n",
    "df_ak_dinosaur"
   ]
  },
  {
   "cell_type": "code",
   "execution_count": null,
   "metadata": {},
   "outputs": [],
   "source": [
    "df_ak_dinosaur= df_ak_dinosaur[df_ak_dinosaur.SPOSTMIN != -999]\n",
    "df_ak_dinosaur"
   ]
  },
  {
   "cell_type": "code",
   "execution_count": null,
   "metadata": {},
   "outputs": [],
   "source": [
    "df_ak_dinosaur['datetime'] = pd.to_datetime(df_ak_dinosaur.datetime)\n",
    "df_ak_dinosaur.set_index('datetime', inplace=True)\n",
    "df_ak_dinosaur = df_ak_dinosaur['SPOSTMIN']\n",
    "df_ak_dinosaur"
   ]
  },
  {
   "cell_type": "code",
   "execution_count": null,
   "metadata": {},
   "outputs": [],
   "source": [
    "df_ak_dinosaur = df_ak_dinosaur.dropna()"
   ]
  },
  {
   "cell_type": "code",
   "execution_count": null,
   "metadata": {},
   "outputs": [],
   "source": [
    "df_ak_dinosaur.isna().sum()"
   ]
  },
  {
   "cell_type": "code",
   "execution_count": null,
   "metadata": {},
   "outputs": [],
   "source": [
    "df_ak_dinosaur_daily = df_ak_dinosaur.resample('D').mean()"
   ]
  },
  {
   "cell_type": "code",
   "execution_count": null,
   "metadata": {},
   "outputs": [],
   "source": [
    "df_ak_dinosaur_daily.plot(figsize=(15,8))"
   ]
  },
  {
   "cell_type": "markdown",
   "metadata": {},
   "source": [
    "### Expedition Everest"
   ]
  },
  {
   "cell_type": "code",
   "execution_count": null,
   "metadata": {
    "scrolled": true
   },
   "outputs": [],
   "source": [
    "df_ak_everest =pd.read_csv(\"data/expedition_everest.csv\")\n",
    "df_ak_everest"
   ]
  },
  {
   "cell_type": "code",
   "execution_count": null,
   "metadata": {},
   "outputs": [],
   "source": [
    "df_ak_everest = df_ak_everest[df_ak_everest.SPOSTMIN != -999]\n",
    "df_ak_everest"
   ]
  },
  {
   "cell_type": "code",
   "execution_count": null,
   "metadata": {},
   "outputs": [],
   "source": [
    "df_ak_everest['datetime'] = pd.to_datetime(df_ak_everest.datetime)\n",
    "df_ak_everest.set_index('datetime', inplace=True)\n",
    "df_ak_everest = df_ak_everest['SPOSTMIN']\n",
    "df_ak_everest"
   ]
  },
  {
   "cell_type": "code",
   "execution_count": null,
   "metadata": {},
   "outputs": [],
   "source": [
    "df_ak_everest = df_ak_everest.dropna()"
   ]
  },
  {
   "cell_type": "code",
   "execution_count": null,
   "metadata": {},
   "outputs": [],
   "source": [
    "df_ak_everest.isna().sum()"
   ]
  },
  {
   "cell_type": "code",
   "execution_count": null,
   "metadata": {},
   "outputs": [],
   "source": [
    "df_ak_everest_daily = df_ak_everest.resample('D').mean()"
   ]
  },
  {
   "cell_type": "code",
   "execution_count": null,
   "metadata": {},
   "outputs": [],
   "source": [
    "df_ak_everest_daily.plot(figsize=(15,8))"
   ]
  },
  {
   "cell_type": "markdown",
   "metadata": {},
   "source": [
    "### Kilimajaro Safaris"
   ]
  },
  {
   "cell_type": "code",
   "execution_count": null,
   "metadata": {},
   "outputs": [],
   "source": [
    "df_ak_safari =pd.read_csv(\"data/kilimanjaro_safaris.csv\")\n",
    "df_ak_safari"
   ]
  },
  {
   "cell_type": "code",
   "execution_count": null,
   "metadata": {},
   "outputs": [],
   "source": [
    "df_ak_safari = df_ak_safari[df_ak_safari.SPOSTMIN != -999]\n",
    "df_ak_safari"
   ]
  },
  {
   "cell_type": "code",
   "execution_count": null,
   "metadata": {},
   "outputs": [],
   "source": [
    "df_ak_safari['datetime'] = pd.to_datetime(df_ak_safari.datetime)\n",
    "df_ak_safari.set_index('datetime', inplace=True)\n",
    "df_ak_safari = df_ak_safari['SPOSTMIN']\n",
    "df_ak_safari"
   ]
  },
  {
   "cell_type": "code",
   "execution_count": null,
   "metadata": {},
   "outputs": [],
   "source": [
    "df_ak_safari = df_ak_safari.dropna()"
   ]
  },
  {
   "cell_type": "code",
   "execution_count": null,
   "metadata": {},
   "outputs": [],
   "source": [
    "df_ak_safari.isna().sum()"
   ]
  },
  {
   "cell_type": "code",
   "execution_count": null,
   "metadata": {},
   "outputs": [],
   "source": [
    "df_ak_safari_daily = df_ak_safari.resample('D').mean()"
   ]
  },
  {
   "cell_type": "code",
   "execution_count": null,
   "metadata": {},
   "outputs": [],
   "source": [
    "df_ak_safari_daily.plot(figsize=(15,8))"
   ]
  },
  {
   "cell_type": "markdown",
   "metadata": {},
   "source": [
    "### Navi River"
   ]
  },
  {
   "cell_type": "code",
   "execution_count": null,
   "metadata": {},
   "outputs": [],
   "source": [
    "df_ak_naviriver = pd.read_csv(\"data/navi_river.csv\")\n",
    "df_ak_naviriver"
   ]
  },
  {
   "cell_type": "code",
   "execution_count": null,
   "metadata": {},
   "outputs": [],
   "source": [
    "df_ak_naviriver = df_ak_naviriver[df_ak_naviriver.SPOSTMIN != -999]\n",
    "df_ak_naviriver"
   ]
  },
  {
   "cell_type": "code",
   "execution_count": null,
   "metadata": {},
   "outputs": [],
   "source": [
    "df_ak_naviriver['datetime'] = pd.to_datetime(df_ak_naviriver.datetime)\n",
    "df_ak_naviriver.set_index('datetime', inplace=True)\n",
    "df_ak_naviriver = df_ak_naviriver['SPOSTMIN']\n",
    "df_ak_naviriver"
   ]
  },
  {
   "cell_type": "code",
   "execution_count": null,
   "metadata": {},
   "outputs": [],
   "source": [
    "df_ak_naviriver = df_ak_naviriver.dropna()"
   ]
  },
  {
   "cell_type": "code",
   "execution_count": null,
   "metadata": {},
   "outputs": [],
   "source": [
    "df_ak_naviriver.isna().sum()"
   ]
  },
  {
   "cell_type": "code",
   "execution_count": null,
   "metadata": {},
   "outputs": [],
   "source": [
    "df_ak_naviriver_daily = df_ak_naviriver.resample('D').mean()"
   ]
  },
  {
   "cell_type": "code",
   "execution_count": null,
   "metadata": {},
   "outputs": [],
   "source": [
    "df_ak_naviriver_daily.plot(figsize=(15,8))"
   ]
  },
  {
   "cell_type": "markdown",
   "metadata": {},
   "source": [
    "## EPCOT"
   ]
  },
  {
   "cell_type": "markdown",
   "metadata": {},
   "source": [
    "### Soarin"
   ]
  },
  {
   "cell_type": "code",
   "execution_count": null,
   "metadata": {},
   "outputs": [],
   "source": [
    "df_ec_soarin = pd.read_csv(\"data/soarin.csv\")\n",
    "df_ec_soarin"
   ]
  },
  {
   "cell_type": "code",
   "execution_count": null,
   "metadata": {},
   "outputs": [],
   "source": [
    "df_ec_soarin = df_ec_soarin[df_ec_soarin.SPOSTMIN != -999]\n",
    "df_ec_soarin"
   ]
  },
  {
   "cell_type": "code",
   "execution_count": null,
   "metadata": {},
   "outputs": [],
   "source": [
    "df_ec_soarin['datetime'] = pd.to_datetime(df_ec_soarin.datetime)\n",
    "df_ec_soarin.set_index('datetime', inplace=True)\n",
    "df_ec_soarin = df_ec_soarin['SPOSTMIN']\n",
    "df_ec_soarin"
   ]
  },
  {
   "cell_type": "code",
   "execution_count": null,
   "metadata": {},
   "outputs": [],
   "source": [
    "df_ec_soarin.dropna()"
   ]
  },
  {
   "cell_type": "code",
   "execution_count": null,
   "metadata": {},
   "outputs": [],
   "source": [
    "df_ec_soarin.isna().sum()"
   ]
  },
  {
   "cell_type": "code",
   "execution_count": null,
   "metadata": {},
   "outputs": [],
   "source": [
    "df_ec_soarin_daily = df_ec_soarin.resample('D').mean()"
   ]
  },
  {
   "cell_type": "code",
   "execution_count": null,
   "metadata": {},
   "outputs": [],
   "source": [
    "df_ec_soarin_daily.plot(figsize=(15,8))"
   ]
  },
  {
   "cell_type": "markdown",
   "metadata": {},
   "source": [
    "### Spaceship Earth"
   ]
  },
  {
   "cell_type": "code",
   "execution_count": null,
   "metadata": {},
   "outputs": [],
   "source": [
    "df_ec_spaceship = pd.read_csv(\"data/spaceship_earth.csv\")\n",
    "df_ec_spaceship"
   ]
  },
  {
   "cell_type": "code",
   "execution_count": null,
   "metadata": {},
   "outputs": [],
   "source": [
    "df_ec_spaceship = df_ec_spaceship[df_ec_spaceship.SPOSTMIN != -999]\n",
    "df_ec_spaceship"
   ]
  },
  {
   "cell_type": "code",
   "execution_count": null,
   "metadata": {},
   "outputs": [],
   "source": [
    "df_ec_spaceship['datetime'] = pd.to_datetime(df_ec_spaceship.datetime)\n",
    "df_ec_spaceship.set_index('datetime', inplace=True)\n",
    "df_ec_spaceship = df_ec_spaceship['SPOSTMIN']\n",
    "df_ec_spaceship"
   ]
  },
  {
   "cell_type": "code",
   "execution_count": null,
   "metadata": {},
   "outputs": [],
   "source": [
    "df_ec_spaceship = df_ec_spaceship.dropna()"
   ]
  },
  {
   "cell_type": "code",
   "execution_count": null,
   "metadata": {},
   "outputs": [],
   "source": [
    "df_ec_spaceship.isna().sum()"
   ]
  },
  {
   "cell_type": "code",
   "execution_count": null,
   "metadata": {},
   "outputs": [],
   "source": [
    "df_ec_spaceship_daily = df_ec_spaceship.resample('D').mean()"
   ]
  },
  {
   "cell_type": "code",
   "execution_count": null,
   "metadata": {},
   "outputs": [],
   "source": [
    "df_ec_spaceship_daily.plot(figsize=(15,8))"
   ]
  },
  {
   "cell_type": "markdown",
   "metadata": {},
   "source": [
    "## HOLLYWOOD STUDIOS"
   ]
  },
  {
   "cell_type": "markdown",
   "metadata": {},
   "source": [
    "### Slinky Dog Ride"
   ]
  },
  {
   "cell_type": "code",
   "execution_count": null,
   "metadata": {},
   "outputs": [],
   "source": [
    "df_hs_slinky = pd.read_csv(\"data/slinky_dog.csv\")\n",
    "df_hs_slinky"
   ]
  },
  {
   "cell_type": "code",
   "execution_count": null,
   "metadata": {},
   "outputs": [],
   "source": [
    "df_hs_slinky = df_hs_slinky[df_hs_slinky.SPOSTMIN != -999]\n",
    "df_hs_slinky"
   ]
  },
  {
   "cell_type": "code",
   "execution_count": null,
   "metadata": {},
   "outputs": [],
   "source": [
    "df_hs_slinky['datetime'] = pd.to_datetime(df_hs_slinky.datetime)\n",
    "df_hs_slinky.set_index('datetime', inplace=True)\n",
    "df_hs_slinky = df_hs_slinky['SPOSTMIN']\n",
    "df_hs_slinky"
   ]
  },
  {
   "cell_type": "code",
   "execution_count": null,
   "metadata": {},
   "outputs": [],
   "source": [
    "df_hs_slinky = df_hs_slinky.dropna()"
   ]
  },
  {
   "cell_type": "code",
   "execution_count": null,
   "metadata": {},
   "outputs": [],
   "source": [
    "df_hs_slinky.isna().sum()"
   ]
  },
  {
   "cell_type": "code",
   "execution_count": null,
   "metadata": {},
   "outputs": [],
   "source": [
    "df_hs_slinky_daily = df_hs_slinky.resample('D').mean()"
   ]
  },
  {
   "cell_type": "code",
   "execution_count": null,
   "metadata": {},
   "outputs": [],
   "source": [
    "df_hs_slinky_daily.plot(figsize=(15,8))"
   ]
  },
  {
   "cell_type": "markdown",
   "metadata": {},
   "source": [
    "### Toy Story"
   ]
  },
  {
   "cell_type": "code",
   "execution_count": null,
   "metadata": {},
   "outputs": [],
   "source": [
    "df_hs_toystory = pd.read_csv(\"data/toy_story_mania.csv\")\n",
    "df_hs_toystory"
   ]
  },
  {
   "cell_type": "code",
   "execution_count": null,
   "metadata": {},
   "outputs": [],
   "source": [
    "df_hs_toystory = df_hs_toystory[df_hs_toystory.SPOSTMIN != -999]\n",
    "df_hs_toystory"
   ]
  },
  {
   "cell_type": "code",
   "execution_count": null,
   "metadata": {},
   "outputs": [],
   "source": [
    "df_hs_toystory['datetime'] = pd.to_datetime(df_hs_toystory.datetime)\n",
    "df_hs_toystory.set_index('datetime', inplace=True)\n",
    "df_hs_toystory = df_hs_toystory['SPOSTMIN']\n",
    "df_hs_toystory"
   ]
  },
  {
   "cell_type": "code",
   "execution_count": null,
   "metadata": {},
   "outputs": [],
   "source": [
    "df_hs_toystory = df_hs_toystory.dropna()"
   ]
  },
  {
   "cell_type": "code",
   "execution_count": null,
   "metadata": {},
   "outputs": [],
   "source": [
    "df_hs_toystory.isna().sum()"
   ]
  },
  {
   "cell_type": "code",
   "execution_count": null,
   "metadata": {},
   "outputs": [],
   "source": [
    "df_hs_toystory_daily = df_hs_toystory.resample('D').mean()"
   ]
  },
  {
   "cell_type": "code",
   "execution_count": null,
   "metadata": {},
   "outputs": [],
   "source": [
    "df_hs_toystory_daily.plot(figsize=(15,8))"
   ]
  },
  {
   "cell_type": "markdown",
   "metadata": {},
   "source": [
    "### Rock -n- Roller Coaster"
   ]
  },
  {
   "cell_type": "code",
   "execution_count": null,
   "metadata": {},
   "outputs": [],
   "source": [
    "df_hs_rockin = pd.read_csv('data/rock_n_rollercoaster.csv')\n",
    "df_hs_rockin "
   ]
  },
  {
   "cell_type": "code",
   "execution_count": null,
   "metadata": {},
   "outputs": [],
   "source": [
    "df_hs_rockin = df_hs_rockin [df_hs_rockin.SPOSTMIN != -999]\n",
    "df_hs_rockin "
   ]
  },
  {
   "cell_type": "code",
   "execution_count": null,
   "metadata": {},
   "outputs": [],
   "source": [
    "df_hs_rockin['datetime'] = pd.to_datetime(df_hs_rockin.datetime)\n",
    "df_hs_rockin.set_index('datetime', inplace=True)\n",
    "df_hs_rockin = df_hs_rockin['SPOSTMIN']\n",
    "df_hs_rockin"
   ]
  },
  {
   "cell_type": "code",
   "execution_count": null,
   "metadata": {},
   "outputs": [],
   "source": [
    "df_hs_rockin = df_hs_rockin.dropna()"
   ]
  },
  {
   "cell_type": "code",
   "execution_count": null,
   "metadata": {},
   "outputs": [],
   "source": [
    "df_hs_rockin.isna().sum()"
   ]
  },
  {
   "cell_type": "code",
   "execution_count": null,
   "metadata": {},
   "outputs": [],
   "source": [
    "df_hs_rockin_daily = df_hs_rockin.resample('D').mean()"
   ]
  },
  {
   "cell_type": "code",
   "execution_count": null,
   "metadata": {},
   "outputs": [],
   "source": [
    "df_hs_rockin_daily.plot(figsize=(15,8))"
   ]
  },
  {
   "cell_type": "markdown",
   "metadata": {},
   "source": [
    "### Entities for Rides"
   ]
  },
  {
   "cell_type": "code",
   "execution_count": null,
   "metadata": {},
   "outputs": [],
   "source": [
    "df_entities = pd.read_csv(\"data/entities.csv\")    \n",
    "df_entities"
   ]
  },
  {
   "cell_type": "markdown",
   "metadata": {},
   "source": [
    "### Medadata"
   ]
  },
  {
   "cell_type": "code",
   "execution_count": null,
   "metadata": {},
   "outputs": [],
   "source": [
    "df_metadata = pd.read_csv(\"data/metadata.csv\")\n",
    "df_metadata"
   ]
  },
  {
   "cell_type": "code",
   "execution_count": null,
   "metadata": {},
   "outputs": [],
   "source": []
  }
 ],
 "metadata": {
  "kernelspec": {
   "display_name": "Python 3",
   "language": "python",
   "name": "python3"
  },
  "language_info": {
   "codemirror_mode": {
    "name": "ipython",
    "version": 3
   },
   "file_extension": ".py",
   "mimetype": "text/x-python",
   "name": "python",
   "nbconvert_exporter": "python",
   "pygments_lexer": "ipython3",
   "version": "3.8.5"
  }
 },
 "nbformat": 4,
 "nbformat_minor": 4
}
